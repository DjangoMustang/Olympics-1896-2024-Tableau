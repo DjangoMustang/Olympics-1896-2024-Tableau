{
 "cells": [
  {
   "cell_type": "code",
   "execution_count": 1,
   "id": "426f9d00",
   "metadata": {
    "_cell_guid": "b1076dfc-b9ad-4769-8c92-a6c4dae69d19",
    "_uuid": "8f2839f25d086af736a60e9eeb907d3b93b6e0e5",
    "execution": {
     "iopub.execute_input": "2024-08-31T14:14:08.846836Z",
     "iopub.status.busy": "2024-08-31T14:14:08.846313Z",
     "iopub.status.idle": "2024-08-31T14:14:10.072094Z",
     "shell.execute_reply": "2024-08-31T14:14:10.070651Z"
    },
    "papermill": {
     "duration": 1.284633,
     "end_time": "2024-08-31T14:14:10.075490",
     "exception": false,
     "start_time": "2024-08-31T14:14:08.790857",
     "status": "completed"
    },
    "tags": []
   },
   "outputs": [
    {
     "name": "stdout",
     "output_type": "stream",
     "text": [
      "/kaggle/input/paris-2024-olympic-summer-games/nocs.csv\n",
      "/kaggle/input/paris-2024-olympic-summer-games/coaches.csv\n",
      "/kaggle/input/paris-2024-olympic-summer-games/medallists.csv\n",
      "/kaggle/input/paris-2024-olympic-summer-games/technical_officials.csv\n",
      "/kaggle/input/paris-2024-olympic-summer-games/teams.csv\n",
      "/kaggle/input/paris-2024-olympic-summer-games/torch_route.csv\n",
      "/kaggle/input/paris-2024-olympic-summer-games/schedules.csv\n",
      "/kaggle/input/paris-2024-olympic-summer-games/athletes.csv\n",
      "/kaggle/input/paris-2024-olympic-summer-games/venues.csv\n",
      "/kaggle/input/paris-2024-olympic-summer-games/schedules_preliminary.csv\n",
      "/kaggle/input/paris-2024-olympic-summer-games/medals_total.csv\n",
      "/kaggle/input/paris-2024-olympic-summer-games/events.csv\n",
      "/kaggle/input/paris-2024-olympic-summer-games/medals.csv\n",
      "/kaggle/input/paris-2024-olympic-summer-games/results/Rowing.csv\n",
      "/kaggle/input/paris-2024-olympic-summer-games/results/Table Tennis.csv\n",
      "/kaggle/input/paris-2024-olympic-summer-games/results/Water Polo.csv\n",
      "/kaggle/input/paris-2024-olympic-summer-games/results/Wrestling.csv\n",
      "/kaggle/input/paris-2024-olympic-summer-games/results/Shooting.csv\n",
      "/kaggle/input/paris-2024-olympic-summer-games/results/Cycling Road.csv\n",
      "/kaggle/input/paris-2024-olympic-summer-games/results/Basketball.csv\n",
      "/kaggle/input/paris-2024-olympic-summer-games/results/Triathlon.csv\n",
      "/kaggle/input/paris-2024-olympic-summer-games/results/Hockey.csv\n",
      "/kaggle/input/paris-2024-olympic-summer-games/results/Volleyball.csv\n",
      "/kaggle/input/paris-2024-olympic-summer-games/results/Marathon Swimming.csv\n",
      "/kaggle/input/paris-2024-olympic-summer-games/results/Diving.csv\n",
      "/kaggle/input/paris-2024-olympic-summer-games/results/Cycling Mountain Bike.csv\n",
      "/kaggle/input/paris-2024-olympic-summer-games/results/Swimming.csv\n",
      "/kaggle/input/paris-2024-olympic-summer-games/results/3x3 Basketball.csv\n",
      "/kaggle/input/paris-2024-olympic-summer-games/results/Judo.csv\n",
      "/kaggle/input/paris-2024-olympic-summer-games/results/Equestrian.csv\n",
      "/kaggle/input/paris-2024-olympic-summer-games/results/Archery.csv\n",
      "/kaggle/input/paris-2024-olympic-summer-games/results/Surfing.csv\n",
      "/kaggle/input/paris-2024-olympic-summer-games/results/Golf.csv\n",
      "/kaggle/input/paris-2024-olympic-summer-games/results/Artistic Swimming.csv\n",
      "/kaggle/input/paris-2024-olympic-summer-games/results/Handball.csv\n",
      "/kaggle/input/paris-2024-olympic-summer-games/results/Cycling BMX Racing.csv\n",
      "/kaggle/input/paris-2024-olympic-summer-games/results/Fencing.csv\n",
      "/kaggle/input/paris-2024-olympic-summer-games/results/Taekwondo.csv\n",
      "/kaggle/input/paris-2024-olympic-summer-games/results/Canoe Sprint.csv\n",
      "/kaggle/input/paris-2024-olympic-summer-games/results/Sport Climbing.csv\n",
      "/kaggle/input/paris-2024-olympic-summer-games/results/Cycling Track.csv\n",
      "/kaggle/input/paris-2024-olympic-summer-games/results/Skateboarding.csv\n",
      "/kaggle/input/paris-2024-olympic-summer-games/results/Football.csv\n",
      "/kaggle/input/paris-2024-olympic-summer-games/results/Canoe Slalom.csv\n",
      "/kaggle/input/paris-2024-olympic-summer-games/results/Boxing.csv\n",
      "/kaggle/input/paris-2024-olympic-summer-games/results/Modern Pentathlon.csv\n",
      "/kaggle/input/paris-2024-olympic-summer-games/results/Tennis.csv\n",
      "/kaggle/input/paris-2024-olympic-summer-games/results/Beach Volleyball.csv\n",
      "/kaggle/input/paris-2024-olympic-summer-games/results/Rugby Sevens.csv\n",
      "/kaggle/input/paris-2024-olympic-summer-games/results/Sailing.csv\n",
      "/kaggle/input/paris-2024-olympic-summer-games/results/Breaking.csv\n",
      "/kaggle/input/paris-2024-olympic-summer-games/results/Athletics.csv\n",
      "/kaggle/input/paris-2024-olympic-summer-games/results/Artistic Gymnastics.csv\n",
      "/kaggle/input/paris-2024-olympic-summer-games/results/Weightlifting.csv\n",
      "/kaggle/input/paris-2024-olympic-summer-games/results/Rhythmic Gymnastics.csv\n",
      "/kaggle/input/paris-2024-olympic-summer-games/results/Cycling BMX Freestyle.csv\n",
      "/kaggle/input/paris-2024-olympic-summer-games/results/Trampoline Gymnastics.csv\n",
      "/kaggle/input/paris-2024-olympic-summer-games/results/Badminton.csv\n",
      "/kaggle/input/olympic-games-medals-19862018/olympic_hosts.csv\n",
      "/kaggle/input/olympic-games-medals-19862018/olympic_medals.csv\n",
      "/kaggle/input/olympic-games-medals-19862018/olympic_results.csv\n",
      "/kaggle/input/olympic-games-medals-19862018/olympic_athletes.csv\n",
      "/kaggle/input/olympic-games-medals-19862018/olympic_results.pkl\n",
      "/kaggle/input/olympics-1896-2020/all_regions.csv\n",
      "/kaggle/input/olympics-1896-2020/all_athlete_games.csv\n",
      "/kaggle/input/olympics-1896-2020/updated_city_loc.csv\n"
     ]
    }
   ],
   "source": [
    "# This Python 3 environment comes with many helpful analytics libraries installed\n",
    "# It is defined by the kaggle/python Docker image: https://github.com/kaggle/docker-python\n",
    "# For example, here's several helpful packages to load\n",
    "\n",
    "import numpy as np # linear algebra\n",
    "import pandas as pd # data processing, CSV file I/O (e.g. pd.read_csv)\n",
    "\n",
    "# Input data files are available in the read-only \"../input/\" directory\n",
    "# For example, running this (by clicking run or pressing Shift+Enter) will list all files under the input directory\n",
    "\n",
    "import os\n",
    "for dirname, _, filenames in os.walk('/kaggle/input'):\n",
    "    for filename in filenames:\n",
    "        print(os.path.join(dirname, filename))\n",
    "\n",
    "# You can write up to 20GB to the current directory (/kaggle/working/) that gets preserved as output when you create a version using \"Save & Run All\" \n",
    "# You can also write temporary files to /kaggle/temp/, but they won't be saved outside of the current session"
   ]
  },
  {
   "cell_type": "code",
   "execution_count": 2,
   "id": "72e8d0c2",
   "metadata": {
    "execution": {
     "iopub.execute_input": "2024-08-31T14:14:10.179378Z",
     "iopub.status.busy": "2024-08-31T14:14:10.178688Z",
     "iopub.status.idle": "2024-08-31T14:14:12.196108Z",
     "shell.execute_reply": "2024-08-31T14:14:12.194920Z"
    },
    "papermill": {
     "duration": 2.073409,
     "end_time": "2024-08-31T14:14:12.199496",
     "exception": false,
     "start_time": "2024-08-31T14:14:10.126087",
     "status": "completed"
    },
    "tags": []
   },
   "outputs": [],
   "source": [
    "df_ath = pd.read_csv('/kaggle/input/olympic-games-medals-19862018/olympic_athletes.csv')\n",
    "df_rslt = pd.read_csv('/kaggle/input/olympic-games-medals-19862018/olympic_results.csv')\n",
    "df_medal = pd.read_csv('/kaggle/input/olympic-games-medals-19862018/olympic_medals.csv')\n",
    "df_host = pd.read_csv('/kaggle/input/olympic-games-medals-19862018/olympic_hosts.csv')"
   ]
  },
  {
   "cell_type": "code",
   "execution_count": 3,
   "id": "da43bebe",
   "metadata": {
    "execution": {
     "iopub.execute_input": "2024-08-31T14:14:12.302393Z",
     "iopub.status.busy": "2024-08-31T14:14:12.301870Z",
     "iopub.status.idle": "2024-08-31T14:14:12.310799Z",
     "shell.execute_reply": "2024-08-31T14:14:12.309651Z"
    },
    "papermill": {
     "duration": 0.063474,
     "end_time": "2024-08-31T14:14:12.313775",
     "exception": false,
     "start_time": "2024-08-31T14:14:12.250301",
     "status": "completed"
    },
    "tags": []
   },
   "outputs": [
    {
     "data": {
      "text/plain": [
       "(75904, 7)"
      ]
     },
     "execution_count": 3,
     "metadata": {},
     "output_type": "execute_result"
    }
   ],
   "source": [
    "df_ath.shape"
   ]
  },
  {
   "cell_type": "code",
   "execution_count": 4,
   "id": "4caf25c1",
   "metadata": {
    "execution": {
     "iopub.execute_input": "2024-08-31T14:14:12.414937Z",
     "iopub.status.busy": "2024-08-31T14:14:12.414475Z",
     "iopub.status.idle": "2024-08-31T14:14:12.441423Z",
     "shell.execute_reply": "2024-08-31T14:14:12.440123Z"
    },
    "papermill": {
     "duration": 0.081268,
     "end_time": "2024-08-31T14:14:12.444363",
     "exception": false,
     "start_time": "2024-08-31T14:14:12.363095",
     "status": "completed"
    },
    "tags": []
   },
   "outputs": [
    {
     "data": {
      "text/html": [
       "<div>\n",
       "<style scoped>\n",
       "    .dataframe tbody tr th:only-of-type {\n",
       "        vertical-align: middle;\n",
       "    }\n",
       "\n",
       "    .dataframe tbody tr th {\n",
       "        vertical-align: top;\n",
       "    }\n",
       "\n",
       "    .dataframe thead th {\n",
       "        text-align: right;\n",
       "    }\n",
       "</style>\n",
       "<table border=\"1\" class=\"dataframe\">\n",
       "  <thead>\n",
       "    <tr style=\"text-align: right;\">\n",
       "      <th></th>\n",
       "      <th>athlete_url</th>\n",
       "      <th>athlete_full_name</th>\n",
       "      <th>games_participations</th>\n",
       "      <th>first_game</th>\n",
       "      <th>athlete_year_birth</th>\n",
       "      <th>athlete_medals</th>\n",
       "      <th>bio</th>\n",
       "    </tr>\n",
       "  </thead>\n",
       "  <tbody>\n",
       "    <tr>\n",
       "      <th>0</th>\n",
       "      <td>https://olympics.com/en/athletes/cooper-woods-...</td>\n",
       "      <td>Cooper WOODS-TOPALOVIC</td>\n",
       "      <td>1</td>\n",
       "      <td>Beijing 2022</td>\n",
       "      <td>2000.0</td>\n",
       "      <td>NaN</td>\n",
       "      <td>NaN</td>\n",
       "    </tr>\n",
       "  </tbody>\n",
       "</table>\n",
       "</div>"
      ],
      "text/plain": [
       "                                         athlete_url       athlete_full_name  \\\n",
       "0  https://olympics.com/en/athletes/cooper-woods-...  Cooper WOODS-TOPALOVIC   \n",
       "\n",
       "   games_participations    first_game  athlete_year_birth athlete_medals  bio  \n",
       "0                     1  Beijing 2022              2000.0            NaN  NaN  "
      ]
     },
     "execution_count": 4,
     "metadata": {},
     "output_type": "execute_result"
    }
   ],
   "source": [
    "df_ath.head(1)"
   ]
  },
  {
   "cell_type": "code",
   "execution_count": 5,
   "id": "912f0181",
   "metadata": {
    "execution": {
     "iopub.execute_input": "2024-08-31T14:14:12.553122Z",
     "iopub.status.busy": "2024-08-31T14:14:12.552626Z",
     "iopub.status.idle": "2024-08-31T14:14:12.560485Z",
     "shell.execute_reply": "2024-08-31T14:14:12.559370Z"
    },
    "papermill": {
     "duration": 0.063851,
     "end_time": "2024-08-31T14:14:12.563143",
     "exception": false,
     "start_time": "2024-08-31T14:14:12.499292",
     "status": "completed"
    },
    "tags": []
   },
   "outputs": [
    {
     "data": {
      "text/plain": [
       "(162804, 15)"
      ]
     },
     "execution_count": 5,
     "metadata": {},
     "output_type": "execute_result"
    }
   ],
   "source": [
    "df_rslt.shape"
   ]
  },
  {
   "cell_type": "code",
   "execution_count": 6,
   "id": "f76ca825",
   "metadata": {
    "execution": {
     "iopub.execute_input": "2024-08-31T14:14:12.761395Z",
     "iopub.status.busy": "2024-08-31T14:14:12.760863Z",
     "iopub.status.idle": "2024-08-31T14:14:12.781784Z",
     "shell.execute_reply": "2024-08-31T14:14:12.780354Z"
    },
    "papermill": {
     "duration": 0.169667,
     "end_time": "2024-08-31T14:14:12.784767",
     "exception": false,
     "start_time": "2024-08-31T14:14:12.615100",
     "status": "completed"
    },
    "tags": []
   },
   "outputs": [
    {
     "data": {
      "text/html": [
       "<div>\n",
       "<style scoped>\n",
       "    .dataframe tbody tr th:only-of-type {\n",
       "        vertical-align: middle;\n",
       "    }\n",
       "\n",
       "    .dataframe tbody tr th {\n",
       "        vertical-align: top;\n",
       "    }\n",
       "\n",
       "    .dataframe thead th {\n",
       "        text-align: right;\n",
       "    }\n",
       "</style>\n",
       "<table border=\"1\" class=\"dataframe\">\n",
       "  <thead>\n",
       "    <tr style=\"text-align: right;\">\n",
       "      <th></th>\n",
       "      <th>discipline_title</th>\n",
       "      <th>event_title</th>\n",
       "      <th>slug_game</th>\n",
       "      <th>participant_type</th>\n",
       "      <th>medal_type</th>\n",
       "      <th>athletes</th>\n",
       "      <th>rank_equal</th>\n",
       "      <th>rank_position</th>\n",
       "      <th>country_name</th>\n",
       "      <th>country_code</th>\n",
       "      <th>country_3_letter_code</th>\n",
       "      <th>athlete_url</th>\n",
       "      <th>athlete_full_name</th>\n",
       "      <th>value_unit</th>\n",
       "      <th>value_type</th>\n",
       "    </tr>\n",
       "  </thead>\n",
       "  <tbody>\n",
       "    <tr>\n",
       "      <th>0</th>\n",
       "      <td>Curling</td>\n",
       "      <td>Mixed Doubles</td>\n",
       "      <td>beijing-2022</td>\n",
       "      <td>GameTeam</td>\n",
       "      <td>GOLD</td>\n",
       "      <td>[('Stefania CONSTANTINI', 'https://olympics.co...</td>\n",
       "      <td>False</td>\n",
       "      <td>1</td>\n",
       "      <td>Italy</td>\n",
       "      <td>IT</td>\n",
       "      <td>ITA</td>\n",
       "      <td>NaN</td>\n",
       "      <td>NaN</td>\n",
       "      <td>NaN</td>\n",
       "      <td>NaN</td>\n",
       "    </tr>\n",
       "    <tr>\n",
       "      <th>1</th>\n",
       "      <td>Curling</td>\n",
       "      <td>Mixed Doubles</td>\n",
       "      <td>beijing-2022</td>\n",
       "      <td>GameTeam</td>\n",
       "      <td>SILVER</td>\n",
       "      <td>[('Kristin SKASLIEN', 'https://olympics.com/en...</td>\n",
       "      <td>False</td>\n",
       "      <td>2</td>\n",
       "      <td>Norway</td>\n",
       "      <td>NO</td>\n",
       "      <td>NOR</td>\n",
       "      <td>NaN</td>\n",
       "      <td>NaN</td>\n",
       "      <td>NaN</td>\n",
       "      <td>NaN</td>\n",
       "    </tr>\n",
       "  </tbody>\n",
       "</table>\n",
       "</div>"
      ],
      "text/plain": [
       "  discipline_title    event_title     slug_game participant_type medal_type  \\\n",
       "0          Curling  Mixed Doubles  beijing-2022         GameTeam       GOLD   \n",
       "1          Curling  Mixed Doubles  beijing-2022         GameTeam     SILVER   \n",
       "\n",
       "                                            athletes rank_equal rank_position  \\\n",
       "0  [('Stefania CONSTANTINI', 'https://olympics.co...      False             1   \n",
       "1  [('Kristin SKASLIEN', 'https://olympics.com/en...      False             2   \n",
       "\n",
       "  country_name country_code country_3_letter_code athlete_url  \\\n",
       "0        Italy           IT                   ITA         NaN   \n",
       "1       Norway           NO                   NOR         NaN   \n",
       "\n",
       "  athlete_full_name value_unit value_type  \n",
       "0               NaN        NaN        NaN  \n",
       "1               NaN        NaN        NaN  "
      ]
     },
     "execution_count": 6,
     "metadata": {},
     "output_type": "execute_result"
    }
   ],
   "source": [
    "df_rslt.head(2)"
   ]
  },
  {
   "cell_type": "code",
   "execution_count": 7,
   "id": "9086a625",
   "metadata": {
    "execution": {
     "iopub.execute_input": "2024-08-31T14:14:12.889565Z",
     "iopub.status.busy": "2024-08-31T14:14:12.888532Z",
     "iopub.status.idle": "2024-08-31T14:14:12.895993Z",
     "shell.execute_reply": "2024-08-31T14:14:12.894910Z"
    },
    "papermill": {
     "duration": 0.062051,
     "end_time": "2024-08-31T14:14:12.898414",
     "exception": false,
     "start_time": "2024-08-31T14:14:12.836363",
     "status": "completed"
    },
    "tags": []
   },
   "outputs": [
    {
     "data": {
      "text/plain": [
       "(21697, 12)"
      ]
     },
     "execution_count": 7,
     "metadata": {},
     "output_type": "execute_result"
    }
   ],
   "source": [
    "df_medal.shape"
   ]
  },
  {
   "cell_type": "code",
   "execution_count": 8,
   "id": "6b32ff07",
   "metadata": {
    "execution": {
     "iopub.execute_input": "2024-08-31T14:14:13.004217Z",
     "iopub.status.busy": "2024-08-31T14:14:13.003755Z",
     "iopub.status.idle": "2024-08-31T14:14:13.021718Z",
     "shell.execute_reply": "2024-08-31T14:14:13.020447Z"
    },
    "papermill": {
     "duration": 0.074878,
     "end_time": "2024-08-31T14:14:13.024547",
     "exception": false,
     "start_time": "2024-08-31T14:14:12.949669",
     "status": "completed"
    },
    "tags": []
   },
   "outputs": [
    {
     "data": {
      "text/html": [
       "<div>\n",
       "<style scoped>\n",
       "    .dataframe tbody tr th:only-of-type {\n",
       "        vertical-align: middle;\n",
       "    }\n",
       "\n",
       "    .dataframe tbody tr th {\n",
       "        vertical-align: top;\n",
       "    }\n",
       "\n",
       "    .dataframe thead th {\n",
       "        text-align: right;\n",
       "    }\n",
       "</style>\n",
       "<table border=\"1\" class=\"dataframe\">\n",
       "  <thead>\n",
       "    <tr style=\"text-align: right;\">\n",
       "      <th></th>\n",
       "      <th>discipline_title</th>\n",
       "      <th>slug_game</th>\n",
       "      <th>event_title</th>\n",
       "      <th>event_gender</th>\n",
       "      <th>medal_type</th>\n",
       "      <th>participant_type</th>\n",
       "      <th>participant_title</th>\n",
       "      <th>athlete_url</th>\n",
       "      <th>athlete_full_name</th>\n",
       "      <th>country_name</th>\n",
       "      <th>country_code</th>\n",
       "      <th>country_3_letter_code</th>\n",
       "    </tr>\n",
       "  </thead>\n",
       "  <tbody>\n",
       "    <tr>\n",
       "      <th>0</th>\n",
       "      <td>Curling</td>\n",
       "      <td>beijing-2022</td>\n",
       "      <td>Mixed Doubles</td>\n",
       "      <td>Mixed</td>\n",
       "      <td>GOLD</td>\n",
       "      <td>GameTeam</td>\n",
       "      <td>Italy</td>\n",
       "      <td>https://olympics.com/en/athletes/stefania-cons...</td>\n",
       "      <td>Stefania CONSTANTINI</td>\n",
       "      <td>Italy</td>\n",
       "      <td>IT</td>\n",
       "      <td>ITA</td>\n",
       "    </tr>\n",
       "  </tbody>\n",
       "</table>\n",
       "</div>"
      ],
      "text/plain": [
       "  discipline_title     slug_game    event_title event_gender medal_type  \\\n",
       "0          Curling  beijing-2022  Mixed Doubles        Mixed       GOLD   \n",
       "\n",
       "  participant_type participant_title  \\\n",
       "0         GameTeam             Italy   \n",
       "\n",
       "                                         athlete_url     athlete_full_name  \\\n",
       "0  https://olympics.com/en/athletes/stefania-cons...  Stefania CONSTANTINI   \n",
       "\n",
       "  country_name country_code country_3_letter_code  \n",
       "0        Italy           IT                   ITA  "
      ]
     },
     "execution_count": 8,
     "metadata": {},
     "output_type": "execute_result"
    }
   ],
   "source": [
    "df_medal.head(1)"
   ]
  },
  {
   "cell_type": "code",
   "execution_count": 9,
   "id": "85bd6a19",
   "metadata": {
    "execution": {
     "iopub.execute_input": "2024-08-31T14:14:13.130942Z",
     "iopub.status.busy": "2024-08-31T14:14:13.130439Z",
     "iopub.status.idle": "2024-08-31T14:14:13.145074Z",
     "shell.execute_reply": "2024-08-31T14:14:13.143906Z"
    },
    "papermill": {
     "duration": 0.071011,
     "end_time": "2024-08-31T14:14:13.147900",
     "exception": false,
     "start_time": "2024-08-31T14:14:13.076889",
     "status": "completed"
    },
    "tags": []
   },
   "outputs": [
    {
     "data": {
      "text/html": [
       "<div>\n",
       "<style scoped>\n",
       "    .dataframe tbody tr th:only-of-type {\n",
       "        vertical-align: middle;\n",
       "    }\n",
       "\n",
       "    .dataframe tbody tr th {\n",
       "        vertical-align: top;\n",
       "    }\n",
       "\n",
       "    .dataframe thead th {\n",
       "        text-align: right;\n",
       "    }\n",
       "</style>\n",
       "<table border=\"1\" class=\"dataframe\">\n",
       "  <thead>\n",
       "    <tr style=\"text-align: right;\">\n",
       "      <th></th>\n",
       "      <th>game_slug</th>\n",
       "      <th>game_end_date</th>\n",
       "      <th>game_start_date</th>\n",
       "      <th>game_location</th>\n",
       "      <th>game_name</th>\n",
       "      <th>game_season</th>\n",
       "      <th>game_year</th>\n",
       "    </tr>\n",
       "  </thead>\n",
       "  <tbody>\n",
       "    <tr>\n",
       "      <th>0</th>\n",
       "      <td>beijing-2022</td>\n",
       "      <td>2022-02-20T12:00:00Z</td>\n",
       "      <td>2022-02-04T15:00:00Z</td>\n",
       "      <td>China</td>\n",
       "      <td>Beijing 2022</td>\n",
       "      <td>Winter</td>\n",
       "      <td>2022</td>\n",
       "    </tr>\n",
       "  </tbody>\n",
       "</table>\n",
       "</div>"
      ],
      "text/plain": [
       "      game_slug         game_end_date       game_start_date game_location  \\\n",
       "0  beijing-2022  2022-02-20T12:00:00Z  2022-02-04T15:00:00Z         China   \n",
       "\n",
       "      game_name game_season  game_year  \n",
       "0  Beijing 2022      Winter       2022  "
      ]
     },
     "execution_count": 9,
     "metadata": {},
     "output_type": "execute_result"
    }
   ],
   "source": [
    "df_host.head(1)"
   ]
  },
  {
   "cell_type": "markdown",
   "id": "1ebd5ad3",
   "metadata": {
    "papermill": {
     "duration": 0.051339,
     "end_time": "2024-08-31T14:14:13.251403",
     "exception": false,
     "start_time": "2024-08-31T14:14:13.200064",
     "status": "completed"
    },
    "tags": []
   },
   "source": [
    "## Which country hosted the olympics maximum times?"
   ]
  },
  {
   "cell_type": "code",
   "execution_count": 10,
   "id": "87998e69",
   "metadata": {
    "execution": {
     "iopub.execute_input": "2024-08-31T14:14:13.359982Z",
     "iopub.status.busy": "2024-08-31T14:14:13.358723Z",
     "iopub.status.idle": "2024-08-31T14:14:13.377109Z",
     "shell.execute_reply": "2024-08-31T14:14:13.375788Z"
    },
    "papermill": {
     "duration": 0.075393,
     "end_time": "2024-08-31T14:14:13.380175",
     "exception": false,
     "start_time": "2024-08-31T14:14:13.304782",
     "status": "completed"
    },
    "tags": []
   },
   "outputs": [
    {
     "data": {
      "text/plain": [
       "game_location\n",
       "United States    8\n",
       "Name: count, dtype: int64"
      ]
     },
     "execution_count": 10,
     "metadata": {},
     "output_type": "execute_result"
    }
   ],
   "source": [
    "df_host['game_location'].value_counts().head(1)"
   ]
  },
  {
   "cell_type": "markdown",
   "id": "d4db5bf1",
   "metadata": {
    "papermill": {
     "duration": 0.052117,
     "end_time": "2024-08-31T14:14:13.483935",
     "exception": false,
     "start_time": "2024-08-31T14:14:13.431818",
     "status": "completed"
    },
    "tags": []
   },
   "source": [
    "## Which male athlete won the maximum medals and in which sport?"
   ]
  },
  {
   "cell_type": "code",
   "execution_count": 11,
   "id": "d3031e8f",
   "metadata": {
    "execution": {
     "iopub.execute_input": "2024-08-31T14:14:13.590882Z",
     "iopub.status.busy": "2024-08-31T14:14:13.590381Z",
     "iopub.status.idle": "2024-08-31T14:14:13.598921Z",
     "shell.execute_reply": "2024-08-31T14:14:13.597712Z"
    },
    "papermill": {
     "duration": 0.065485,
     "end_time": "2024-08-31T14:14:13.601564",
     "exception": false,
     "start_time": "2024-08-31T14:14:13.536079",
     "status": "completed"
    },
    "tags": []
   },
   "outputs": [
    {
     "data": {
      "text/plain": [
       "Index(['discipline_title', 'slug_game', 'event_title', 'event_gender',\n",
       "       'medal_type', 'participant_type', 'participant_title', 'athlete_url',\n",
       "       'athlete_full_name', 'country_name', 'country_code',\n",
       "       'country_3_letter_code'],\n",
       "      dtype='object')"
      ]
     },
     "execution_count": 11,
     "metadata": {},
     "output_type": "execute_result"
    }
   ],
   "source": [
    "df_medal.columns"
   ]
  },
  {
   "cell_type": "code",
   "execution_count": 12,
   "id": "ec7a003f",
   "metadata": {
    "execution": {
     "iopub.execute_input": "2024-08-31T14:14:13.709258Z",
     "iopub.status.busy": "2024-08-31T14:14:13.708833Z",
     "iopub.status.idle": "2024-08-31T14:14:13.726781Z",
     "shell.execute_reply": "2024-08-31T14:14:13.725239Z"
    },
    "papermill": {
     "duration": 0.075433,
     "end_time": "2024-08-31T14:14:13.730891",
     "exception": false,
     "start_time": "2024-08-31T14:14:13.655458",
     "status": "completed"
    },
    "tags": []
   },
   "outputs": [],
   "source": [
    "df_medal_men = df_medal[df_medal['event_gender'] == 'Men']"
   ]
  },
  {
   "cell_type": "code",
   "execution_count": 13,
   "id": "988a9de2",
   "metadata": {
    "execution": {
     "iopub.execute_input": "2024-08-31T14:14:13.842054Z",
     "iopub.status.busy": "2024-08-31T14:14:13.841589Z",
     "iopub.status.idle": "2024-08-31T14:14:13.859163Z",
     "shell.execute_reply": "2024-08-31T14:14:13.858072Z"
    },
    "papermill": {
     "duration": 0.075329,
     "end_time": "2024-08-31T14:14:13.861837",
     "exception": false,
     "start_time": "2024-08-31T14:14:13.786508",
     "status": "completed"
    },
    "tags": []
   },
   "outputs": [
    {
     "data": {
      "text/plain": [
       "athlete_full_name\n",
       "Michael PHELPS       16\n",
       "Nikolay ANDRIANOV    12\n",
       "Alexei NEMOV         10\n",
       "Takashi ONO          10\n",
       "Boris SHAKHLIN       10\n",
       "Name: count, dtype: int64"
      ]
     },
     "execution_count": 13,
     "metadata": {},
     "output_type": "execute_result"
    }
   ],
   "source": [
    "df_medal_men['athlete_full_name'].value_counts().head()"
   ]
  },
  {
   "cell_type": "code",
   "execution_count": 14,
   "id": "d5809a47",
   "metadata": {
    "execution": {
     "iopub.execute_input": "2024-08-31T14:14:13.968448Z",
     "iopub.status.busy": "2024-08-31T14:14:13.967988Z",
     "iopub.status.idle": "2024-08-31T14:14:13.976515Z",
     "shell.execute_reply": "2024-08-31T14:14:13.975271Z"
    },
    "papermill": {
     "duration": 0.065019,
     "end_time": "2024-08-31T14:14:13.979210",
     "exception": false,
     "start_time": "2024-08-31T14:14:13.914191",
     "status": "completed"
    },
    "tags": []
   },
   "outputs": [
    {
     "data": {
      "text/plain": [
       "Index(['discipline_title', 'event_title', 'slug_game', 'participant_type',\n",
       "       'medal_type', 'athletes', 'rank_equal', 'rank_position', 'country_name',\n",
       "       'country_code', 'country_3_letter_code', 'athlete_url',\n",
       "       'athlete_full_name', 'value_unit', 'value_type'],\n",
       "      dtype='object')"
      ]
     },
     "execution_count": 14,
     "metadata": {},
     "output_type": "execute_result"
    }
   ],
   "source": [
    "df_rslt.columns"
   ]
  },
  {
   "cell_type": "code",
   "execution_count": 15,
   "id": "9e135e90",
   "metadata": {
    "execution": {
     "iopub.execute_input": "2024-08-31T14:14:14.088305Z",
     "iopub.status.busy": "2024-08-31T14:14:14.087828Z",
     "iopub.status.idle": "2024-08-31T14:14:14.144762Z",
     "shell.execute_reply": "2024-08-31T14:14:14.143561Z"
    },
    "papermill": {
     "duration": 0.115429,
     "end_time": "2024-08-31T14:14:14.147922",
     "exception": false,
     "start_time": "2024-08-31T14:14:14.032493",
     "status": "completed"
    },
    "tags": []
   },
   "outputs": [
    {
     "data": {
      "text/html": [
       "<div>\n",
       "<style scoped>\n",
       "    .dataframe tbody tr th:only-of-type {\n",
       "        vertical-align: middle;\n",
       "    }\n",
       "\n",
       "    .dataframe tbody tr th {\n",
       "        vertical-align: top;\n",
       "    }\n",
       "\n",
       "    .dataframe thead th {\n",
       "        text-align: right;\n",
       "    }\n",
       "</style>\n",
       "<table border=\"1\" class=\"dataframe\">\n",
       "  <thead>\n",
       "    <tr style=\"text-align: right;\">\n",
       "      <th></th>\n",
       "      <th>discipline_title</th>\n",
       "      <th>event_title</th>\n",
       "      <th>slug_game</th>\n",
       "      <th>participant_type</th>\n",
       "      <th>medal_type</th>\n",
       "      <th>athletes</th>\n",
       "      <th>rank_equal</th>\n",
       "      <th>rank_position</th>\n",
       "      <th>country_name</th>\n",
       "      <th>country_code</th>\n",
       "      <th>country_3_letter_code</th>\n",
       "      <th>athlete_url</th>\n",
       "      <th>athlete_full_name</th>\n",
       "      <th>value_unit</th>\n",
       "      <th>value_type</th>\n",
       "    </tr>\n",
       "  </thead>\n",
       "  <tbody>\n",
       "    <tr>\n",
       "      <th>20512</th>\n",
       "      <td>Swimming</td>\n",
       "      <td>200m individual medley men</td>\n",
       "      <td>rio-2016</td>\n",
       "      <td>Athlete</td>\n",
       "      <td>GOLD</td>\n",
       "      <td>NaN</td>\n",
       "      <td>NaN</td>\n",
       "      <td>1</td>\n",
       "      <td>United States of America</td>\n",
       "      <td>US</td>\n",
       "      <td>USA</td>\n",
       "      <td>https://olympics.com/en/athletes/michael-phelp...</td>\n",
       "      <td>Michael PHELPS</td>\n",
       "      <td>114660</td>\n",
       "      <td>TIME</td>\n",
       "    </tr>\n",
       "    <tr>\n",
       "      <th>20861</th>\n",
       "      <td>Swimming</td>\n",
       "      <td>200m butterfly men</td>\n",
       "      <td>rio-2016</td>\n",
       "      <td>Athlete</td>\n",
       "      <td>GOLD</td>\n",
       "      <td>NaN</td>\n",
       "      <td>NaN</td>\n",
       "      <td>1</td>\n",
       "      <td>United States of America</td>\n",
       "      <td>US</td>\n",
       "      <td>USA</td>\n",
       "      <td>https://olympics.com/en/athletes/michael-phelp...</td>\n",
       "      <td>Michael PHELPS</td>\n",
       "      <td>113360</td>\n",
       "      <td>TIME</td>\n",
       "    </tr>\n",
       "    <tr>\n",
       "      <th>21272</th>\n",
       "      <td>Swimming</td>\n",
       "      <td>100m butterfly men</td>\n",
       "      <td>rio-2016</td>\n",
       "      <td>Athlete</td>\n",
       "      <td>SILVER</td>\n",
       "      <td>NaN</td>\n",
       "      <td>True</td>\n",
       "      <td>2</td>\n",
       "      <td>United States of America</td>\n",
       "      <td>US</td>\n",
       "      <td>USA</td>\n",
       "      <td>https://olympics.com/en/athletes/michael-phelp...</td>\n",
       "      <td>Michael PHELPS</td>\n",
       "      <td>51140</td>\n",
       "      <td>TIME</td>\n",
       "    </tr>\n",
       "    <tr>\n",
       "      <th>25737</th>\n",
       "      <td>Swimming</td>\n",
       "      <td>100m butterfly men</td>\n",
       "      <td>london-2012</td>\n",
       "      <td>Athlete</td>\n",
       "      <td>GOLD</td>\n",
       "      <td>NaN</td>\n",
       "      <td>NaN</td>\n",
       "      <td>1</td>\n",
       "      <td>United States of America</td>\n",
       "      <td>US</td>\n",
       "      <td>USA</td>\n",
       "      <td>https://olympics.com/en/athletes/michael-phelp...</td>\n",
       "      <td>Michael PHELPS</td>\n",
       "      <td>51210</td>\n",
       "      <td>TIME</td>\n",
       "    </tr>\n",
       "    <tr>\n",
       "      <th>26152</th>\n",
       "      <td>Swimming</td>\n",
       "      <td>400m individual medley men</td>\n",
       "      <td>london-2012</td>\n",
       "      <td>Athlete</td>\n",
       "      <td>NaN</td>\n",
       "      <td>NaN</td>\n",
       "      <td>NaN</td>\n",
       "      <td>4</td>\n",
       "      <td>United States of America</td>\n",
       "      <td>US</td>\n",
       "      <td>USA</td>\n",
       "      <td>https://olympics.com/en/athletes/michael-phelp...</td>\n",
       "      <td>Michael PHELPS</td>\n",
       "      <td>249280</td>\n",
       "      <td>TIME</td>\n",
       "    </tr>\n",
       "    <tr>\n",
       "      <th>26273</th>\n",
       "      <td>Swimming</td>\n",
       "      <td>200m individual medley men</td>\n",
       "      <td>london-2012</td>\n",
       "      <td>Athlete</td>\n",
       "      <td>GOLD</td>\n",
       "      <td>NaN</td>\n",
       "      <td>NaN</td>\n",
       "      <td>1</td>\n",
       "      <td>United States of America</td>\n",
       "      <td>US</td>\n",
       "      <td>USA</td>\n",
       "      <td>https://olympics.com/en/athletes/michael-phelp...</td>\n",
       "      <td>Michael PHELPS</td>\n",
       "      <td>114270</td>\n",
       "      <td>TIME</td>\n",
       "    </tr>\n",
       "    <tr>\n",
       "      <th>26645</th>\n",
       "      <td>Swimming</td>\n",
       "      <td>200m butterfly men</td>\n",
       "      <td>london-2012</td>\n",
       "      <td>Athlete</td>\n",
       "      <td>SILVER</td>\n",
       "      <td>NaN</td>\n",
       "      <td>NaN</td>\n",
       "      <td>2</td>\n",
       "      <td>United States of America</td>\n",
       "      <td>US</td>\n",
       "      <td>USA</td>\n",
       "      <td>https://olympics.com/en/athletes/michael-phelp...</td>\n",
       "      <td>Michael PHELPS</td>\n",
       "      <td>113010</td>\n",
       "      <td>TIME</td>\n",
       "    </tr>\n",
       "    <tr>\n",
       "      <th>42289</th>\n",
       "      <td>Swimming</td>\n",
       "      <td>200m individual medley men</td>\n",
       "      <td>beijing-2008</td>\n",
       "      <td>Athlete</td>\n",
       "      <td>GOLD</td>\n",
       "      <td>NaN</td>\n",
       "      <td>NaN</td>\n",
       "      <td>1</td>\n",
       "      <td>United States of America</td>\n",
       "      <td>US</td>\n",
       "      <td>USA</td>\n",
       "      <td>https://olympics.com/en/athletes/michael-phelp...</td>\n",
       "      <td>Michael PHELPS</td>\n",
       "      <td>114230</td>\n",
       "      <td>TIME</td>\n",
       "    </tr>\n",
       "    <tr>\n",
       "      <th>42564</th>\n",
       "      <td>Swimming</td>\n",
       "      <td>100m butterfly men</td>\n",
       "      <td>beijing-2008</td>\n",
       "      <td>Athlete</td>\n",
       "      <td>GOLD</td>\n",
       "      <td>NaN</td>\n",
       "      <td>NaN</td>\n",
       "      <td>1</td>\n",
       "      <td>United States of America</td>\n",
       "      <td>US</td>\n",
       "      <td>USA</td>\n",
       "      <td>https://olympics.com/en/athletes/michael-phelp...</td>\n",
       "      <td>Michael PHELPS</td>\n",
       "      <td>50580</td>\n",
       "      <td>TIME</td>\n",
       "    </tr>\n",
       "    <tr>\n",
       "      <th>43189</th>\n",
       "      <td>Swimming</td>\n",
       "      <td>200m butterfly men</td>\n",
       "      <td>beijing-2008</td>\n",
       "      <td>Athlete</td>\n",
       "      <td>GOLD</td>\n",
       "      <td>NaN</td>\n",
       "      <td>NaN</td>\n",
       "      <td>1</td>\n",
       "      <td>United States of America</td>\n",
       "      <td>US</td>\n",
       "      <td>USA</td>\n",
       "      <td>https://olympics.com/en/athletes/michael-phelp...</td>\n",
       "      <td>Michael PHELPS</td>\n",
       "      <td>112030</td>\n",
       "      <td>TIME</td>\n",
       "    </tr>\n",
       "    <tr>\n",
       "      <th>43379</th>\n",
       "      <td>Swimming</td>\n",
       "      <td>400m individual medley men</td>\n",
       "      <td>beijing-2008</td>\n",
       "      <td>Athlete</td>\n",
       "      <td>GOLD</td>\n",
       "      <td>NaN</td>\n",
       "      <td>NaN</td>\n",
       "      <td>1</td>\n",
       "      <td>United States of America</td>\n",
       "      <td>US</td>\n",
       "      <td>USA</td>\n",
       "      <td>https://olympics.com/en/athletes/michael-phelp...</td>\n",
       "      <td>Michael PHELPS</td>\n",
       "      <td>243840</td>\n",
       "      <td>TIME</td>\n",
       "    </tr>\n",
       "    <tr>\n",
       "      <th>43408</th>\n",
       "      <td>Swimming</td>\n",
       "      <td>200m freestyle men</td>\n",
       "      <td>beijing-2008</td>\n",
       "      <td>Athlete</td>\n",
       "      <td>GOLD</td>\n",
       "      <td>NaN</td>\n",
       "      <td>NaN</td>\n",
       "      <td>1</td>\n",
       "      <td>United States of America</td>\n",
       "      <td>US</td>\n",
       "      <td>USA</td>\n",
       "      <td>https://olympics.com/en/athletes/michael-phelp...</td>\n",
       "      <td>Michael PHELPS</td>\n",
       "      <td>102960</td>\n",
       "      <td>TIME</td>\n",
       "    </tr>\n",
       "    <tr>\n",
       "      <th>49546</th>\n",
       "      <td>Swimming</td>\n",
       "      <td>200m butterfly men</td>\n",
       "      <td>athens-2004</td>\n",
       "      <td>Athlete</td>\n",
       "      <td>GOLD</td>\n",
       "      <td>NaN</td>\n",
       "      <td>NaN</td>\n",
       "      <td>1</td>\n",
       "      <td>United States of America</td>\n",
       "      <td>US</td>\n",
       "      <td>USA</td>\n",
       "      <td>https://olympics.com/en/athletes/michael-phelp...</td>\n",
       "      <td>Michael PHELPS</td>\n",
       "      <td>114040</td>\n",
       "      <td>TIME</td>\n",
       "    </tr>\n",
       "    <tr>\n",
       "      <th>49585</th>\n",
       "      <td>Swimming</td>\n",
       "      <td>100m butterfly men</td>\n",
       "      <td>athens-2004</td>\n",
       "      <td>Athlete</td>\n",
       "      <td>GOLD</td>\n",
       "      <td>NaN</td>\n",
       "      <td>NaN</td>\n",
       "      <td>1</td>\n",
       "      <td>United States of America</td>\n",
       "      <td>US</td>\n",
       "      <td>USA</td>\n",
       "      <td>https://olympics.com/en/athletes/michael-phelp...</td>\n",
       "      <td>Michael PHELPS</td>\n",
       "      <td>51250</td>\n",
       "      <td>TIME</td>\n",
       "    </tr>\n",
       "    <tr>\n",
       "      <th>49878</th>\n",
       "      <td>Swimming</td>\n",
       "      <td>400m individual medley men</td>\n",
       "      <td>athens-2004</td>\n",
       "      <td>Athlete</td>\n",
       "      <td>GOLD</td>\n",
       "      <td>NaN</td>\n",
       "      <td>NaN</td>\n",
       "      <td>1</td>\n",
       "      <td>United States of America</td>\n",
       "      <td>US</td>\n",
       "      <td>USA</td>\n",
       "      <td>https://olympics.com/en/athletes/michael-phelp...</td>\n",
       "      <td>Michael PHELPS</td>\n",
       "      <td>248260</td>\n",
       "      <td>TIME</td>\n",
       "    </tr>\n",
       "    <tr>\n",
       "      <th>49916</th>\n",
       "      <td>Swimming</td>\n",
       "      <td>200m freestyle men</td>\n",
       "      <td>athens-2004</td>\n",
       "      <td>Athlete</td>\n",
       "      <td>BRONZE</td>\n",
       "      <td>NaN</td>\n",
       "      <td>NaN</td>\n",
       "      <td>3</td>\n",
       "      <td>United States of America</td>\n",
       "      <td>US</td>\n",
       "      <td>USA</td>\n",
       "      <td>https://olympics.com/en/athletes/michael-phelp...</td>\n",
       "      <td>Michael PHELPS</td>\n",
       "      <td>105320</td>\n",
       "      <td>TIME</td>\n",
       "    </tr>\n",
       "    <tr>\n",
       "      <th>50216</th>\n",
       "      <td>Swimming</td>\n",
       "      <td>200m individual medley men</td>\n",
       "      <td>athens-2004</td>\n",
       "      <td>Athlete</td>\n",
       "      <td>GOLD</td>\n",
       "      <td>NaN</td>\n",
       "      <td>NaN</td>\n",
       "      <td>1</td>\n",
       "      <td>United States of America</td>\n",
       "      <td>US</td>\n",
       "      <td>USA</td>\n",
       "      <td>https://olympics.com/en/athletes/michael-phelp...</td>\n",
       "      <td>Michael PHELPS</td>\n",
       "      <td>117140</td>\n",
       "      <td>TIME</td>\n",
       "    </tr>\n",
       "    <tr>\n",
       "      <th>63548</th>\n",
       "      <td>Swimming</td>\n",
       "      <td>200m butterfly men</td>\n",
       "      <td>sydney-2000</td>\n",
       "      <td>Athlete</td>\n",
       "      <td>NaN</td>\n",
       "      <td>NaN</td>\n",
       "      <td>NaN</td>\n",
       "      <td>5</td>\n",
       "      <td>United States of America</td>\n",
       "      <td>US</td>\n",
       "      <td>USA</td>\n",
       "      <td>https://olympics.com/en/athletes/michael-phelp...</td>\n",
       "      <td>Michael PHELPS</td>\n",
       "      <td>116500</td>\n",
       "      <td>TIME</td>\n",
       "    </tr>\n",
       "  </tbody>\n",
       "</table>\n",
       "</div>"
      ],
      "text/plain": [
       "      discipline_title                 event_title     slug_game  \\\n",
       "20512         Swimming  200m individual medley men      rio-2016   \n",
       "20861         Swimming          200m butterfly men      rio-2016   \n",
       "21272         Swimming          100m butterfly men      rio-2016   \n",
       "25737         Swimming          100m butterfly men   london-2012   \n",
       "26152         Swimming  400m individual medley men   london-2012   \n",
       "26273         Swimming  200m individual medley men   london-2012   \n",
       "26645         Swimming          200m butterfly men   london-2012   \n",
       "42289         Swimming  200m individual medley men  beijing-2008   \n",
       "42564         Swimming          100m butterfly men  beijing-2008   \n",
       "43189         Swimming          200m butterfly men  beijing-2008   \n",
       "43379         Swimming  400m individual medley men  beijing-2008   \n",
       "43408         Swimming          200m freestyle men  beijing-2008   \n",
       "49546         Swimming          200m butterfly men   athens-2004   \n",
       "49585         Swimming          100m butterfly men   athens-2004   \n",
       "49878         Swimming  400m individual medley men   athens-2004   \n",
       "49916         Swimming          200m freestyle men   athens-2004   \n",
       "50216         Swimming  200m individual medley men   athens-2004   \n",
       "63548         Swimming          200m butterfly men   sydney-2000   \n",
       "\n",
       "      participant_type medal_type athletes rank_equal rank_position  \\\n",
       "20512          Athlete       GOLD      NaN        NaN             1   \n",
       "20861          Athlete       GOLD      NaN        NaN             1   \n",
       "21272          Athlete     SILVER      NaN       True             2   \n",
       "25737          Athlete       GOLD      NaN        NaN             1   \n",
       "26152          Athlete        NaN      NaN        NaN             4   \n",
       "26273          Athlete       GOLD      NaN        NaN             1   \n",
       "26645          Athlete     SILVER      NaN        NaN             2   \n",
       "42289          Athlete       GOLD      NaN        NaN             1   \n",
       "42564          Athlete       GOLD      NaN        NaN             1   \n",
       "43189          Athlete       GOLD      NaN        NaN             1   \n",
       "43379          Athlete       GOLD      NaN        NaN             1   \n",
       "43408          Athlete       GOLD      NaN        NaN             1   \n",
       "49546          Athlete       GOLD      NaN        NaN             1   \n",
       "49585          Athlete       GOLD      NaN        NaN             1   \n",
       "49878          Athlete       GOLD      NaN        NaN             1   \n",
       "49916          Athlete     BRONZE      NaN        NaN             3   \n",
       "50216          Athlete       GOLD      NaN        NaN             1   \n",
       "63548          Athlete        NaN      NaN        NaN             5   \n",
       "\n",
       "                   country_name country_code country_3_letter_code  \\\n",
       "20512  United States of America           US                   USA   \n",
       "20861  United States of America           US                   USA   \n",
       "21272  United States of America           US                   USA   \n",
       "25737  United States of America           US                   USA   \n",
       "26152  United States of America           US                   USA   \n",
       "26273  United States of America           US                   USA   \n",
       "26645  United States of America           US                   USA   \n",
       "42289  United States of America           US                   USA   \n",
       "42564  United States of America           US                   USA   \n",
       "43189  United States of America           US                   USA   \n",
       "43379  United States of America           US                   USA   \n",
       "43408  United States of America           US                   USA   \n",
       "49546  United States of America           US                   USA   \n",
       "49585  United States of America           US                   USA   \n",
       "49878  United States of America           US                   USA   \n",
       "49916  United States of America           US                   USA   \n",
       "50216  United States of America           US                   USA   \n",
       "63548  United States of America           US                   USA   \n",
       "\n",
       "                                             athlete_url athlete_full_name  \\\n",
       "20512  https://olympics.com/en/athletes/michael-phelp...    Michael PHELPS   \n",
       "20861  https://olympics.com/en/athletes/michael-phelp...    Michael PHELPS   \n",
       "21272  https://olympics.com/en/athletes/michael-phelp...    Michael PHELPS   \n",
       "25737  https://olympics.com/en/athletes/michael-phelp...    Michael PHELPS   \n",
       "26152  https://olympics.com/en/athletes/michael-phelp...    Michael PHELPS   \n",
       "26273  https://olympics.com/en/athletes/michael-phelp...    Michael PHELPS   \n",
       "26645  https://olympics.com/en/athletes/michael-phelp...    Michael PHELPS   \n",
       "42289  https://olympics.com/en/athletes/michael-phelp...    Michael PHELPS   \n",
       "42564  https://olympics.com/en/athletes/michael-phelp...    Michael PHELPS   \n",
       "43189  https://olympics.com/en/athletes/michael-phelp...    Michael PHELPS   \n",
       "43379  https://olympics.com/en/athletes/michael-phelp...    Michael PHELPS   \n",
       "43408  https://olympics.com/en/athletes/michael-phelp...    Michael PHELPS   \n",
       "49546  https://olympics.com/en/athletes/michael-phelp...    Michael PHELPS   \n",
       "49585  https://olympics.com/en/athletes/michael-phelp...    Michael PHELPS   \n",
       "49878  https://olympics.com/en/athletes/michael-phelp...    Michael PHELPS   \n",
       "49916  https://olympics.com/en/athletes/michael-phelp...    Michael PHELPS   \n",
       "50216  https://olympics.com/en/athletes/michael-phelp...    Michael PHELPS   \n",
       "63548  https://olympics.com/en/athletes/michael-phelp...    Michael PHELPS   \n",
       "\n",
       "      value_unit value_type  \n",
       "20512     114660       TIME  \n",
       "20861     113360       TIME  \n",
       "21272      51140       TIME  \n",
       "25737      51210       TIME  \n",
       "26152     249280       TIME  \n",
       "26273     114270       TIME  \n",
       "26645     113010       TIME  \n",
       "42289     114230       TIME  \n",
       "42564      50580       TIME  \n",
       "43189     112030       TIME  \n",
       "43379     243840       TIME  \n",
       "43408     102960       TIME  \n",
       "49546     114040       TIME  \n",
       "49585      51250       TIME  \n",
       "49878     248260       TIME  \n",
       "49916     105320       TIME  \n",
       "50216     117140       TIME  \n",
       "63548     116500       TIME  "
      ]
     },
     "execution_count": 15,
     "metadata": {},
     "output_type": "execute_result"
    }
   ],
   "source": [
    "df_rslt[df_rslt['athlete_full_name'] == 'Michael PHELPS']"
   ]
  },
  {
   "cell_type": "markdown",
   "id": "080e3baa",
   "metadata": {
    "papermill": {
     "duration": 0.054048,
     "end_time": "2024-08-31T14:14:14.254479",
     "exception": false,
     "start_time": "2024-08-31T14:14:14.200431",
     "status": "completed"
    },
    "tags": []
   },
   "source": [
    "16 times! That's huge!!\n",
    "Let's see more on Michael Phelps"
   ]
  },
  {
   "cell_type": "code",
   "execution_count": 16,
   "id": "607bdee2",
   "metadata": {
    "execution": {
     "iopub.execute_input": "2024-08-31T14:14:14.366721Z",
     "iopub.status.busy": "2024-08-31T14:14:14.366200Z",
     "iopub.status.idle": "2024-08-31T14:14:14.395710Z",
     "shell.execute_reply": "2024-08-31T14:14:14.394421Z"
    },
    "papermill": {
     "duration": 0.087169,
     "end_time": "2024-08-31T14:14:14.398644",
     "exception": false,
     "start_time": "2024-08-31T14:14:14.311475",
     "status": "completed"
    },
    "tags": []
   },
   "outputs": [
    {
     "data": {
      "text/html": [
       "<div>\n",
       "<style scoped>\n",
       "    .dataframe tbody tr th:only-of-type {\n",
       "        vertical-align: middle;\n",
       "    }\n",
       "\n",
       "    .dataframe tbody tr th {\n",
       "        vertical-align: top;\n",
       "    }\n",
       "\n",
       "    .dataframe thead th {\n",
       "        text-align: right;\n",
       "    }\n",
       "</style>\n",
       "<table border=\"1\" class=\"dataframe\">\n",
       "  <thead>\n",
       "    <tr style=\"text-align: right;\">\n",
       "      <th></th>\n",
       "      <th>discipline_title</th>\n",
       "      <th>slug_game</th>\n",
       "      <th>event_title</th>\n",
       "      <th>event_gender</th>\n",
       "      <th>medal_type</th>\n",
       "      <th>participant_type</th>\n",
       "      <th>participant_title</th>\n",
       "      <th>athlete_url</th>\n",
       "      <th>athlete_full_name</th>\n",
       "      <th>country_name</th>\n",
       "      <th>country_code</th>\n",
       "      <th>country_3_letter_code</th>\n",
       "    </tr>\n",
       "  </thead>\n",
       "  <tbody>\n",
       "    <tr>\n",
       "      <th>2813</th>\n",
       "      <td>Swimming</td>\n",
       "      <td>rio-2016</td>\n",
       "      <td>200m individual medley men</td>\n",
       "      <td>Men</td>\n",
       "      <td>GOLD</td>\n",
       "      <td>Athlete</td>\n",
       "      <td>NaN</td>\n",
       "      <td>https://olympics.com/en/athletes/michael-phelp...</td>\n",
       "      <td>Michael PHELPS</td>\n",
       "      <td>United States of America</td>\n",
       "      <td>US</td>\n",
       "      <td>USA</td>\n",
       "    </tr>\n",
       "    <tr>\n",
       "      <th>2849</th>\n",
       "      <td>Swimming</td>\n",
       "      <td>rio-2016</td>\n",
       "      <td>200m butterfly men</td>\n",
       "      <td>Men</td>\n",
       "      <td>GOLD</td>\n",
       "      <td>Athlete</td>\n",
       "      <td>NaN</td>\n",
       "      <td>https://olympics.com/en/athletes/michael-phelp...</td>\n",
       "      <td>Michael PHELPS</td>\n",
       "      <td>United States of America</td>\n",
       "      <td>US</td>\n",
       "      <td>USA</td>\n",
       "    </tr>\n",
       "    <tr>\n",
       "      <th>2880</th>\n",
       "      <td>Swimming</td>\n",
       "      <td>rio-2016</td>\n",
       "      <td>100m butterfly men</td>\n",
       "      <td>Men</td>\n",
       "      <td>SILVER</td>\n",
       "      <td>Athlete</td>\n",
       "      <td>NaN</td>\n",
       "      <td>https://olympics.com/en/athletes/michael-phelp...</td>\n",
       "      <td>Michael PHELPS</td>\n",
       "      <td>United States of America</td>\n",
       "      <td>US</td>\n",
       "      <td>USA</td>\n",
       "    </tr>\n",
       "    <tr>\n",
       "      <th>3254</th>\n",
       "      <td>Swimming</td>\n",
       "      <td>london-2012</td>\n",
       "      <td>100m butterfly men</td>\n",
       "      <td>Men</td>\n",
       "      <td>GOLD</td>\n",
       "      <td>Athlete</td>\n",
       "      <td>NaN</td>\n",
       "      <td>https://olympics.com/en/athletes/michael-phelp...</td>\n",
       "      <td>Michael PHELPS</td>\n",
       "      <td>United States of America</td>\n",
       "      <td>US</td>\n",
       "      <td>USA</td>\n",
       "    </tr>\n",
       "    <tr>\n",
       "      <th>3302</th>\n",
       "      <td>Swimming</td>\n",
       "      <td>london-2012</td>\n",
       "      <td>200m individual medley men</td>\n",
       "      <td>Men</td>\n",
       "      <td>GOLD</td>\n",
       "      <td>Athlete</td>\n",
       "      <td>NaN</td>\n",
       "      <td>https://olympics.com/en/athletes/michael-phelp...</td>\n",
       "      <td>Michael PHELPS</td>\n",
       "      <td>United States of America</td>\n",
       "      <td>US</td>\n",
       "      <td>USA</td>\n",
       "    </tr>\n",
       "    <tr>\n",
       "      <th>3330</th>\n",
       "      <td>Swimming</td>\n",
       "      <td>london-2012</td>\n",
       "      <td>200m butterfly men</td>\n",
       "      <td>Men</td>\n",
       "      <td>SILVER</td>\n",
       "      <td>Athlete</td>\n",
       "      <td>NaN</td>\n",
       "      <td>https://olympics.com/en/athletes/michael-phelp...</td>\n",
       "      <td>Michael PHELPS</td>\n",
       "      <td>United States of America</td>\n",
       "      <td>US</td>\n",
       "      <td>USA</td>\n",
       "    </tr>\n",
       "    <tr>\n",
       "      <th>5454</th>\n",
       "      <td>Swimming</td>\n",
       "      <td>beijing-2008</td>\n",
       "      <td>200m individual medley men</td>\n",
       "      <td>Men</td>\n",
       "      <td>GOLD</td>\n",
       "      <td>Athlete</td>\n",
       "      <td>NaN</td>\n",
       "      <td>https://olympics.com/en/athletes/michael-phelp...</td>\n",
       "      <td>Michael PHELPS</td>\n",
       "      <td>United States of America</td>\n",
       "      <td>US</td>\n",
       "      <td>USA</td>\n",
       "    </tr>\n",
       "    <tr>\n",
       "      <th>5472</th>\n",
       "      <td>Swimming</td>\n",
       "      <td>beijing-2008</td>\n",
       "      <td>100m butterfly men</td>\n",
       "      <td>Men</td>\n",
       "      <td>GOLD</td>\n",
       "      <td>Athlete</td>\n",
       "      <td>NaN</td>\n",
       "      <td>https://olympics.com/en/athletes/michael-phelp...</td>\n",
       "      <td>Michael PHELPS</td>\n",
       "      <td>United States of America</td>\n",
       "      <td>US</td>\n",
       "      <td>USA</td>\n",
       "    </tr>\n",
       "    <tr>\n",
       "      <th>5519</th>\n",
       "      <td>Swimming</td>\n",
       "      <td>beijing-2008</td>\n",
       "      <td>200m butterfly men</td>\n",
       "      <td>Men</td>\n",
       "      <td>GOLD</td>\n",
       "      <td>Athlete</td>\n",
       "      <td>NaN</td>\n",
       "      <td>https://olympics.com/en/athletes/michael-phelp...</td>\n",
       "      <td>Michael PHELPS</td>\n",
       "      <td>United States of America</td>\n",
       "      <td>US</td>\n",
       "      <td>USA</td>\n",
       "    </tr>\n",
       "    <tr>\n",
       "      <th>5534</th>\n",
       "      <td>Swimming</td>\n",
       "      <td>beijing-2008</td>\n",
       "      <td>400m individual medley men</td>\n",
       "      <td>Men</td>\n",
       "      <td>GOLD</td>\n",
       "      <td>Athlete</td>\n",
       "      <td>NaN</td>\n",
       "      <td>https://olympics.com/en/athletes/michael-phelp...</td>\n",
       "      <td>Michael PHELPS</td>\n",
       "      <td>United States of America</td>\n",
       "      <td>US</td>\n",
       "      <td>USA</td>\n",
       "    </tr>\n",
       "    <tr>\n",
       "      <th>5537</th>\n",
       "      <td>Swimming</td>\n",
       "      <td>beijing-2008</td>\n",
       "      <td>200m freestyle men</td>\n",
       "      <td>Men</td>\n",
       "      <td>GOLD</td>\n",
       "      <td>Athlete</td>\n",
       "      <td>NaN</td>\n",
       "      <td>https://olympics.com/en/athletes/michael-phelp...</td>\n",
       "      <td>Michael PHELPS</td>\n",
       "      <td>United States of America</td>\n",
       "      <td>US</td>\n",
       "      <td>USA</td>\n",
       "    </tr>\n",
       "    <tr>\n",
       "      <th>6260</th>\n",
       "      <td>Swimming</td>\n",
       "      <td>athens-2004</td>\n",
       "      <td>200m butterfly men</td>\n",
       "      <td>Men</td>\n",
       "      <td>GOLD</td>\n",
       "      <td>Athlete</td>\n",
       "      <td>NaN</td>\n",
       "      <td>https://olympics.com/en/athletes/michael-phelp...</td>\n",
       "      <td>Michael PHELPS</td>\n",
       "      <td>United States of America</td>\n",
       "      <td>US</td>\n",
       "      <td>USA</td>\n",
       "    </tr>\n",
       "    <tr>\n",
       "      <th>6263</th>\n",
       "      <td>Swimming</td>\n",
       "      <td>athens-2004</td>\n",
       "      <td>100m butterfly men</td>\n",
       "      <td>Men</td>\n",
       "      <td>GOLD</td>\n",
       "      <td>Athlete</td>\n",
       "      <td>NaN</td>\n",
       "      <td>https://olympics.com/en/athletes/michael-phelp...</td>\n",
       "      <td>Michael PHELPS</td>\n",
       "      <td>United States of America</td>\n",
       "      <td>US</td>\n",
       "      <td>USA</td>\n",
       "    </tr>\n",
       "    <tr>\n",
       "      <th>6285</th>\n",
       "      <td>Swimming</td>\n",
       "      <td>athens-2004</td>\n",
       "      <td>400m individual medley men</td>\n",
       "      <td>Men</td>\n",
       "      <td>GOLD</td>\n",
       "      <td>Athlete</td>\n",
       "      <td>NaN</td>\n",
       "      <td>https://olympics.com/en/athletes/michael-phelp...</td>\n",
       "      <td>Michael PHELPS</td>\n",
       "      <td>United States of America</td>\n",
       "      <td>US</td>\n",
       "      <td>USA</td>\n",
       "    </tr>\n",
       "    <tr>\n",
       "      <th>6290</th>\n",
       "      <td>Swimming</td>\n",
       "      <td>athens-2004</td>\n",
       "      <td>200m freestyle men</td>\n",
       "      <td>Men</td>\n",
       "      <td>BRONZE</td>\n",
       "      <td>Athlete</td>\n",
       "      <td>NaN</td>\n",
       "      <td>https://olympics.com/en/athletes/michael-phelp...</td>\n",
       "      <td>Michael PHELPS</td>\n",
       "      <td>United States of America</td>\n",
       "      <td>US</td>\n",
       "      <td>USA</td>\n",
       "    </tr>\n",
       "    <tr>\n",
       "      <th>6312</th>\n",
       "      <td>Swimming</td>\n",
       "      <td>athens-2004</td>\n",
       "      <td>200m individual medley men</td>\n",
       "      <td>Men</td>\n",
       "      <td>GOLD</td>\n",
       "      <td>Athlete</td>\n",
       "      <td>NaN</td>\n",
       "      <td>https://olympics.com/en/athletes/michael-phelp...</td>\n",
       "      <td>Michael PHELPS</td>\n",
       "      <td>United States of America</td>\n",
       "      <td>US</td>\n",
       "      <td>USA</td>\n",
       "    </tr>\n",
       "  </tbody>\n",
       "</table>\n",
       "</div>"
      ],
      "text/plain": [
       "     discipline_title     slug_game                 event_title event_gender  \\\n",
       "2813         Swimming      rio-2016  200m individual medley men          Men   \n",
       "2849         Swimming      rio-2016          200m butterfly men          Men   \n",
       "2880         Swimming      rio-2016          100m butterfly men          Men   \n",
       "3254         Swimming   london-2012          100m butterfly men          Men   \n",
       "3302         Swimming   london-2012  200m individual medley men          Men   \n",
       "3330         Swimming   london-2012          200m butterfly men          Men   \n",
       "5454         Swimming  beijing-2008  200m individual medley men          Men   \n",
       "5472         Swimming  beijing-2008          100m butterfly men          Men   \n",
       "5519         Swimming  beijing-2008          200m butterfly men          Men   \n",
       "5534         Swimming  beijing-2008  400m individual medley men          Men   \n",
       "5537         Swimming  beijing-2008          200m freestyle men          Men   \n",
       "6260         Swimming   athens-2004          200m butterfly men          Men   \n",
       "6263         Swimming   athens-2004          100m butterfly men          Men   \n",
       "6285         Swimming   athens-2004  400m individual medley men          Men   \n",
       "6290         Swimming   athens-2004          200m freestyle men          Men   \n",
       "6312         Swimming   athens-2004  200m individual medley men          Men   \n",
       "\n",
       "     medal_type participant_type participant_title  \\\n",
       "2813       GOLD          Athlete               NaN   \n",
       "2849       GOLD          Athlete               NaN   \n",
       "2880     SILVER          Athlete               NaN   \n",
       "3254       GOLD          Athlete               NaN   \n",
       "3302       GOLD          Athlete               NaN   \n",
       "3330     SILVER          Athlete               NaN   \n",
       "5454       GOLD          Athlete               NaN   \n",
       "5472       GOLD          Athlete               NaN   \n",
       "5519       GOLD          Athlete               NaN   \n",
       "5534       GOLD          Athlete               NaN   \n",
       "5537       GOLD          Athlete               NaN   \n",
       "6260       GOLD          Athlete               NaN   \n",
       "6263       GOLD          Athlete               NaN   \n",
       "6285       GOLD          Athlete               NaN   \n",
       "6290     BRONZE          Athlete               NaN   \n",
       "6312       GOLD          Athlete               NaN   \n",
       "\n",
       "                                            athlete_url athlete_full_name  \\\n",
       "2813  https://olympics.com/en/athletes/michael-phelp...    Michael PHELPS   \n",
       "2849  https://olympics.com/en/athletes/michael-phelp...    Michael PHELPS   \n",
       "2880  https://olympics.com/en/athletes/michael-phelp...    Michael PHELPS   \n",
       "3254  https://olympics.com/en/athletes/michael-phelp...    Michael PHELPS   \n",
       "3302  https://olympics.com/en/athletes/michael-phelp...    Michael PHELPS   \n",
       "3330  https://olympics.com/en/athletes/michael-phelp...    Michael PHELPS   \n",
       "5454  https://olympics.com/en/athletes/michael-phelp...    Michael PHELPS   \n",
       "5472  https://olympics.com/en/athletes/michael-phelp...    Michael PHELPS   \n",
       "5519  https://olympics.com/en/athletes/michael-phelp...    Michael PHELPS   \n",
       "5534  https://olympics.com/en/athletes/michael-phelp...    Michael PHELPS   \n",
       "5537  https://olympics.com/en/athletes/michael-phelp...    Michael PHELPS   \n",
       "6260  https://olympics.com/en/athletes/michael-phelp...    Michael PHELPS   \n",
       "6263  https://olympics.com/en/athletes/michael-phelp...    Michael PHELPS   \n",
       "6285  https://olympics.com/en/athletes/michael-phelp...    Michael PHELPS   \n",
       "6290  https://olympics.com/en/athletes/michael-phelp...    Michael PHELPS   \n",
       "6312  https://olympics.com/en/athletes/michael-phelp...    Michael PHELPS   \n",
       "\n",
       "                  country_name country_code country_3_letter_code  \n",
       "2813  United States of America           US                   USA  \n",
       "2849  United States of America           US                   USA  \n",
       "2880  United States of America           US                   USA  \n",
       "3254  United States of America           US                   USA  \n",
       "3302  United States of America           US                   USA  \n",
       "3330  United States of America           US                   USA  \n",
       "5454  United States of America           US                   USA  \n",
       "5472  United States of America           US                   USA  \n",
       "5519  United States of America           US                   USA  \n",
       "5534  United States of America           US                   USA  \n",
       "5537  United States of America           US                   USA  \n",
       "6260  United States of America           US                   USA  \n",
       "6263  United States of America           US                   USA  \n",
       "6285  United States of America           US                   USA  \n",
       "6290  United States of America           US                   USA  \n",
       "6312  United States of America           US                   USA  "
      ]
     },
     "execution_count": 16,
     "metadata": {},
     "output_type": "execute_result"
    }
   ],
   "source": [
    "df_medal[(df_medal['athlete_full_name'] == 'Michael PHELPS')]"
   ]
  },
  {
   "cell_type": "markdown",
   "id": "418c4309",
   "metadata": {
    "papermill": {
     "duration": 0.053793,
     "end_time": "2024-08-31T14:14:14.507242",
     "exception": false,
     "start_time": "2024-08-31T14:14:14.453449",
     "status": "completed"
    },
    "tags": []
   },
   "source": [
    "#### Exactly how many gold, silver and bronze Michael Phelps has won?"
   ]
  },
  {
   "cell_type": "code",
   "execution_count": 17,
   "id": "e61de5ce",
   "metadata": {
    "execution": {
     "iopub.execute_input": "2024-08-31T14:14:14.619482Z",
     "iopub.status.busy": "2024-08-31T14:14:14.619007Z",
     "iopub.status.idle": "2024-08-31T14:14:14.634589Z",
     "shell.execute_reply": "2024-08-31T14:14:14.633377Z"
    },
    "papermill": {
     "duration": 0.075698,
     "end_time": "2024-08-31T14:14:14.637107",
     "exception": false,
     "start_time": "2024-08-31T14:14:14.561409",
     "status": "completed"
    },
    "tags": []
   },
   "outputs": [
    {
     "data": {
      "text/plain": [
       "medal_type\n",
       "GOLD      13\n",
       "SILVER     2\n",
       "BRONZE     1\n",
       "Name: count, dtype: int64"
      ]
     },
     "execution_count": 17,
     "metadata": {},
     "output_type": "execute_result"
    }
   ],
   "source": [
    "df_medal[(df_medal['athlete_full_name'] == 'Michael PHELPS')]['medal_type'].value_counts()"
   ]
  },
  {
   "cell_type": "markdown",
   "id": "a2f271a2",
   "metadata": {
    "papermill": {
     "duration": 0.056522,
     "end_time": "2024-08-31T14:14:14.748134",
     "exception": false,
     "start_time": "2024-08-31T14:14:14.691612",
     "status": "completed"
    },
    "tags": []
   },
   "source": [
    "13 Olympic Gold medals in the name of Michael Phelps!! 🎤 Mic drop 🎤"
   ]
  },
  {
   "cell_type": "markdown",
   "id": "6443d984",
   "metadata": {
    "papermill": {
     "duration": 0.053664,
     "end_time": "2024-08-31T14:14:14.856660",
     "exception": false,
     "start_time": "2024-08-31T14:14:14.802996",
     "status": "completed"
    },
    "tags": []
   },
   "source": [
    "# Wait a minute! that's not true. He has won total 28 medals."
   ]
  },
  {
   "cell_type": "markdown",
   "id": "0e0d4d38",
   "metadata": {
    "papermill": {
     "duration": 0.054024,
     "end_time": "2024-08-31T14:14:14.965166",
     "exception": false,
     "start_time": "2024-08-31T14:14:14.911142",
     "status": "completed"
    },
    "tags": []
   },
   "source": [
    "# Loading another dataset\n",
    "## olympics 124 year dataset till 2020"
   ]
  },
  {
   "cell_type": "code",
   "execution_count": 18,
   "id": "808bc550",
   "metadata": {
    "execution": {
     "iopub.execute_input": "2024-08-31T14:14:15.078383Z",
     "iopub.status.busy": "2024-08-31T14:14:15.077826Z",
     "iopub.status.idle": "2024-08-31T14:14:15.083798Z",
     "shell.execute_reply": "2024-08-31T14:14:15.082519Z"
    },
    "papermill": {
     "duration": 0.06652,
     "end_time": "2024-08-31T14:14:15.086881",
     "exception": false,
     "start_time": "2024-08-31T14:14:15.020361",
     "status": "completed"
    },
    "tags": []
   },
   "outputs": [],
   "source": [
    "olympics_124_till_20 = '/kaggle/input/olympics-1896-2020/all_athlete_games.csv'"
   ]
  },
  {
   "cell_type": "code",
   "execution_count": 19,
   "id": "1e7ae862",
   "metadata": {
    "execution": {
     "iopub.execute_input": "2024-08-31T14:14:15.200252Z",
     "iopub.status.busy": "2024-08-31T14:14:15.199359Z",
     "iopub.status.idle": "2024-08-31T14:14:16.606064Z",
     "shell.execute_reply": "2024-08-31T14:14:16.604853Z"
    },
    "papermill": {
     "duration": 1.466415,
     "end_time": "2024-08-31T14:14:16.609270",
     "exception": false,
     "start_time": "2024-08-31T14:14:15.142855",
     "status": "completed"
    },
    "tags": []
   },
   "outputs": [],
   "source": [
    "df_2 = pd.read_csv(olympics_124_till_20)"
   ]
  },
  {
   "cell_type": "markdown",
   "id": "e06347be",
   "metadata": {
    "papermill": {
     "duration": 0.053668,
     "end_time": "2024-08-31T14:14:16.718604",
     "exception": false,
     "start_time": "2024-08-31T14:14:16.664936",
     "status": "completed"
    },
    "tags": []
   },
   "source": [
    "## Checking data validity"
   ]
  },
  {
   "cell_type": "code",
   "execution_count": 20,
   "id": "5aca1f9c",
   "metadata": {
    "execution": {
     "iopub.execute_input": "2024-08-31T14:14:16.831212Z",
     "iopub.status.busy": "2024-08-31T14:14:16.830726Z",
     "iopub.status.idle": "2024-08-31T14:14:16.848817Z",
     "shell.execute_reply": "2024-08-31T14:14:16.847654Z"
    },
    "papermill": {
     "duration": 0.076677,
     "end_time": "2024-08-31T14:14:16.851315",
     "exception": false,
     "start_time": "2024-08-31T14:14:16.774638",
     "status": "completed"
    },
    "tags": []
   },
   "outputs": [
    {
     "data": {
      "text/html": [
       "<div>\n",
       "<style scoped>\n",
       "    .dataframe tbody tr th:only-of-type {\n",
       "        vertical-align: middle;\n",
       "    }\n",
       "\n",
       "    .dataframe tbody tr th {\n",
       "        vertical-align: top;\n",
       "    }\n",
       "\n",
       "    .dataframe thead th {\n",
       "        text-align: right;\n",
       "    }\n",
       "</style>\n",
       "<table border=\"1\" class=\"dataframe\">\n",
       "  <thead>\n",
       "    <tr style=\"text-align: right;\">\n",
       "      <th></th>\n",
       "      <th>ID</th>\n",
       "      <th>Name</th>\n",
       "      <th>Sex</th>\n",
       "      <th>Age</th>\n",
       "      <th>Team</th>\n",
       "      <th>NOC</th>\n",
       "      <th>Year</th>\n",
       "      <th>Season</th>\n",
       "      <th>City</th>\n",
       "      <th>Sport</th>\n",
       "      <th>Event</th>\n",
       "      <th>Medal</th>\n",
       "    </tr>\n",
       "  </thead>\n",
       "  <tbody>\n",
       "    <tr>\n",
       "      <th>0</th>\n",
       "      <td>0</td>\n",
       "      <td>A Dijiang</td>\n",
       "      <td>Male</td>\n",
       "      <td>24.0</td>\n",
       "      <td>China</td>\n",
       "      <td>CHN</td>\n",
       "      <td>1992</td>\n",
       "      <td>Summer</td>\n",
       "      <td>Barcelona</td>\n",
       "      <td>Basketball</td>\n",
       "      <td>Basketball Men's Basketball</td>\n",
       "      <td>NaN</td>\n",
       "    </tr>\n",
       "  </tbody>\n",
       "</table>\n",
       "</div>"
      ],
      "text/plain": [
       "   ID       Name   Sex   Age   Team  NOC  Year  Season       City       Sport  \\\n",
       "0   0  A Dijiang  Male  24.0  China  CHN  1992  Summer  Barcelona  Basketball   \n",
       "\n",
       "                         Event Medal  \n",
       "0  Basketball Men's Basketball   NaN  "
      ]
     },
     "execution_count": 20,
     "metadata": {},
     "output_type": "execute_result"
    }
   ],
   "source": [
    "#check medals won by michael phelps and any random athlete\n",
    "df_2.head(1)"
   ]
  },
  {
   "cell_type": "code",
   "execution_count": 21,
   "id": "42aa07f3",
   "metadata": {
    "execution": {
     "iopub.execute_input": "2024-08-31T14:14:16.962956Z",
     "iopub.status.busy": "2024-08-31T14:14:16.962501Z",
     "iopub.status.idle": "2024-08-31T14:14:17.122027Z",
     "shell.execute_reply": "2024-08-31T14:14:17.120959Z"
    },
    "papermill": {
     "duration": 0.219196,
     "end_time": "2024-08-31T14:14:17.124675",
     "exception": false,
     "start_time": "2024-08-31T14:14:16.905479",
     "status": "completed"
    },
    "tags": []
   },
   "outputs": [
    {
     "data": {
      "text/plain": [
       "28"
      ]
     },
     "execution_count": 21,
     "metadata": {},
     "output_type": "execute_result"
    }
   ],
   "source": [
    "df_2[df_2['Name'].str.contains('Michael Fred Phelps, II')]['Medal'].count()"
   ]
  },
  {
   "cell_type": "markdown",
   "id": "3ee29c99",
   "metadata": {
    "papermill": {
     "duration": 0.055362,
     "end_time": "2024-08-31T14:14:17.234258",
     "exception": false,
     "start_time": "2024-08-31T14:14:17.178896",
     "status": "completed"
    },
    "tags": []
   },
   "source": [
    "That's correct. Let's check one more."
   ]
  },
  {
   "cell_type": "code",
   "execution_count": 22,
   "id": "ee68e7f2",
   "metadata": {
    "execution": {
     "iopub.execute_input": "2024-08-31T14:14:17.348629Z",
     "iopub.status.busy": "2024-08-31T14:14:17.347698Z",
     "iopub.status.idle": "2024-08-31T14:14:17.464460Z",
     "shell.execute_reply": "2024-08-31T14:14:17.463205Z"
    },
    "papermill": {
     "duration": 0.177586,
     "end_time": "2024-08-31T14:14:17.467636",
     "exception": false,
     "start_time": "2024-08-31T14:14:17.290050",
     "status": "completed"
    },
    "tags": []
   },
   "outputs": [],
   "source": [
    "# Update the specific value in the DataFrame\n",
    "df_2.loc[df_2['Name'] == 'Pusarla Venkata \"P. V.\" Sindhu', 'Name'] = 'P. V. Sindhu'\n",
    "df_2.loc[df_2['Name'] == 'PUSARLA V. Sindhu', 'Name'] = 'P. V. Sindhu'"
   ]
  },
  {
   "cell_type": "code",
   "execution_count": 23,
   "id": "c73e1a84",
   "metadata": {
    "execution": {
     "iopub.execute_input": "2024-08-31T14:14:17.581627Z",
     "iopub.status.busy": "2024-08-31T14:14:17.580238Z",
     "iopub.status.idle": "2024-08-31T14:14:17.646773Z",
     "shell.execute_reply": "2024-08-31T14:14:17.645433Z"
    },
    "papermill": {
     "duration": 0.127412,
     "end_time": "2024-08-31T14:14:17.649553",
     "exception": false,
     "start_time": "2024-08-31T14:14:17.522141",
     "status": "completed"
    },
    "tags": []
   },
   "outputs": [
    {
     "data": {
      "text/plain": [
       "Medal\n",
       "Silver    1\n",
       "Bronze    1\n",
       "Name: count, dtype: int64"
      ]
     },
     "execution_count": 23,
     "metadata": {},
     "output_type": "execute_result"
    }
   ],
   "source": [
    "df_2[df_2['Name'] == 'P. V. Sindhu']['Medal'].value_counts()"
   ]
  },
  {
   "cell_type": "markdown",
   "id": "e09cc572",
   "metadata": {
    "papermill": {
     "duration": 0.056694,
     "end_time": "2024-08-31T14:14:17.762105",
     "exception": false,
     "start_time": "2024-08-31T14:14:17.705411",
     "status": "completed"
    },
    "tags": []
   },
   "source": [
    "Well, that's correct P. V. Sindhu has won two olympic gold medals."
   ]
  },
  {
   "cell_type": "markdown",
   "id": "bbe68032",
   "metadata": {
    "papermill": {
     "duration": 0.055695,
     "end_time": "2024-08-31T14:14:17.873153",
     "exception": false,
     "start_time": "2024-08-31T14:14:17.817458",
     "status": "completed"
    },
    "tags": []
   },
   "source": [
    "# Expalining the situation\n",
    "- df_1 = 1896 to 2022; incorrect data\n",
    "- df_2 = 1896 to 2020; correct data\n",
    "\n",
    "## Action to take\n",
    "- attach df_2 (1896-2020) to df_1(2022)"
   ]
  },
  {
   "cell_type": "code",
   "execution_count": 24,
   "id": "821cb5ba",
   "metadata": {
    "execution": {
     "iopub.execute_input": "2024-08-31T14:14:17.990426Z",
     "iopub.status.busy": "2024-08-31T14:14:17.989919Z",
     "iopub.status.idle": "2024-08-31T14:14:17.998634Z",
     "shell.execute_reply": "2024-08-31T14:14:17.997373Z"
    },
    "papermill": {
     "duration": 0.070435,
     "end_time": "2024-08-31T14:14:18.001296",
     "exception": false,
     "start_time": "2024-08-31T14:14:17.930861",
     "status": "completed"
    },
    "tags": []
   },
   "outputs": [
    {
     "data": {
      "text/plain": [
       "Index(['discipline_title', 'slug_game', 'event_title', 'event_gender',\n",
       "       'medal_type', 'participant_type', 'participant_title', 'athlete_url',\n",
       "       'athlete_full_name', 'country_name', 'country_code',\n",
       "       'country_3_letter_code'],\n",
       "      dtype='object')"
      ]
     },
     "execution_count": 24,
     "metadata": {},
     "output_type": "execute_result"
    }
   ],
   "source": [
    "df_medal.columns"
   ]
  },
  {
   "cell_type": "code",
   "execution_count": 25,
   "id": "5f8915f6",
   "metadata": {
    "execution": {
     "iopub.execute_input": "2024-08-31T14:14:18.120087Z",
     "iopub.status.busy": "2024-08-31T14:14:18.119624Z",
     "iopub.status.idle": "2024-08-31T14:14:18.136625Z",
     "shell.execute_reply": "2024-08-31T14:14:18.135355Z"
    },
    "papermill": {
     "duration": 0.078484,
     "end_time": "2024-08-31T14:14:18.139386",
     "exception": false,
     "start_time": "2024-08-31T14:14:18.060902",
     "status": "completed"
    },
    "tags": []
   },
   "outputs": [
    {
     "data": {
      "text/html": [
       "<div>\n",
       "<style scoped>\n",
       "    .dataframe tbody tr th:only-of-type {\n",
       "        vertical-align: middle;\n",
       "    }\n",
       "\n",
       "    .dataframe tbody tr th {\n",
       "        vertical-align: top;\n",
       "    }\n",
       "\n",
       "    .dataframe thead th {\n",
       "        text-align: right;\n",
       "    }\n",
       "</style>\n",
       "<table border=\"1\" class=\"dataframe\">\n",
       "  <thead>\n",
       "    <tr style=\"text-align: right;\">\n",
       "      <th></th>\n",
       "      <th>discipline_title</th>\n",
       "      <th>slug_game</th>\n",
       "      <th>event_title</th>\n",
       "      <th>event_gender</th>\n",
       "      <th>medal_type</th>\n",
       "      <th>participant_type</th>\n",
       "      <th>participant_title</th>\n",
       "      <th>athlete_url</th>\n",
       "      <th>athlete_full_name</th>\n",
       "      <th>country_name</th>\n",
       "      <th>country_code</th>\n",
       "      <th>country_3_letter_code</th>\n",
       "    </tr>\n",
       "  </thead>\n",
       "  <tbody>\n",
       "    <tr>\n",
       "      <th>0</th>\n",
       "      <td>Curling</td>\n",
       "      <td>beijing-2022</td>\n",
       "      <td>Mixed Doubles</td>\n",
       "      <td>Mixed</td>\n",
       "      <td>GOLD</td>\n",
       "      <td>GameTeam</td>\n",
       "      <td>Italy</td>\n",
       "      <td>https://olympics.com/en/athletes/stefania-cons...</td>\n",
       "      <td>Stefania CONSTANTINI</td>\n",
       "      <td>Italy</td>\n",
       "      <td>IT</td>\n",
       "      <td>ITA</td>\n",
       "    </tr>\n",
       "  </tbody>\n",
       "</table>\n",
       "</div>"
      ],
      "text/plain": [
       "  discipline_title     slug_game    event_title event_gender medal_type  \\\n",
       "0          Curling  beijing-2022  Mixed Doubles        Mixed       GOLD   \n",
       "\n",
       "  participant_type participant_title  \\\n",
       "0         GameTeam             Italy   \n",
       "\n",
       "                                         athlete_url     athlete_full_name  \\\n",
       "0  https://olympics.com/en/athletes/stefania-cons...  Stefania CONSTANTINI   \n",
       "\n",
       "  country_name country_code country_3_letter_code  \n",
       "0        Italy           IT                   ITA  "
      ]
     },
     "execution_count": 25,
     "metadata": {},
     "output_type": "execute_result"
    }
   ],
   "source": [
    "df_medal.head(1)"
   ]
  },
  {
   "cell_type": "code",
   "execution_count": 26,
   "id": "86c1ad5e",
   "metadata": {
    "execution": {
     "iopub.execute_input": "2024-08-31T14:14:18.257445Z",
     "iopub.status.busy": "2024-08-31T14:14:18.256928Z",
     "iopub.status.idle": "2024-08-31T14:14:18.279196Z",
     "shell.execute_reply": "2024-08-31T14:14:18.277669Z"
    },
    "papermill": {
     "duration": 0.086356,
     "end_time": "2024-08-31T14:14:18.282308",
     "exception": false,
     "start_time": "2024-08-31T14:14:18.195952",
     "status": "completed"
    },
    "tags": []
   },
   "outputs": [
    {
     "data": {
      "text/html": [
       "<div>\n",
       "<style scoped>\n",
       "    .dataframe tbody tr th:only-of-type {\n",
       "        vertical-align: middle;\n",
       "    }\n",
       "\n",
       "    .dataframe tbody tr th {\n",
       "        vertical-align: top;\n",
       "    }\n",
       "\n",
       "    .dataframe thead th {\n",
       "        text-align: right;\n",
       "    }\n",
       "</style>\n",
       "<table border=\"1\" class=\"dataframe\">\n",
       "  <thead>\n",
       "    <tr style=\"text-align: right;\">\n",
       "      <th></th>\n",
       "      <th>discipline_title</th>\n",
       "      <th>event_title</th>\n",
       "      <th>slug_game</th>\n",
       "      <th>participant_type</th>\n",
       "      <th>medal_type</th>\n",
       "      <th>athletes</th>\n",
       "      <th>rank_equal</th>\n",
       "      <th>rank_position</th>\n",
       "      <th>country_name</th>\n",
       "      <th>country_code</th>\n",
       "      <th>country_3_letter_code</th>\n",
       "      <th>athlete_url</th>\n",
       "      <th>athlete_full_name</th>\n",
       "      <th>value_unit</th>\n",
       "      <th>value_type</th>\n",
       "    </tr>\n",
       "  </thead>\n",
       "  <tbody>\n",
       "    <tr>\n",
       "      <th>0</th>\n",
       "      <td>Curling</td>\n",
       "      <td>Mixed Doubles</td>\n",
       "      <td>beijing-2022</td>\n",
       "      <td>GameTeam</td>\n",
       "      <td>GOLD</td>\n",
       "      <td>[('Stefania CONSTANTINI', 'https://olympics.co...</td>\n",
       "      <td>False</td>\n",
       "      <td>1</td>\n",
       "      <td>Italy</td>\n",
       "      <td>IT</td>\n",
       "      <td>ITA</td>\n",
       "      <td>NaN</td>\n",
       "      <td>NaN</td>\n",
       "      <td>NaN</td>\n",
       "      <td>NaN</td>\n",
       "    </tr>\n",
       "  </tbody>\n",
       "</table>\n",
       "</div>"
      ],
      "text/plain": [
       "  discipline_title    event_title     slug_game participant_type medal_type  \\\n",
       "0          Curling  Mixed Doubles  beijing-2022         GameTeam       GOLD   \n",
       "\n",
       "                                            athletes rank_equal rank_position  \\\n",
       "0  [('Stefania CONSTANTINI', 'https://olympics.co...      False             1   \n",
       "\n",
       "  country_name country_code country_3_letter_code athlete_url  \\\n",
       "0        Italy           IT                   ITA         NaN   \n",
       "\n",
       "  athlete_full_name value_unit value_type  \n",
       "0               NaN        NaN        NaN  "
      ]
     },
     "execution_count": 26,
     "metadata": {},
     "output_type": "execute_result"
    }
   ],
   "source": [
    "df_rslt.head(1)"
   ]
  },
  {
   "cell_type": "code",
   "execution_count": 27,
   "id": "6bd24d6f",
   "metadata": {
    "execution": {
     "iopub.execute_input": "2024-08-31T14:14:18.400159Z",
     "iopub.status.busy": "2024-08-31T14:14:18.398661Z",
     "iopub.status.idle": "2024-08-31T14:14:18.414451Z",
     "shell.execute_reply": "2024-08-31T14:14:18.413223Z"
    },
    "papermill": {
     "duration": 0.077526,
     "end_time": "2024-08-31T14:14:18.417241",
     "exception": false,
     "start_time": "2024-08-31T14:14:18.339715",
     "status": "completed"
    },
    "tags": []
   },
   "outputs": [
    {
     "data": {
      "text/html": [
       "<div>\n",
       "<style scoped>\n",
       "    .dataframe tbody tr th:only-of-type {\n",
       "        vertical-align: middle;\n",
       "    }\n",
       "\n",
       "    .dataframe tbody tr th {\n",
       "        vertical-align: top;\n",
       "    }\n",
       "\n",
       "    .dataframe thead th {\n",
       "        text-align: right;\n",
       "    }\n",
       "</style>\n",
       "<table border=\"1\" class=\"dataframe\">\n",
       "  <thead>\n",
       "    <tr style=\"text-align: right;\">\n",
       "      <th></th>\n",
       "      <th>athlete_url</th>\n",
       "      <th>athlete_full_name</th>\n",
       "      <th>games_participations</th>\n",
       "      <th>first_game</th>\n",
       "      <th>athlete_year_birth</th>\n",
       "      <th>athlete_medals</th>\n",
       "      <th>bio</th>\n",
       "    </tr>\n",
       "  </thead>\n",
       "  <tbody>\n",
       "    <tr>\n",
       "      <th>0</th>\n",
       "      <td>https://olympics.com/en/athletes/cooper-woods-...</td>\n",
       "      <td>Cooper WOODS-TOPALOVIC</td>\n",
       "      <td>1</td>\n",
       "      <td>Beijing 2022</td>\n",
       "      <td>2000.0</td>\n",
       "      <td>NaN</td>\n",
       "      <td>NaN</td>\n",
       "    </tr>\n",
       "  </tbody>\n",
       "</table>\n",
       "</div>"
      ],
      "text/plain": [
       "                                         athlete_url       athlete_full_name  \\\n",
       "0  https://olympics.com/en/athletes/cooper-woods-...  Cooper WOODS-TOPALOVIC   \n",
       "\n",
       "   games_participations    first_game  athlete_year_birth athlete_medals  bio  \n",
       "0                     1  Beijing 2022              2000.0            NaN  NaN  "
      ]
     },
     "execution_count": 27,
     "metadata": {},
     "output_type": "execute_result"
    }
   ],
   "source": [
    "df_ath.head(1)"
   ]
  },
  {
   "cell_type": "code",
   "execution_count": 28,
   "id": "15184388",
   "metadata": {
    "execution": {
     "iopub.execute_input": "2024-08-31T14:14:18.534681Z",
     "iopub.status.busy": "2024-08-31T14:14:18.533767Z",
     "iopub.status.idle": "2024-08-31T14:14:18.550941Z",
     "shell.execute_reply": "2024-08-31T14:14:18.549699Z"
    },
    "papermill": {
     "duration": 0.07893,
     "end_time": "2024-08-31T14:14:18.553671",
     "exception": false,
     "start_time": "2024-08-31T14:14:18.474741",
     "status": "completed"
    },
    "tags": []
   },
   "outputs": [
    {
     "data": {
      "text/html": [
       "<div>\n",
       "<style scoped>\n",
       "    .dataframe tbody tr th:only-of-type {\n",
       "        vertical-align: middle;\n",
       "    }\n",
       "\n",
       "    .dataframe tbody tr th {\n",
       "        vertical-align: top;\n",
       "    }\n",
       "\n",
       "    .dataframe thead th {\n",
       "        text-align: right;\n",
       "    }\n",
       "</style>\n",
       "<table border=\"1\" class=\"dataframe\">\n",
       "  <thead>\n",
       "    <tr style=\"text-align: right;\">\n",
       "      <th></th>\n",
       "      <th>ID</th>\n",
       "      <th>Name</th>\n",
       "      <th>Sex</th>\n",
       "      <th>Age</th>\n",
       "      <th>Team</th>\n",
       "      <th>NOC</th>\n",
       "      <th>Year</th>\n",
       "      <th>Season</th>\n",
       "      <th>City</th>\n",
       "      <th>Sport</th>\n",
       "      <th>Event</th>\n",
       "      <th>Medal</th>\n",
       "    </tr>\n",
       "  </thead>\n",
       "  <tbody>\n",
       "    <tr>\n",
       "      <th>0</th>\n",
       "      <td>0</td>\n",
       "      <td>A Dijiang</td>\n",
       "      <td>Male</td>\n",
       "      <td>24.0</td>\n",
       "      <td>China</td>\n",
       "      <td>CHN</td>\n",
       "      <td>1992</td>\n",
       "      <td>Summer</td>\n",
       "      <td>Barcelona</td>\n",
       "      <td>Basketball</td>\n",
       "      <td>Basketball Men's Basketball</td>\n",
       "      <td>NaN</td>\n",
       "    </tr>\n",
       "  </tbody>\n",
       "</table>\n",
       "</div>"
      ],
      "text/plain": [
       "   ID       Name   Sex   Age   Team  NOC  Year  Season       City       Sport  \\\n",
       "0   0  A Dijiang  Male  24.0  China  CHN  1992  Summer  Barcelona  Basketball   \n",
       "\n",
       "                         Event Medal  \n",
       "0  Basketball Men's Basketball   NaN  "
      ]
     },
     "execution_count": 28,
     "metadata": {},
     "output_type": "execute_result"
    }
   ],
   "source": [
    "df_2.head(1)"
   ]
  },
  {
   "cell_type": "code",
   "execution_count": 29,
   "id": "21ecc9db",
   "metadata": {
    "execution": {
     "iopub.execute_input": "2024-08-31T14:14:18.671808Z",
     "iopub.status.busy": "2024-08-31T14:14:18.671312Z",
     "iopub.status.idle": "2024-08-31T14:14:18.679623Z",
     "shell.execute_reply": "2024-08-31T14:14:18.678444Z"
    },
    "papermill": {
     "duration": 0.070823,
     "end_time": "2024-08-31T14:14:18.682212",
     "exception": false,
     "start_time": "2024-08-31T14:14:18.611389",
     "status": "completed"
    },
    "tags": []
   },
   "outputs": [
    {
     "data": {
      "text/plain": [
       "Index(['discipline_title', 'event_title', 'slug_game', 'participant_type',\n",
       "       'medal_type', 'athletes', 'rank_equal', 'rank_position', 'country_name',\n",
       "       'country_code', 'country_3_letter_code', 'athlete_url',\n",
       "       'athlete_full_name', 'value_unit', 'value_type'],\n",
       "      dtype='object')"
      ]
     },
     "execution_count": 29,
     "metadata": {},
     "output_type": "execute_result"
    }
   ],
   "source": [
    "df_rslt.columns"
   ]
  },
  {
   "cell_type": "code",
   "execution_count": 30,
   "id": "56da0d07",
   "metadata": {
    "execution": {
     "iopub.execute_input": "2024-08-31T14:14:18.802808Z",
     "iopub.status.busy": "2024-08-31T14:14:18.802279Z",
     "iopub.status.idle": "2024-08-31T14:14:18.810942Z",
     "shell.execute_reply": "2024-08-31T14:14:18.809761Z"
    },
    "papermill": {
     "duration": 0.074132,
     "end_time": "2024-08-31T14:14:18.813640",
     "exception": false,
     "start_time": "2024-08-31T14:14:18.739508",
     "status": "completed"
    },
    "tags": []
   },
   "outputs": [
    {
     "data": {
      "text/plain": [
       "Index(['ID', 'Name', 'Sex', 'Age', 'Team', 'NOC', 'Year', 'Season', 'City',\n",
       "       'Sport', 'Event', 'Medal'],\n",
       "      dtype='object')"
      ]
     },
     "execution_count": 30,
     "metadata": {},
     "output_type": "execute_result"
    }
   ],
   "source": [
    "df_2.columns"
   ]
  },
  {
   "cell_type": "markdown",
   "id": "17ae0167",
   "metadata": {
    "papermill": {
     "duration": 0.057674,
     "end_time": "2024-08-31T14:14:18.927746",
     "exception": false,
     "start_time": "2024-08-31T14:14:18.870072",
     "status": "completed"
    },
    "tags": []
   },
   "source": [
    "## add df_rslt (year 2022 data) to df_2"
   ]
  },
  {
   "cell_type": "code",
   "execution_count": 31,
   "id": "29a1fd9b",
   "metadata": {
    "execution": {
     "iopub.execute_input": "2024-08-31T14:14:19.055305Z",
     "iopub.status.busy": "2024-08-31T14:14:19.054753Z",
     "iopub.status.idle": "2024-08-31T14:14:19.075835Z",
     "shell.execute_reply": "2024-08-31T14:14:19.074495Z"
    },
    "papermill": {
     "duration": 0.092302,
     "end_time": "2024-08-31T14:14:19.078870",
     "exception": false,
     "start_time": "2024-08-31T14:14:18.986568",
     "status": "completed"
    },
    "tags": []
   },
   "outputs": [
    {
     "data": {
      "text/html": [
       "<div>\n",
       "<style scoped>\n",
       "    .dataframe tbody tr th:only-of-type {\n",
       "        vertical-align: middle;\n",
       "    }\n",
       "\n",
       "    .dataframe tbody tr th {\n",
       "        vertical-align: top;\n",
       "    }\n",
       "\n",
       "    .dataframe thead th {\n",
       "        text-align: right;\n",
       "    }\n",
       "</style>\n",
       "<table border=\"1\" class=\"dataframe\">\n",
       "  <thead>\n",
       "    <tr style=\"text-align: right;\">\n",
       "      <th></th>\n",
       "      <th>discipline_title</th>\n",
       "      <th>event_title</th>\n",
       "      <th>slug_game</th>\n",
       "      <th>participant_type</th>\n",
       "      <th>medal_type</th>\n",
       "      <th>athletes</th>\n",
       "      <th>rank_equal</th>\n",
       "      <th>rank_position</th>\n",
       "      <th>country_name</th>\n",
       "      <th>country_code</th>\n",
       "      <th>country_3_letter_code</th>\n",
       "      <th>athlete_url</th>\n",
       "      <th>athlete_full_name</th>\n",
       "      <th>value_unit</th>\n",
       "      <th>value_type</th>\n",
       "    </tr>\n",
       "  </thead>\n",
       "  <tbody>\n",
       "    <tr>\n",
       "      <th>0</th>\n",
       "      <td>Curling</td>\n",
       "      <td>Mixed Doubles</td>\n",
       "      <td>beijing-2022</td>\n",
       "      <td>GameTeam</td>\n",
       "      <td>GOLD</td>\n",
       "      <td>[('Stefania CONSTANTINI', 'https://olympics.co...</td>\n",
       "      <td>False</td>\n",
       "      <td>1</td>\n",
       "      <td>Italy</td>\n",
       "      <td>IT</td>\n",
       "      <td>ITA</td>\n",
       "      <td>NaN</td>\n",
       "      <td>NaN</td>\n",
       "      <td>NaN</td>\n",
       "      <td>NaN</td>\n",
       "    </tr>\n",
       "  </tbody>\n",
       "</table>\n",
       "</div>"
      ],
      "text/plain": [
       "  discipline_title    event_title     slug_game participant_type medal_type  \\\n",
       "0          Curling  Mixed Doubles  beijing-2022         GameTeam       GOLD   \n",
       "\n",
       "                                            athletes rank_equal rank_position  \\\n",
       "0  [('Stefania CONSTANTINI', 'https://olympics.co...      False             1   \n",
       "\n",
       "  country_name country_code country_3_letter_code athlete_url  \\\n",
       "0        Italy           IT                   ITA         NaN   \n",
       "\n",
       "  athlete_full_name value_unit value_type  \n",
       "0               NaN        NaN        NaN  "
      ]
     },
     "execution_count": 31,
     "metadata": {},
     "output_type": "execute_result"
    }
   ],
   "source": [
    "df_rslt.head(1)"
   ]
  },
  {
   "cell_type": "code",
   "execution_count": 32,
   "id": "0737e665",
   "metadata": {
    "execution": {
     "iopub.execute_input": "2024-08-31T14:14:19.199843Z",
     "iopub.status.busy": "2024-08-31T14:14:19.198417Z",
     "iopub.status.idle": "2024-08-31T14:14:19.236454Z",
     "shell.execute_reply": "2024-08-31T14:14:19.235166Z"
    },
    "papermill": {
     "duration": 0.101973,
     "end_time": "2024-08-31T14:14:19.239495",
     "exception": false,
     "start_time": "2024-08-31T14:14:19.137522",
     "status": "completed"
    },
    "tags": []
   },
   "outputs": [],
   "source": [
    "df_rslt_22 = df_rslt[df_rslt['slug_game'] == 'beijing-2022']"
   ]
  },
  {
   "cell_type": "code",
   "execution_count": 33,
   "id": "bc4ad204",
   "metadata": {
    "execution": {
     "iopub.execute_input": "2024-08-31T14:14:19.358804Z",
     "iopub.status.busy": "2024-08-31T14:14:19.357366Z",
     "iopub.status.idle": "2024-08-31T14:14:19.376973Z",
     "shell.execute_reply": "2024-08-31T14:14:19.375653Z"
    },
    "papermill": {
     "duration": 0.081587,
     "end_time": "2024-08-31T14:14:19.379596",
     "exception": false,
     "start_time": "2024-08-31T14:14:19.298009",
     "status": "completed"
    },
    "tags": []
   },
   "outputs": [
    {
     "data": {
      "text/html": [
       "<div>\n",
       "<style scoped>\n",
       "    .dataframe tbody tr th:only-of-type {\n",
       "        vertical-align: middle;\n",
       "    }\n",
       "\n",
       "    .dataframe tbody tr th {\n",
       "        vertical-align: top;\n",
       "    }\n",
       "\n",
       "    .dataframe thead th {\n",
       "        text-align: right;\n",
       "    }\n",
       "</style>\n",
       "<table border=\"1\" class=\"dataframe\">\n",
       "  <thead>\n",
       "    <tr style=\"text-align: right;\">\n",
       "      <th></th>\n",
       "      <th>discipline_title</th>\n",
       "      <th>event_title</th>\n",
       "      <th>slug_game</th>\n",
       "      <th>participant_type</th>\n",
       "      <th>medal_type</th>\n",
       "      <th>athletes</th>\n",
       "      <th>rank_equal</th>\n",
       "      <th>rank_position</th>\n",
       "      <th>country_name</th>\n",
       "      <th>country_code</th>\n",
       "      <th>country_3_letter_code</th>\n",
       "      <th>athlete_url</th>\n",
       "      <th>athlete_full_name</th>\n",
       "      <th>value_unit</th>\n",
       "      <th>value_type</th>\n",
       "    </tr>\n",
       "  </thead>\n",
       "  <tbody>\n",
       "    <tr>\n",
       "      <th>0</th>\n",
       "      <td>Curling</td>\n",
       "      <td>Mixed Doubles</td>\n",
       "      <td>beijing-2022</td>\n",
       "      <td>GameTeam</td>\n",
       "      <td>GOLD</td>\n",
       "      <td>[('Stefania CONSTANTINI', 'https://olympics.co...</td>\n",
       "      <td>False</td>\n",
       "      <td>1</td>\n",
       "      <td>Italy</td>\n",
       "      <td>IT</td>\n",
       "      <td>ITA</td>\n",
       "      <td>NaN</td>\n",
       "      <td>NaN</td>\n",
       "      <td>NaN</td>\n",
       "      <td>NaN</td>\n",
       "    </tr>\n",
       "  </tbody>\n",
       "</table>\n",
       "</div>"
      ],
      "text/plain": [
       "  discipline_title    event_title     slug_game participant_type medal_type  \\\n",
       "0          Curling  Mixed Doubles  beijing-2022         GameTeam       GOLD   \n",
       "\n",
       "                                            athletes rank_equal rank_position  \\\n",
       "0  [('Stefania CONSTANTINI', 'https://olympics.co...      False             1   \n",
       "\n",
       "  country_name country_code country_3_letter_code athlete_url  \\\n",
       "0        Italy           IT                   ITA         NaN   \n",
       "\n",
       "  athlete_full_name value_unit value_type  \n",
       "0               NaN        NaN        NaN  "
      ]
     },
     "execution_count": 33,
     "metadata": {},
     "output_type": "execute_result"
    }
   ],
   "source": [
    "df_rslt_22.head(1)"
   ]
  },
  {
   "cell_type": "code",
   "execution_count": 34,
   "id": "3502ea9b",
   "metadata": {
    "execution": {
     "iopub.execute_input": "2024-08-31T14:14:19.496775Z",
     "iopub.status.busy": "2024-08-31T14:14:19.495719Z",
     "iopub.status.idle": "2024-08-31T14:14:19.503536Z",
     "shell.execute_reply": "2024-08-31T14:14:19.502302Z"
    },
    "papermill": {
     "duration": 0.070039,
     "end_time": "2024-08-31T14:14:19.506006",
     "exception": false,
     "start_time": "2024-08-31T14:14:19.435967",
     "status": "completed"
    },
    "tags": []
   },
   "outputs": [
    {
     "data": {
      "text/plain": [
       "(3784, 15)"
      ]
     },
     "execution_count": 34,
     "metadata": {},
     "output_type": "execute_result"
    }
   ],
   "source": [
    "df_rslt_22.shape"
   ]
  },
  {
   "cell_type": "markdown",
   "id": "35d7ec9d",
   "metadata": {
    "papermill": {
     "duration": 0.057911,
     "end_time": "2024-08-31T14:14:19.620711",
     "exception": false,
     "start_time": "2024-08-31T14:14:19.562800",
     "status": "completed"
    },
    "tags": []
   },
   "source": [
    "## column match df_2: df_rslt\n",
    "- ID: continue the sequence\n",
    "- Name : athlete_full_name\n",
    "- Sex: no column available ; event_gender in df_medal; if 'mixed' tackle later\n",
    "- Age: athlete_year_birth in df_ath\n",
    "- Team : country_name\n",
    "- NOC : country_3_letter_code \n",
    "- Year : slug_game ; extract year\n",
    "- Season: winter \n",
    "- City : Beijing\n",
    "- Sport: discipline_title\n",
    "- Event : event_title\n",
    "- Medal : medal_type"
   ]
  },
  {
   "cell_type": "code",
   "execution_count": 35,
   "id": "acb29297",
   "metadata": {
    "execution": {
     "iopub.execute_input": "2024-08-31T14:14:19.737505Z",
     "iopub.status.busy": "2024-08-31T14:14:19.736474Z",
     "iopub.status.idle": "2024-08-31T14:14:19.750654Z",
     "shell.execute_reply": "2024-08-31T14:14:19.749604Z"
    },
    "papermill": {
     "duration": 0.076251,
     "end_time": "2024-08-31T14:14:19.753985",
     "exception": false,
     "start_time": "2024-08-31T14:14:19.677734",
     "status": "completed"
    },
    "tags": []
   },
   "outputs": [
    {
     "data": {
      "text/html": [
       "<div>\n",
       "<style scoped>\n",
       "    .dataframe tbody tr th:only-of-type {\n",
       "        vertical-align: middle;\n",
       "    }\n",
       "\n",
       "    .dataframe tbody tr th {\n",
       "        vertical-align: top;\n",
       "    }\n",
       "\n",
       "    .dataframe thead th {\n",
       "        text-align: right;\n",
       "    }\n",
       "</style>\n",
       "<table border=\"1\" class=\"dataframe\">\n",
       "  <thead>\n",
       "    <tr style=\"text-align: right;\">\n",
       "      <th></th>\n",
       "      <th>athlete_url</th>\n",
       "      <th>athlete_full_name</th>\n",
       "      <th>games_participations</th>\n",
       "      <th>first_game</th>\n",
       "      <th>athlete_year_birth</th>\n",
       "      <th>athlete_medals</th>\n",
       "      <th>bio</th>\n",
       "    </tr>\n",
       "  </thead>\n",
       "  <tbody>\n",
       "    <tr>\n",
       "      <th>0</th>\n",
       "      <td>https://olympics.com/en/athletes/cooper-woods-...</td>\n",
       "      <td>Cooper WOODS-TOPALOVIC</td>\n",
       "      <td>1</td>\n",
       "      <td>Beijing 2022</td>\n",
       "      <td>2000.0</td>\n",
       "      <td>NaN</td>\n",
       "      <td>NaN</td>\n",
       "    </tr>\n",
       "  </tbody>\n",
       "</table>\n",
       "</div>"
      ],
      "text/plain": [
       "                                         athlete_url       athlete_full_name  \\\n",
       "0  https://olympics.com/en/athletes/cooper-woods-...  Cooper WOODS-TOPALOVIC   \n",
       "\n",
       "   games_participations    first_game  athlete_year_birth athlete_medals  bio  \n",
       "0                     1  Beijing 2022              2000.0            NaN  NaN  "
      ]
     },
     "execution_count": 35,
     "metadata": {},
     "output_type": "execute_result"
    }
   ],
   "source": [
    "df_ath.head(1)"
   ]
  },
  {
   "cell_type": "code",
   "execution_count": 36,
   "id": "62678aef",
   "metadata": {
    "execution": {
     "iopub.execute_input": "2024-08-31T14:14:19.876657Z",
     "iopub.status.busy": "2024-08-31T14:14:19.876197Z",
     "iopub.status.idle": "2024-08-31T14:14:19.911577Z",
     "shell.execute_reply": "2024-08-31T14:14:19.910275Z"
    },
    "papermill": {
     "duration": 0.100692,
     "end_time": "2024-08-31T14:14:19.914658",
     "exception": false,
     "start_time": "2024-08-31T14:14:19.813966",
     "status": "completed"
    },
    "tags": []
   },
   "outputs": [
    {
     "data": {
      "text/html": [
       "<div>\n",
       "<style scoped>\n",
       "    .dataframe tbody tr th:only-of-type {\n",
       "        vertical-align: middle;\n",
       "    }\n",
       "\n",
       "    .dataframe tbody tr th {\n",
       "        vertical-align: top;\n",
       "    }\n",
       "\n",
       "    .dataframe thead th {\n",
       "        text-align: right;\n",
       "    }\n",
       "</style>\n",
       "<table border=\"1\" class=\"dataframe\">\n",
       "  <thead>\n",
       "    <tr style=\"text-align: right;\">\n",
       "      <th></th>\n",
       "      <th>athlete_url</th>\n",
       "      <th>athlete_full_name</th>\n",
       "      <th>games_participations</th>\n",
       "      <th>first_game</th>\n",
       "      <th>athlete_year_birth</th>\n",
       "      <th>athlete_medals</th>\n",
       "      <th>bio</th>\n",
       "    </tr>\n",
       "  </thead>\n",
       "  <tbody>\n",
       "    <tr>\n",
       "      <th>11547</th>\n",
       "      <td>https://olympics.com/en/athletes/michael-phelp...</td>\n",
       "      <td>Michael PHELPS</td>\n",
       "      <td>5</td>\n",
       "      <td>Sydney 2000</td>\n",
       "      <td>1985.0</td>\n",
       "      <td>\\n\\n\\n23\\n\\nG\\n\\n\\n\\n3\\n\\nS\\n\\n\\n\\n2\\n\\nB\\n\\n</td>\n",
       "      <td>\\n\\n\\nMichael Phelps is arguably the greatest ...</td>\n",
       "    </tr>\n",
       "  </tbody>\n",
       "</table>\n",
       "</div>"
      ],
      "text/plain": [
       "                                             athlete_url athlete_full_name  \\\n",
       "11547  https://olympics.com/en/athletes/michael-phelp...    Michael PHELPS   \n",
       "\n",
       "       games_participations   first_game  athlete_year_birth  \\\n",
       "11547                     5  Sydney 2000              1985.0   \n",
       "\n",
       "                                      athlete_medals  \\\n",
       "11547  \\n\\n\\n23\\n\\nG\\n\\n\\n\\n3\\n\\nS\\n\\n\\n\\n2\\n\\nB\\n\\n   \n",
       "\n",
       "                                                     bio  \n",
       "11547  \\n\\n\\nMichael Phelps is arguably the greatest ...  "
      ]
     },
     "execution_count": 36,
     "metadata": {},
     "output_type": "execute_result"
    }
   ],
   "source": [
    "df_ath[df_ath['athlete_full_name'] == 'Michael PHELPS']"
   ]
  },
  {
   "cell_type": "markdown",
   "id": "36f1af8d",
   "metadata": {
    "papermill": {
     "duration": 0.057061,
     "end_time": "2024-08-31T14:14:20.031961",
     "exception": false,
     "start_time": "2024-08-31T14:14:19.974900",
     "status": "completed"
    },
    "tags": []
   },
   "source": [
    "## Checked on Excel the records are complete. Athletes name are not mentioned in Team events. Hence, 16 individual medals to Michael Phelps and 12 Team medals."
   ]
  },
  {
   "cell_type": "markdown",
   "id": "1cfdcf61",
   "metadata": {
    "papermill": {
     "duration": 0.058937,
     "end_time": "2024-08-31T14:14:20.150916",
     "exception": false,
     "start_time": "2024-08-31T14:14:20.091979",
     "status": "completed"
    },
    "tags": []
   },
   "source": [
    "# Phewwwww ! No need to merge the datasets. Saves so much time."
   ]
  },
  {
   "cell_type": "code",
   "execution_count": 37,
   "id": "9cc335fa",
   "metadata": {
    "execution": {
     "iopub.execute_input": "2024-08-31T14:14:20.274844Z",
     "iopub.status.busy": "2024-08-31T14:14:20.274235Z",
     "iopub.status.idle": "2024-08-31T14:14:20.299069Z",
     "shell.execute_reply": "2024-08-31T14:14:20.297705Z"
    },
    "papermill": {
     "duration": 0.092279,
     "end_time": "2024-08-31T14:14:20.302409",
     "exception": false,
     "start_time": "2024-08-31T14:14:20.210130",
     "status": "completed"
    },
    "tags": []
   },
   "outputs": [
    {
     "data": {
      "text/plain": [
       "array(['GameTeam', 'Athlete'], dtype=object)"
      ]
     },
     "execution_count": 37,
     "metadata": {},
     "output_type": "execute_result"
    }
   ],
   "source": [
    "df_rslt['participant_type'].unique()"
   ]
  },
  {
   "cell_type": "markdown",
   "id": "d9ddb17e",
   "metadata": {
    "papermill": {
     "duration": 0.059584,
     "end_time": "2024-08-31T14:14:20.423770",
     "exception": false,
     "start_time": "2024-08-31T14:14:20.364186",
     "status": "completed"
    },
    "tags": []
   },
   "source": [
    "# Loaded new dataset of 2024 olympics shared by  petro."
   ]
  },
  {
   "cell_type": "markdown",
   "id": "c7777e70",
   "metadata": {
    "papermill": {
     "duration": 0.057097,
     "end_time": "2024-08-31T14:14:20.545099",
     "exception": false,
     "start_time": "2024-08-31T14:14:20.488002",
     "status": "completed"
    },
    "tags": []
   },
   "source": [
    "## Merge the datasets: olympics medals (1896-2022) and olympics medallists (2024)"
   ]
  },
  {
   "cell_type": "markdown",
   "id": "f62be40a",
   "metadata": {
    "papermill": {
     "duration": 0.063687,
     "end_time": "2024-08-31T14:14:20.669553",
     "exception": false,
     "start_time": "2024-08-31T14:14:20.605866",
     "status": "completed"
    },
    "tags": []
   },
   "source": []
  },
  {
   "cell_type": "markdown",
   "id": "32f1bd08",
   "metadata": {
    "papermill": {
     "duration": 0.060269,
     "end_time": "2024-08-31T14:14:20.794204",
     "exception": false,
     "start_time": "2024-08-31T14:14:20.733935",
     "status": "completed"
    },
    "tags": []
   },
   "source": [
    "# Load 2024 Olympics medallists dataset"
   ]
  },
  {
   "cell_type": "code",
   "execution_count": 38,
   "id": "a74c4ba1",
   "metadata": {
    "execution": {
     "iopub.execute_input": "2024-08-31T14:14:20.921197Z",
     "iopub.status.busy": "2024-08-31T14:14:20.920677Z",
     "iopub.status.idle": "2024-08-31T14:14:20.927106Z",
     "shell.execute_reply": "2024-08-31T14:14:20.925728Z"
    },
    "papermill": {
     "duration": 0.076628,
     "end_time": "2024-08-31T14:14:20.930011",
     "exception": false,
     "start_time": "2024-08-31T14:14:20.853383",
     "status": "completed"
    },
    "tags": []
   },
   "outputs": [],
   "source": [
    "medallist_2024 = '/kaggle/input/paris-2024-olympic-summer-games/medallists.csv'"
   ]
  },
  {
   "cell_type": "code",
   "execution_count": 39,
   "id": "5be6a787",
   "metadata": {
    "execution": {
     "iopub.execute_input": "2024-08-31T14:14:21.070832Z",
     "iopub.status.busy": "2024-08-31T14:14:21.070301Z",
     "iopub.status.idle": "2024-08-31T14:14:21.110773Z",
     "shell.execute_reply": "2024-08-31T14:14:21.109494Z"
    },
    "papermill": {
     "duration": 0.103956,
     "end_time": "2024-08-31T14:14:21.113942",
     "exception": false,
     "start_time": "2024-08-31T14:14:21.009986",
     "status": "completed"
    },
    "tags": []
   },
   "outputs": [],
   "source": [
    "df_medal_24 = pd.read_csv(medallist_2024)"
   ]
  },
  {
   "cell_type": "code",
   "execution_count": 40,
   "id": "158a2fa4",
   "metadata": {
    "execution": {
     "iopub.execute_input": "2024-08-31T14:14:21.233112Z",
     "iopub.status.busy": "2024-08-31T14:14:21.232658Z",
     "iopub.status.idle": "2024-08-31T14:14:21.259489Z",
     "shell.execute_reply": "2024-08-31T14:14:21.258109Z"
    },
    "papermill": {
     "duration": 0.090015,
     "end_time": "2024-08-31T14:14:21.262827",
     "exception": false,
     "start_time": "2024-08-31T14:14:21.172812",
     "status": "completed"
    },
    "tags": []
   },
   "outputs": [
    {
     "data": {
      "text/html": [
       "<div>\n",
       "<style scoped>\n",
       "    .dataframe tbody tr th:only-of-type {\n",
       "        vertical-align: middle;\n",
       "    }\n",
       "\n",
       "    .dataframe tbody tr th {\n",
       "        vertical-align: top;\n",
       "    }\n",
       "\n",
       "    .dataframe thead th {\n",
       "        text-align: right;\n",
       "    }\n",
       "</style>\n",
       "<table border=\"1\" class=\"dataframe\">\n",
       "  <thead>\n",
       "    <tr style=\"text-align: right;\">\n",
       "      <th></th>\n",
       "      <th>medal_date</th>\n",
       "      <th>medal_type</th>\n",
       "      <th>medal_code</th>\n",
       "      <th>name</th>\n",
       "      <th>gender</th>\n",
       "      <th>country_code</th>\n",
       "      <th>country</th>\n",
       "      <th>country_long</th>\n",
       "      <th>nationality_code</th>\n",
       "      <th>nationality</th>\n",
       "      <th>...</th>\n",
       "      <th>team</th>\n",
       "      <th>team_gender</th>\n",
       "      <th>discipline</th>\n",
       "      <th>event</th>\n",
       "      <th>event_type</th>\n",
       "      <th>url_event</th>\n",
       "      <th>birth_date</th>\n",
       "      <th>code_athlete</th>\n",
       "      <th>code_team</th>\n",
       "      <th>is_medallist</th>\n",
       "    </tr>\n",
       "  </thead>\n",
       "  <tbody>\n",
       "    <tr>\n",
       "      <th>0</th>\n",
       "      <td>2024-07-27</td>\n",
       "      <td>Gold Medal</td>\n",
       "      <td>1.0</td>\n",
       "      <td>EVENEPOEL Remco</td>\n",
       "      <td>Male</td>\n",
       "      <td>BEL</td>\n",
       "      <td>Belgium</td>\n",
       "      <td>Belgium</td>\n",
       "      <td>BEL</td>\n",
       "      <td>Belgium</td>\n",
       "      <td>...</td>\n",
       "      <td>NaN</td>\n",
       "      <td>NaN</td>\n",
       "      <td>Cycling Road</td>\n",
       "      <td>Men's Individual Time Trial</td>\n",
       "      <td>ATH</td>\n",
       "      <td>/en/paris-2024/results/cycling-road/men-s-indi...</td>\n",
       "      <td>2000-01-25</td>\n",
       "      <td>1903136</td>\n",
       "      <td>NaN</td>\n",
       "      <td>True</td>\n",
       "    </tr>\n",
       "  </tbody>\n",
       "</table>\n",
       "<p>1 rows × 21 columns</p>\n",
       "</div>"
      ],
      "text/plain": [
       "   medal_date  medal_type  medal_code             name gender country_code  \\\n",
       "0  2024-07-27  Gold Medal         1.0  EVENEPOEL Remco   Male          BEL   \n",
       "\n",
       "   country country_long nationality_code nationality  ... team team_gender  \\\n",
       "0  Belgium      Belgium              BEL     Belgium  ...  NaN         NaN   \n",
       "\n",
       "     discipline                        event event_type  \\\n",
       "0  Cycling Road  Men's Individual Time Trial        ATH   \n",
       "\n",
       "                                           url_event  birth_date code_athlete  \\\n",
       "0  /en/paris-2024/results/cycling-road/men-s-indi...  2000-01-25      1903136   \n",
       "\n",
       "   code_team is_medallist  \n",
       "0        NaN         True  \n",
       "\n",
       "[1 rows x 21 columns]"
      ]
     },
     "execution_count": 40,
     "metadata": {},
     "output_type": "execute_result"
    }
   ],
   "source": [
    "df_medal_24.head(1)"
   ]
  },
  {
   "cell_type": "code",
   "execution_count": 41,
   "id": "57f4c5fb",
   "metadata": {
    "execution": {
     "iopub.execute_input": "2024-08-31T14:14:21.383000Z",
     "iopub.status.busy": "2024-08-31T14:14:21.382539Z",
     "iopub.status.idle": "2024-08-31T14:14:21.390264Z",
     "shell.execute_reply": "2024-08-31T14:14:21.389068Z"
    },
    "papermill": {
     "duration": 0.07012,
     "end_time": "2024-08-31T14:14:21.392820",
     "exception": false,
     "start_time": "2024-08-31T14:14:21.322700",
     "status": "completed"
    },
    "tags": []
   },
   "outputs": [
    {
     "data": {
      "text/plain": [
       "(2315, 21)"
      ]
     },
     "execution_count": 41,
     "metadata": {},
     "output_type": "execute_result"
    }
   ],
   "source": [
    "df_medal_24.shape"
   ]
  },
  {
   "cell_type": "code",
   "execution_count": 42,
   "id": "a10e9710",
   "metadata": {
    "execution": {
     "iopub.execute_input": "2024-08-31T14:14:21.512512Z",
     "iopub.status.busy": "2024-08-31T14:14:21.512054Z",
     "iopub.status.idle": "2024-08-31T14:14:21.532623Z",
     "shell.execute_reply": "2024-08-31T14:14:21.531490Z"
    },
    "papermill": {
     "duration": 0.082801,
     "end_time": "2024-08-31T14:14:21.535102",
     "exception": false,
     "start_time": "2024-08-31T14:14:21.452301",
     "status": "completed"
    },
    "tags": []
   },
   "outputs": [
    {
     "data": {
      "text/html": [
       "<div>\n",
       "<style scoped>\n",
       "    .dataframe tbody tr th:only-of-type {\n",
       "        vertical-align: middle;\n",
       "    }\n",
       "\n",
       "    .dataframe tbody tr th {\n",
       "        vertical-align: top;\n",
       "    }\n",
       "\n",
       "    .dataframe thead th {\n",
       "        text-align: right;\n",
       "    }\n",
       "</style>\n",
       "<table border=\"1\" class=\"dataframe\">\n",
       "  <thead>\n",
       "    <tr style=\"text-align: right;\">\n",
       "      <th></th>\n",
       "      <th>medal_code</th>\n",
       "      <th>code_athlete</th>\n",
       "    </tr>\n",
       "  </thead>\n",
       "  <tbody>\n",
       "    <tr>\n",
       "      <th>count</th>\n",
       "      <td>2314.000000</td>\n",
       "      <td>2.315000e+03</td>\n",
       "    </tr>\n",
       "    <tr>\n",
       "      <th>mean</th>\n",
       "      <td>2.023336</td>\n",
       "      <td>1.893321e+06</td>\n",
       "    </tr>\n",
       "    <tr>\n",
       "      <th>std</th>\n",
       "      <td>0.820390</td>\n",
       "      <td>2.628276e+05</td>\n",
       "    </tr>\n",
       "    <tr>\n",
       "      <th>min</th>\n",
       "      <td>1.000000</td>\n",
       "      <td>1.532872e+06</td>\n",
       "    </tr>\n",
       "    <tr>\n",
       "      <th>25%</th>\n",
       "      <td>1.000000</td>\n",
       "      <td>1.896552e+06</td>\n",
       "    </tr>\n",
       "    <tr>\n",
       "      <th>50%</th>\n",
       "      <td>2.000000</td>\n",
       "      <td>1.924464e+06</td>\n",
       "    </tr>\n",
       "    <tr>\n",
       "      <th>75%</th>\n",
       "      <td>3.000000</td>\n",
       "      <td>1.950498e+06</td>\n",
       "    </tr>\n",
       "    <tr>\n",
       "      <th>max</th>\n",
       "      <td>3.000000</td>\n",
       "      <td>4.980004e+06</td>\n",
       "    </tr>\n",
       "  </tbody>\n",
       "</table>\n",
       "</div>"
      ],
      "text/plain": [
       "        medal_code  code_athlete\n",
       "count  2314.000000  2.315000e+03\n",
       "mean      2.023336  1.893321e+06\n",
       "std       0.820390  2.628276e+05\n",
       "min       1.000000  1.532872e+06\n",
       "25%       1.000000  1.896552e+06\n",
       "50%       2.000000  1.924464e+06\n",
       "75%       3.000000  1.950498e+06\n",
       "max       3.000000  4.980004e+06"
      ]
     },
     "execution_count": 42,
     "metadata": {},
     "output_type": "execute_result"
    }
   ],
   "source": [
    "df_medal_24.describe()"
   ]
  },
  {
   "cell_type": "code",
   "execution_count": 43,
   "id": "8ceed861",
   "metadata": {
    "execution": {
     "iopub.execute_input": "2024-08-31T14:14:21.657644Z",
     "iopub.status.busy": "2024-08-31T14:14:21.657150Z",
     "iopub.status.idle": "2024-08-31T14:14:21.673464Z",
     "shell.execute_reply": "2024-08-31T14:14:21.672166Z"
    },
    "papermill": {
     "duration": 0.082455,
     "end_time": "2024-08-31T14:14:21.676396",
     "exception": false,
     "start_time": "2024-08-31T14:14:21.593941",
     "status": "completed"
    },
    "tags": []
   },
   "outputs": [
    {
     "data": {
      "text/plain": [
       "medal_date            0\n",
       "medal_type            0\n",
       "medal_code            1\n",
       "name                  0\n",
       "gender                0\n",
       "country_code          0\n",
       "country               0\n",
       "country_long          0\n",
       "nationality_code      1\n",
       "nationality           1\n",
       "nationality_long      1\n",
       "team                760\n",
       "team_gender         760\n",
       "discipline            0\n",
       "event                 0\n",
       "event_type            0\n",
       "url_event            21\n",
       "birth_date            0\n",
       "code_athlete          0\n",
       "code_team           760\n",
       "is_medallist          0\n",
       "dtype: int64"
      ]
     },
     "execution_count": 43,
     "metadata": {},
     "output_type": "execute_result"
    }
   ],
   "source": [
    "df_medal_24.isnull().sum()"
   ]
  },
  {
   "cell_type": "markdown",
   "id": "8677c215",
   "metadata": {
    "papermill": {
     "duration": 0.060751,
     "end_time": "2024-08-31T14:14:21.795810",
     "exception": false,
     "start_time": "2024-08-31T14:14:21.735059",
     "status": "completed"
    },
    "tags": []
   },
   "source": [
    "No major null values of any important column I need."
   ]
  },
  {
   "cell_type": "markdown",
   "id": "3bea2602",
   "metadata": {
    "papermill": {
     "duration": 0.058357,
     "end_time": "2024-08-31T14:14:21.912551",
     "exception": false,
     "start_time": "2024-08-31T14:14:21.854194",
     "status": "completed"
    },
    "tags": []
   },
   "source": [
    "## Making changes in 2024 Olympics medallists dataset before merging"
   ]
  },
  {
   "cell_type": "markdown",
   "id": "756b50e2",
   "metadata": {
    "papermill": {
     "duration": 0.05821,
     "end_time": "2024-08-31T14:14:22.029466",
     "exception": false,
     "start_time": "2024-08-31T14:14:21.971256",
     "status": "completed"
    },
    "tags": []
   },
   "source": [
    "### Flling 3 common missing values name, gender, country_code, country, country_long, nationality, birth_date later in excel (that's faster)."
   ]
  },
  {
   "cell_type": "code",
   "execution_count": 44,
   "id": "79a8dc46",
   "metadata": {
    "execution": {
     "iopub.execute_input": "2024-08-31T14:14:22.148683Z",
     "iopub.status.busy": "2024-08-31T14:14:22.148185Z",
     "iopub.status.idle": "2024-08-31T14:14:22.167758Z",
     "shell.execute_reply": "2024-08-31T14:14:22.166456Z"
    },
    "papermill": {
     "duration": 0.082813,
     "end_time": "2024-08-31T14:14:22.170843",
     "exception": false,
     "start_time": "2024-08-31T14:14:22.088030",
     "status": "completed"
    },
    "tags": []
   },
   "outputs": [
    {
     "data": {
      "text/html": [
       "<div>\n",
       "<style scoped>\n",
       "    .dataframe tbody tr th:only-of-type {\n",
       "        vertical-align: middle;\n",
       "    }\n",
       "\n",
       "    .dataframe tbody tr th {\n",
       "        vertical-align: top;\n",
       "    }\n",
       "\n",
       "    .dataframe thead th {\n",
       "        text-align: right;\n",
       "    }\n",
       "</style>\n",
       "<table border=\"1\" class=\"dataframe\">\n",
       "  <thead>\n",
       "    <tr style=\"text-align: right;\">\n",
       "      <th></th>\n",
       "      <th>medal_date</th>\n",
       "      <th>medal_type</th>\n",
       "      <th>medal_code</th>\n",
       "      <th>name</th>\n",
       "      <th>gender</th>\n",
       "      <th>country_code</th>\n",
       "      <th>country</th>\n",
       "      <th>country_long</th>\n",
       "      <th>nationality_code</th>\n",
       "      <th>nationality</th>\n",
       "      <th>...</th>\n",
       "      <th>team</th>\n",
       "      <th>team_gender</th>\n",
       "      <th>discipline</th>\n",
       "      <th>event</th>\n",
       "      <th>event_type</th>\n",
       "      <th>url_event</th>\n",
       "      <th>birth_date</th>\n",
       "      <th>code_athlete</th>\n",
       "      <th>code_team</th>\n",
       "      <th>is_medallist</th>\n",
       "    </tr>\n",
       "  </thead>\n",
       "  <tbody>\n",
       "  </tbody>\n",
       "</table>\n",
       "<p>0 rows × 21 columns</p>\n",
       "</div>"
      ],
      "text/plain": [
       "Empty DataFrame\n",
       "Columns: [medal_date, medal_type, medal_code, name, gender, country_code, country, country_long, nationality_code, nationality, nationality_long, team, team_gender, discipline, event, event_type, url_event, birth_date, code_athlete, code_team, is_medallist]\n",
       "Index: []\n",
       "\n",
       "[0 rows x 21 columns]"
      ]
     },
     "execution_count": 44,
     "metadata": {},
     "output_type": "execute_result"
    }
   ],
   "source": [
    "df_medal_24[df_medal_24['name'].isnull()]"
   ]
  },
  {
   "cell_type": "markdown",
   "id": "eaa3ae9f",
   "metadata": {
    "papermill": {
     "duration": 0.05983,
     "end_time": "2024-08-31T14:14:22.290248",
     "exception": false,
     "start_time": "2024-08-31T14:14:22.230418",
     "status": "completed"
    },
    "tags": []
   },
   "source": [
    "### Adding columns in df_medal_24:\n",
    "- column 'City' for location of the game\n",
    "- column 'Year' to specify year of the game"
   ]
  },
  {
   "cell_type": "code",
   "execution_count": 45,
   "id": "2f8aa762",
   "metadata": {
    "execution": {
     "iopub.execute_input": "2024-08-31T14:14:22.506592Z",
     "iopub.status.busy": "2024-08-31T14:14:22.506134Z",
     "iopub.status.idle": "2024-08-31T14:14:22.513263Z",
     "shell.execute_reply": "2024-08-31T14:14:22.512028Z"
    },
    "papermill": {
     "duration": 0.0716,
     "end_time": "2024-08-31T14:14:22.515962",
     "exception": false,
     "start_time": "2024-08-31T14:14:22.444362",
     "status": "completed"
    },
    "tags": []
   },
   "outputs": [],
   "source": [
    "df_medal_24['city'] = 'Paris'"
   ]
  },
  {
   "cell_type": "code",
   "execution_count": 46,
   "id": "69cae05c",
   "metadata": {
    "execution": {
     "iopub.execute_input": "2024-08-31T14:14:22.637689Z",
     "iopub.status.busy": "2024-08-31T14:14:22.637210Z",
     "iopub.status.idle": "2024-08-31T14:14:22.643701Z",
     "shell.execute_reply": "2024-08-31T14:14:22.642438Z"
    },
    "papermill": {
     "duration": 0.069013,
     "end_time": "2024-08-31T14:14:22.646214",
     "exception": false,
     "start_time": "2024-08-31T14:14:22.577201",
     "status": "completed"
    },
    "tags": []
   },
   "outputs": [],
   "source": [
    "df_medal_24['year'] = '2024'"
   ]
  },
  {
   "cell_type": "code",
   "execution_count": 47,
   "id": "08873f4e",
   "metadata": {
    "execution": {
     "iopub.execute_input": "2024-08-31T14:14:22.767253Z",
     "iopub.status.busy": "2024-08-31T14:14:22.766753Z",
     "iopub.status.idle": "2024-08-31T14:14:22.794221Z",
     "shell.execute_reply": "2024-08-31T14:14:22.792995Z"
    },
    "papermill": {
     "duration": 0.090009,
     "end_time": "2024-08-31T14:14:22.796802",
     "exception": false,
     "start_time": "2024-08-31T14:14:22.706793",
     "status": "completed"
    },
    "tags": []
   },
   "outputs": [
    {
     "data": {
      "text/html": [
       "<div>\n",
       "<style scoped>\n",
       "    .dataframe tbody tr th:only-of-type {\n",
       "        vertical-align: middle;\n",
       "    }\n",
       "\n",
       "    .dataframe tbody tr th {\n",
       "        vertical-align: top;\n",
       "    }\n",
       "\n",
       "    .dataframe thead th {\n",
       "        text-align: right;\n",
       "    }\n",
       "</style>\n",
       "<table border=\"1\" class=\"dataframe\">\n",
       "  <thead>\n",
       "    <tr style=\"text-align: right;\">\n",
       "      <th></th>\n",
       "      <th>medal_date</th>\n",
       "      <th>medal_type</th>\n",
       "      <th>medal_code</th>\n",
       "      <th>name</th>\n",
       "      <th>gender</th>\n",
       "      <th>country_code</th>\n",
       "      <th>country</th>\n",
       "      <th>country_long</th>\n",
       "      <th>nationality_code</th>\n",
       "      <th>nationality</th>\n",
       "      <th>...</th>\n",
       "      <th>discipline</th>\n",
       "      <th>event</th>\n",
       "      <th>event_type</th>\n",
       "      <th>url_event</th>\n",
       "      <th>birth_date</th>\n",
       "      <th>code_athlete</th>\n",
       "      <th>code_team</th>\n",
       "      <th>is_medallist</th>\n",
       "      <th>city</th>\n",
       "      <th>year</th>\n",
       "    </tr>\n",
       "  </thead>\n",
       "  <tbody>\n",
       "    <tr>\n",
       "      <th>0</th>\n",
       "      <td>2024-07-27</td>\n",
       "      <td>Gold Medal</td>\n",
       "      <td>1.0</td>\n",
       "      <td>EVENEPOEL Remco</td>\n",
       "      <td>Male</td>\n",
       "      <td>BEL</td>\n",
       "      <td>Belgium</td>\n",
       "      <td>Belgium</td>\n",
       "      <td>BEL</td>\n",
       "      <td>Belgium</td>\n",
       "      <td>...</td>\n",
       "      <td>Cycling Road</td>\n",
       "      <td>Men's Individual Time Trial</td>\n",
       "      <td>ATH</td>\n",
       "      <td>/en/paris-2024/results/cycling-road/men-s-indi...</td>\n",
       "      <td>2000-01-25</td>\n",
       "      <td>1903136</td>\n",
       "      <td>NaN</td>\n",
       "      <td>True</td>\n",
       "      <td>Paris</td>\n",
       "      <td>2024</td>\n",
       "    </tr>\n",
       "  </tbody>\n",
       "</table>\n",
       "<p>1 rows × 23 columns</p>\n",
       "</div>"
      ],
      "text/plain": [
       "   medal_date  medal_type  medal_code             name gender country_code  \\\n",
       "0  2024-07-27  Gold Medal         1.0  EVENEPOEL Remco   Male          BEL   \n",
       "\n",
       "   country country_long nationality_code nationality  ...    discipline  \\\n",
       "0  Belgium      Belgium              BEL     Belgium  ...  Cycling Road   \n",
       "\n",
       "                         event event_type  \\\n",
       "0  Men's Individual Time Trial        ATH   \n",
       "\n",
       "                                           url_event  birth_date code_athlete  \\\n",
       "0  /en/paris-2024/results/cycling-road/men-s-indi...  2000-01-25      1903136   \n",
       "\n",
       "  code_team is_medallist   city  year  \n",
       "0       NaN         True  Paris  2024  \n",
       "\n",
       "[1 rows x 23 columns]"
      ]
     },
     "execution_count": 47,
     "metadata": {},
     "output_type": "execute_result"
    }
   ],
   "source": [
    "df_medal_24.head(1)"
   ]
  },
  {
   "cell_type": "markdown",
   "id": "a6b40977",
   "metadata": {
    "papermill": {
     "duration": 0.059376,
     "end_time": "2024-08-31T14:14:22.915950",
     "exception": false,
     "start_time": "2024-08-31T14:14:22.856574",
     "status": "completed"
    },
    "tags": []
   },
   "source": []
  },
  {
   "cell_type": "code",
   "execution_count": 48,
   "id": "2063cb9e",
   "metadata": {
    "execution": {
     "iopub.execute_input": "2024-08-31T14:14:23.035527Z",
     "iopub.status.busy": "2024-08-31T14:14:23.035033Z",
     "iopub.status.idle": "2024-08-31T14:14:23.043198Z",
     "shell.execute_reply": "2024-08-31T14:14:23.041988Z"
    },
    "papermill": {
     "duration": 0.071026,
     "end_time": "2024-08-31T14:14:23.045677",
     "exception": false,
     "start_time": "2024-08-31T14:14:22.974651",
     "status": "completed"
    },
    "tags": []
   },
   "outputs": [],
   "source": [
    "### discarding columns I don't need in this analysis\n",
    "df_medal_24 = df_medal_24.drop(columns = ['medal_date', 'country', 'code_athlete', 'code_team', 'team_gender', 'team', 'is_medallist','nationality_code', 'nationality_long', 'nationality' ])"
   ]
  },
  {
   "cell_type": "code",
   "execution_count": 49,
   "id": "8542d6d7",
   "metadata": {
    "execution": {
     "iopub.execute_input": "2024-08-31T14:14:23.170519Z",
     "iopub.status.busy": "2024-08-31T14:14:23.170047Z",
     "iopub.status.idle": "2024-08-31T14:14:23.178252Z",
     "shell.execute_reply": "2024-08-31T14:14:23.176863Z"
    },
    "papermill": {
     "duration": 0.073028,
     "end_time": "2024-08-31T14:14:23.180916",
     "exception": false,
     "start_time": "2024-08-31T14:14:23.107888",
     "status": "completed"
    },
    "tags": []
   },
   "outputs": [],
   "source": [
    "#drop url\n",
    "df_medal_24 = df_medal_24.drop(columns = ['url_event'])"
   ]
  },
  {
   "cell_type": "code",
   "execution_count": 50,
   "id": "ef252427",
   "metadata": {
    "execution": {
     "iopub.execute_input": "2024-08-31T14:14:23.303889Z",
     "iopub.status.busy": "2024-08-31T14:14:23.303425Z",
     "iopub.status.idle": "2024-08-31T14:14:23.311618Z",
     "shell.execute_reply": "2024-08-31T14:14:23.310149Z"
    },
    "papermill": {
     "duration": 0.073452,
     "end_time": "2024-08-31T14:14:23.314431",
     "exception": false,
     "start_time": "2024-08-31T14:14:23.240979",
     "status": "completed"
    },
    "tags": []
   },
   "outputs": [
    {
     "data": {
      "text/plain": [
       "(2315, 12)"
      ]
     },
     "execution_count": 50,
     "metadata": {},
     "output_type": "execute_result"
    }
   ],
   "source": [
    "#recheking columns\n",
    "df_medal_24.shape"
   ]
  },
  {
   "cell_type": "code",
   "execution_count": 51,
   "id": "a98b97f2",
   "metadata": {
    "execution": {
     "iopub.execute_input": "2024-08-31T14:14:23.436873Z",
     "iopub.status.busy": "2024-08-31T14:14:23.436424Z",
     "iopub.status.idle": "2024-08-31T14:14:23.444619Z",
     "shell.execute_reply": "2024-08-31T14:14:23.443255Z"
    },
    "papermill": {
     "duration": 0.072446,
     "end_time": "2024-08-31T14:14:23.447405",
     "exception": false,
     "start_time": "2024-08-31T14:14:23.374959",
     "status": "completed"
    },
    "tags": []
   },
   "outputs": [],
   "source": [
    "#change column name 'country_long' to 'country' \n",
    "df_medal_24 = df_medal_24.rename(columns = {'country_long': 'country'})"
   ]
  },
  {
   "cell_type": "code",
   "execution_count": 52,
   "id": "22534950",
   "metadata": {
    "execution": {
     "iopub.execute_input": "2024-08-31T14:14:23.569995Z",
     "iopub.status.busy": "2024-08-31T14:14:23.569548Z",
     "iopub.status.idle": "2024-08-31T14:14:23.577544Z",
     "shell.execute_reply": "2024-08-31T14:14:23.576172Z"
    },
    "papermill": {
     "duration": 0.072148,
     "end_time": "2024-08-31T14:14:23.580326",
     "exception": false,
     "start_time": "2024-08-31T14:14:23.508178",
     "status": "completed"
    },
    "tags": []
   },
   "outputs": [],
   "source": [
    "#change column name 'gender' to 'event_gender'\n",
    "df_medal_24 = df_medal_24.rename(columns = {'gender': 'event_gender'})"
   ]
  },
  {
   "cell_type": "code",
   "execution_count": 53,
   "id": "66c149e0",
   "metadata": {
    "execution": {
     "iopub.execute_input": "2024-08-31T14:14:23.704202Z",
     "iopub.status.busy": "2024-08-31T14:14:23.703771Z",
     "iopub.status.idle": "2024-08-31T14:14:23.723973Z",
     "shell.execute_reply": "2024-08-31T14:14:23.722623Z"
    },
    "papermill": {
     "duration": 0.085165,
     "end_time": "2024-08-31T14:14:23.726681",
     "exception": false,
     "start_time": "2024-08-31T14:14:23.641516",
     "status": "completed"
    },
    "tags": []
   },
   "outputs": [
    {
     "data": {
      "text/html": [
       "<div>\n",
       "<style scoped>\n",
       "    .dataframe tbody tr th:only-of-type {\n",
       "        vertical-align: middle;\n",
       "    }\n",
       "\n",
       "    .dataframe tbody tr th {\n",
       "        vertical-align: top;\n",
       "    }\n",
       "\n",
       "    .dataframe thead th {\n",
       "        text-align: right;\n",
       "    }\n",
       "</style>\n",
       "<table border=\"1\" class=\"dataframe\">\n",
       "  <thead>\n",
       "    <tr style=\"text-align: right;\">\n",
       "      <th></th>\n",
       "      <th>medal_type</th>\n",
       "      <th>medal_code</th>\n",
       "      <th>name</th>\n",
       "      <th>event_gender</th>\n",
       "      <th>country_code</th>\n",
       "      <th>country</th>\n",
       "      <th>discipline</th>\n",
       "      <th>event</th>\n",
       "      <th>event_type</th>\n",
       "      <th>birth_date</th>\n",
       "      <th>city</th>\n",
       "      <th>year</th>\n",
       "    </tr>\n",
       "  </thead>\n",
       "  <tbody>\n",
       "    <tr>\n",
       "      <th>527</th>\n",
       "      <td>Bronze Medal</td>\n",
       "      <td>3.0</td>\n",
       "      <td>DJANKEU NGAMBA Cindy Winner</td>\n",
       "      <td>Female</td>\n",
       "      <td>EOR</td>\n",
       "      <td>Refugee Olympic Team</td>\n",
       "      <td>Boxing</td>\n",
       "      <td>Women's 75kg</td>\n",
       "      <td>HATH</td>\n",
       "      <td>1998-09-07</td>\n",
       "      <td>Paris</td>\n",
       "      <td>2024</td>\n",
       "    </tr>\n",
       "  </tbody>\n",
       "</table>\n",
       "</div>"
      ],
      "text/plain": [
       "       medal_type  medal_code                         name event_gender  \\\n",
       "527  Bronze Medal         3.0  DJANKEU NGAMBA Cindy Winner       Female   \n",
       "\n",
       "    country_code               country discipline         event event_type  \\\n",
       "527          EOR  Refugee Olympic Team     Boxing  Women's 75kg       HATH   \n",
       "\n",
       "     birth_date   city  year  \n",
       "527  1998-09-07  Paris  2024  "
      ]
     },
     "execution_count": 53,
     "metadata": {},
     "output_type": "execute_result"
    }
   ],
   "source": [
    "df_medal_24[df_medal_24['country_code'] == 'EOR']"
   ]
  },
  {
   "cell_type": "markdown",
   "id": "c88ad7cc",
   "metadata": {
    "papermill": {
     "duration": 0.059234,
     "end_time": "2024-08-31T14:14:23.848290",
     "exception": false,
     "start_time": "2024-08-31T14:14:23.789056",
     "status": "completed"
    },
    "tags": []
   },
   "source": [
    "Keep nationality to know where refugees are from."
   ]
  },
  {
   "cell_type": "code",
   "execution_count": 54,
   "id": "6369ab4e",
   "metadata": {
    "execution": {
     "iopub.execute_input": "2024-08-31T14:14:23.970774Z",
     "iopub.status.busy": "2024-08-31T14:14:23.969717Z",
     "iopub.status.idle": "2024-08-31T14:14:23.979888Z",
     "shell.execute_reply": "2024-08-31T14:14:23.978677Z"
    },
    "papermill": {
     "duration": 0.074376,
     "end_time": "2024-08-31T14:14:23.982660",
     "exception": false,
     "start_time": "2024-08-31T14:14:23.908284",
     "status": "completed"
    },
    "tags": []
   },
   "outputs": [
    {
     "data": {
      "text/plain": [
       "medal_type\n",
       "Bronze Medal    807\n",
       "Silver Medal    756\n",
       "Gold Medal      752\n",
       "Name: count, dtype: int64"
      ]
     },
     "execution_count": 54,
     "metadata": {},
     "output_type": "execute_result"
    }
   ],
   "source": [
    "df_medal_24['medal_type'].value_counts()"
   ]
  },
  {
   "cell_type": "code",
   "execution_count": 55,
   "id": "a24bb54e",
   "metadata": {
    "execution": {
     "iopub.execute_input": "2024-08-31T14:14:24.107394Z",
     "iopub.status.busy": "2024-08-31T14:14:24.106759Z",
     "iopub.status.idle": "2024-08-31T14:14:24.115791Z",
     "shell.execute_reply": "2024-08-31T14:14:24.114432Z"
    },
    "papermill": {
     "duration": 0.074721,
     "end_time": "2024-08-31T14:14:24.118458",
     "exception": false,
     "start_time": "2024-08-31T14:14:24.043737",
     "status": "completed"
    },
    "tags": []
   },
   "outputs": [],
   "source": [
    "#remove 'medal' word in medal_type column\n",
    "df_medal_24['medal_type'] = df_medal_24['medal_type'].apply(lambda x : x.split()[0])"
   ]
  },
  {
   "cell_type": "code",
   "execution_count": 56,
   "id": "2b140660",
   "metadata": {
    "execution": {
     "iopub.execute_input": "2024-08-31T14:14:24.242157Z",
     "iopub.status.busy": "2024-08-31T14:14:24.241178Z",
     "iopub.status.idle": "2024-08-31T14:14:24.248362Z",
     "shell.execute_reply": "2024-08-31T14:14:24.247222Z"
    },
    "papermill": {
     "duration": 0.072096,
     "end_time": "2024-08-31T14:14:24.250943",
     "exception": false,
     "start_time": "2024-08-31T14:14:24.178847",
     "status": "completed"
    },
    "tags": []
   },
   "outputs": [],
   "source": [
    "#drop medal_code\n",
    "df_medal_24 = df_medal_24.drop(columns = ['medal_code'])"
   ]
  },
  {
   "cell_type": "code",
   "execution_count": 57,
   "id": "edb28d6d",
   "metadata": {
    "execution": {
     "iopub.execute_input": "2024-08-31T14:14:24.375266Z",
     "iopub.status.busy": "2024-08-31T14:14:24.374217Z",
     "iopub.status.idle": "2024-08-31T14:14:24.381739Z",
     "shell.execute_reply": "2024-08-31T14:14:24.380328Z"
    },
    "papermill": {
     "duration": 0.07238,
     "end_time": "2024-08-31T14:14:24.384836",
     "exception": false,
     "start_time": "2024-08-31T14:14:24.312456",
     "status": "completed"
    },
    "tags": []
   },
   "outputs": [],
   "source": [
    "# drop birth_date\n",
    "df_medal_24 = df_medal_24.drop(columns = ['birth_date'])"
   ]
  },
  {
   "cell_type": "code",
   "execution_count": 58,
   "id": "9af75ddc",
   "metadata": {
    "execution": {
     "iopub.execute_input": "2024-08-31T14:14:24.507932Z",
     "iopub.status.busy": "2024-08-31T14:14:24.507129Z",
     "iopub.status.idle": "2024-08-31T14:14:24.515370Z",
     "shell.execute_reply": "2024-08-31T14:14:24.514141Z"
    },
    "papermill": {
     "duration": 0.07287,
     "end_time": "2024-08-31T14:14:24.518139",
     "exception": false,
     "start_time": "2024-08-31T14:14:24.445269",
     "status": "completed"
    },
    "tags": []
   },
   "outputs": [
    {
     "data": {
      "text/plain": [
       "Index(['medal_type', 'name', 'event_gender', 'country_code', 'country',\n",
       "       'discipline', 'event', 'event_type', 'city', 'year'],\n",
       "      dtype='object')"
      ]
     },
     "execution_count": 58,
     "metadata": {},
     "output_type": "execute_result"
    }
   ],
   "source": [
    "df_medal_24.columns"
   ]
  },
  {
   "cell_type": "markdown",
   "id": "44cc86af",
   "metadata": {
    "papermill": {
     "duration": 0.059311,
     "end_time": "2024-08-31T14:14:24.638864",
     "exception": false,
     "start_time": "2024-08-31T14:14:24.579553",
     "status": "completed"
    },
    "tags": []
   },
   "source": [
    "## making changes in df_medal (1896-2022) before merging"
   ]
  },
  {
   "cell_type": "code",
   "execution_count": 59,
   "id": "f5635c1d",
   "metadata": {
    "execution": {
     "iopub.execute_input": "2024-08-31T14:14:24.762563Z",
     "iopub.status.busy": "2024-08-31T14:14:24.762094Z",
     "iopub.status.idle": "2024-08-31T14:14:24.770242Z",
     "shell.execute_reply": "2024-08-31T14:14:24.769126Z"
    },
    "papermill": {
     "duration": 0.072565,
     "end_time": "2024-08-31T14:14:24.772771",
     "exception": false,
     "start_time": "2024-08-31T14:14:24.700206",
     "status": "completed"
    },
    "tags": []
   },
   "outputs": [
    {
     "data": {
      "text/plain": [
       "Index(['discipline_title', 'slug_game', 'event_title', 'event_gender',\n",
       "       'medal_type', 'participant_type', 'participant_title', 'athlete_url',\n",
       "       'athlete_full_name', 'country_name', 'country_code',\n",
       "       'country_3_letter_code'],\n",
       "      dtype='object')"
      ]
     },
     "execution_count": 59,
     "metadata": {},
     "output_type": "execute_result"
    }
   ],
   "source": [
    "df_medal.columns"
   ]
  },
  {
   "cell_type": "code",
   "execution_count": 60,
   "id": "66b44520",
   "metadata": {
    "execution": {
     "iopub.execute_input": "2024-08-31T14:14:24.899431Z",
     "iopub.status.busy": "2024-08-31T14:14:24.898300Z",
     "iopub.status.idle": "2024-08-31T14:14:24.906395Z",
     "shell.execute_reply": "2024-08-31T14:14:24.905320Z"
    },
    "papermill": {
     "duration": 0.073254,
     "end_time": "2024-08-31T14:14:24.908990",
     "exception": false,
     "start_time": "2024-08-31T14:14:24.835736",
     "status": "completed"
    },
    "tags": []
   },
   "outputs": [
    {
     "data": {
      "text/plain": [
       "Index(['medal_type', 'name', 'event_gender', 'country_code', 'country',\n",
       "       'discipline', 'event', 'event_type', 'city', 'year'],\n",
       "      dtype='object')"
      ]
     },
     "execution_count": 60,
     "metadata": {},
     "output_type": "execute_result"
    }
   ],
   "source": [
    "df_medal_24.columns"
   ]
  },
  {
   "cell_type": "code",
   "execution_count": 61,
   "id": "a6c14e7c",
   "metadata": {
    "execution": {
     "iopub.execute_input": "2024-08-31T14:14:25.033327Z",
     "iopub.status.busy": "2024-08-31T14:14:25.032860Z",
     "iopub.status.idle": "2024-08-31T14:14:25.050146Z",
     "shell.execute_reply": "2024-08-31T14:14:25.048878Z"
    },
    "papermill": {
     "duration": 0.081858,
     "end_time": "2024-08-31T14:14:25.052880",
     "exception": false,
     "start_time": "2024-08-31T14:14:24.971022",
     "status": "completed"
    },
    "tags": []
   },
   "outputs": [
    {
     "data": {
      "text/html": [
       "<div>\n",
       "<style scoped>\n",
       "    .dataframe tbody tr th:only-of-type {\n",
       "        vertical-align: middle;\n",
       "    }\n",
       "\n",
       "    .dataframe tbody tr th {\n",
       "        vertical-align: top;\n",
       "    }\n",
       "\n",
       "    .dataframe thead th {\n",
       "        text-align: right;\n",
       "    }\n",
       "</style>\n",
       "<table border=\"1\" class=\"dataframe\">\n",
       "  <thead>\n",
       "    <tr style=\"text-align: right;\">\n",
       "      <th></th>\n",
       "      <th>discipline_title</th>\n",
       "      <th>slug_game</th>\n",
       "      <th>event_title</th>\n",
       "      <th>event_gender</th>\n",
       "      <th>medal_type</th>\n",
       "      <th>participant_type</th>\n",
       "      <th>participant_title</th>\n",
       "      <th>athlete_url</th>\n",
       "      <th>athlete_full_name</th>\n",
       "      <th>country_name</th>\n",
       "      <th>country_code</th>\n",
       "      <th>country_3_letter_code</th>\n",
       "    </tr>\n",
       "  </thead>\n",
       "  <tbody>\n",
       "    <tr>\n",
       "      <th>0</th>\n",
       "      <td>Curling</td>\n",
       "      <td>beijing-2022</td>\n",
       "      <td>Mixed Doubles</td>\n",
       "      <td>Mixed</td>\n",
       "      <td>GOLD</td>\n",
       "      <td>GameTeam</td>\n",
       "      <td>Italy</td>\n",
       "      <td>https://olympics.com/en/athletes/stefania-cons...</td>\n",
       "      <td>Stefania CONSTANTINI</td>\n",
       "      <td>Italy</td>\n",
       "      <td>IT</td>\n",
       "      <td>ITA</td>\n",
       "    </tr>\n",
       "  </tbody>\n",
       "</table>\n",
       "</div>"
      ],
      "text/plain": [
       "  discipline_title     slug_game    event_title event_gender medal_type  \\\n",
       "0          Curling  beijing-2022  Mixed Doubles        Mixed       GOLD   \n",
       "\n",
       "  participant_type participant_title  \\\n",
       "0         GameTeam             Italy   \n",
       "\n",
       "                                         athlete_url     athlete_full_name  \\\n",
       "0  https://olympics.com/en/athletes/stefania-cons...  Stefania CONSTANTINI   \n",
       "\n",
       "  country_name country_code country_3_letter_code  \n",
       "0        Italy           IT                   ITA  "
      ]
     },
     "execution_count": 61,
     "metadata": {},
     "output_type": "execute_result"
    }
   ],
   "source": [
    "df_medal.head(1)"
   ]
  },
  {
   "cell_type": "markdown",
   "id": "d058f8e1",
   "metadata": {
    "execution": {
     "iopub.execute_input": "2024-08-26T15:57:16.840533Z",
     "iopub.status.busy": "2024-08-26T15:57:16.840093Z",
     "iopub.status.idle": "2024-08-26T15:57:16.846053Z",
     "shell.execute_reply": "2024-08-26T15:57:16.844792Z",
     "shell.execute_reply.started": "2024-08-26T15:57:16.840497Z"
    },
    "papermill": {
     "duration": 0.061384,
     "end_time": "2024-08-31T14:14:25.175387",
     "exception": false,
     "start_time": "2024-08-31T14:14:25.114003",
     "status": "completed"
    },
    "tags": []
   },
   "source": [
    "## change column name\n",
    "- 'participant_type' to 'event_type'\n",
    "- 'discipline_title' to 'discipline'\n",
    "- 'event_title' to 'event'\n",
    "- 'athlete_full_name' to 'name'\n",
    "- 'country_name' to 'country'"
   ]
  },
  {
   "cell_type": "code",
   "execution_count": 62,
   "id": "fc4d4218",
   "metadata": {
    "execution": {
     "iopub.execute_input": "2024-08-31T14:14:25.303797Z",
     "iopub.status.busy": "2024-08-31T14:14:25.303273Z",
     "iopub.status.idle": "2024-08-31T14:14:25.313049Z",
     "shell.execute_reply": "2024-08-31T14:14:25.311758Z"
    },
    "papermill": {
     "duration": 0.076849,
     "end_time": "2024-08-31T14:14:25.316362",
     "exception": false,
     "start_time": "2024-08-31T14:14:25.239513",
     "status": "completed"
    },
    "tags": []
   },
   "outputs": [],
   "source": [
    "df_medal = df_medal.rename(columns = {'participant_type': 'event_type', 'discipline_title': 'discipline', 'event_title': 'event', 'athlete_full_name' : 'name', 'country_name':'country' })"
   ]
  },
  {
   "cell_type": "code",
   "execution_count": 63,
   "id": "cf599454",
   "metadata": {
    "execution": {
     "iopub.execute_input": "2024-08-31T14:14:25.440248Z",
     "iopub.status.busy": "2024-08-31T14:14:25.439801Z",
     "iopub.status.idle": "2024-08-31T14:14:25.450292Z",
     "shell.execute_reply": "2024-08-31T14:14:25.449073Z"
    },
    "papermill": {
     "duration": 0.075634,
     "end_time": "2024-08-31T14:14:25.453011",
     "exception": false,
     "start_time": "2024-08-31T14:14:25.377377",
     "status": "completed"
    },
    "tags": []
   },
   "outputs": [],
   "source": [
    "#drop url\n",
    "df_medal = df_medal.drop(columns = ['athlete_url'])"
   ]
  },
  {
   "cell_type": "code",
   "execution_count": 64,
   "id": "f6ad3a27",
   "metadata": {
    "execution": {
     "iopub.execute_input": "2024-08-31T14:14:25.582624Z",
     "iopub.status.busy": "2024-08-31T14:14:25.581121Z",
     "iopub.status.idle": "2024-08-31T14:14:25.591855Z",
     "shell.execute_reply": "2024-08-31T14:14:25.590665Z"
    },
    "papermill": {
     "duration": 0.079921,
     "end_time": "2024-08-31T14:14:25.594855",
     "exception": false,
     "start_time": "2024-08-31T14:14:25.514934",
     "status": "completed"
    },
    "tags": []
   },
   "outputs": [],
   "source": [
    "# #drop participant_title\n",
    "df_medal = df_medal.drop(columns = ['participant_title'])"
   ]
  },
  {
   "cell_type": "code",
   "execution_count": 65,
   "id": "25af04f7",
   "metadata": {
    "execution": {
     "iopub.execute_input": "2024-08-31T14:14:25.720636Z",
     "iopub.status.busy": "2024-08-31T14:14:25.720164Z",
     "iopub.status.idle": "2024-08-31T14:14:25.732656Z",
     "shell.execute_reply": "2024-08-31T14:14:25.731321Z"
    },
    "papermill": {
     "duration": 0.079967,
     "end_time": "2024-08-31T14:14:25.735438",
     "exception": false,
     "start_time": "2024-08-31T14:14:25.655471",
     "status": "completed"
    },
    "tags": []
   },
   "outputs": [],
   "source": [
    "#drop country_code then rename country_3_letter_code to country_code\n",
    "df_medal = df_medal.drop(columns=['country_code'])\n",
    "df_medal = df_medal.rename(columns = {'country_3_letter_code': 'country_code'})"
   ]
  },
  {
   "cell_type": "code",
   "execution_count": 66,
   "id": "ac171322",
   "metadata": {
    "execution": {
     "iopub.execute_input": "2024-08-31T14:14:25.861432Z",
     "iopub.status.busy": "2024-08-31T14:14:25.860970Z",
     "iopub.status.idle": "2024-08-31T14:14:25.877610Z",
     "shell.execute_reply": "2024-08-31T14:14:25.876404Z"
    },
    "papermill": {
     "duration": 0.081811,
     "end_time": "2024-08-31T14:14:25.880286",
     "exception": false,
     "start_time": "2024-08-31T14:14:25.798475",
     "status": "completed"
    },
    "tags": []
   },
   "outputs": [
    {
     "data": {
      "text/html": [
       "<div>\n",
       "<style scoped>\n",
       "    .dataframe tbody tr th:only-of-type {\n",
       "        vertical-align: middle;\n",
       "    }\n",
       "\n",
       "    .dataframe tbody tr th {\n",
       "        vertical-align: top;\n",
       "    }\n",
       "\n",
       "    .dataframe thead th {\n",
       "        text-align: right;\n",
       "    }\n",
       "</style>\n",
       "<table border=\"1\" class=\"dataframe\">\n",
       "  <thead>\n",
       "    <tr style=\"text-align: right;\">\n",
       "      <th></th>\n",
       "      <th>medal_type</th>\n",
       "      <th>name</th>\n",
       "      <th>event_gender</th>\n",
       "      <th>country_code</th>\n",
       "      <th>country</th>\n",
       "      <th>discipline</th>\n",
       "      <th>event</th>\n",
       "      <th>event_type</th>\n",
       "      <th>city</th>\n",
       "      <th>year</th>\n",
       "    </tr>\n",
       "  </thead>\n",
       "  <tbody>\n",
       "    <tr>\n",
       "      <th>0</th>\n",
       "      <td>Gold</td>\n",
       "      <td>EVENEPOEL Remco</td>\n",
       "      <td>Male</td>\n",
       "      <td>BEL</td>\n",
       "      <td>Belgium</td>\n",
       "      <td>Cycling Road</td>\n",
       "      <td>Men's Individual Time Trial</td>\n",
       "      <td>ATH</td>\n",
       "      <td>Paris</td>\n",
       "      <td>2024</td>\n",
       "    </tr>\n",
       "  </tbody>\n",
       "</table>\n",
       "</div>"
      ],
      "text/plain": [
       "  medal_type             name event_gender country_code  country  \\\n",
       "0       Gold  EVENEPOEL Remco         Male          BEL  Belgium   \n",
       "\n",
       "     discipline                        event event_type   city  year  \n",
       "0  Cycling Road  Men's Individual Time Trial        ATH  Paris  2024  "
      ]
     },
     "execution_count": 66,
     "metadata": {},
     "output_type": "execute_result"
    }
   ],
   "source": [
    "df_medal_24.head(1)"
   ]
  },
  {
   "cell_type": "code",
   "execution_count": 67,
   "id": "32888441",
   "metadata": {
    "execution": {
     "iopub.execute_input": "2024-08-31T14:14:26.007222Z",
     "iopub.status.busy": "2024-08-31T14:14:26.006727Z",
     "iopub.status.idle": "2024-08-31T14:14:26.020202Z",
     "shell.execute_reply": "2024-08-31T14:14:26.018961Z"
    },
    "papermill": {
     "duration": 0.081288,
     "end_time": "2024-08-31T14:14:26.022942",
     "exception": false,
     "start_time": "2024-08-31T14:14:25.941654",
     "status": "completed"
    },
    "tags": []
   },
   "outputs": [
    {
     "data": {
      "text/plain": [
       "medal_type\n",
       "BRONZE    7529\n",
       "GOLD      7109\n",
       "SILVER    7059\n",
       "Name: count, dtype: int64"
      ]
     },
     "execution_count": 67,
     "metadata": {},
     "output_type": "execute_result"
    }
   ],
   "source": [
    "df_medal['medal_type'].value_counts()"
   ]
  },
  {
   "cell_type": "code",
   "execution_count": 68,
   "id": "c9781f5c",
   "metadata": {
    "execution": {
     "iopub.execute_input": "2024-08-31T14:14:26.148077Z",
     "iopub.status.busy": "2024-08-31T14:14:26.147635Z",
     "iopub.status.idle": "2024-08-31T14:14:26.162826Z",
     "shell.execute_reply": "2024-08-31T14:14:26.161582Z"
    },
    "papermill": {
     "duration": 0.080195,
     "end_time": "2024-08-31T14:14:26.165352",
     "exception": false,
     "start_time": "2024-08-31T14:14:26.085157",
     "status": "completed"
    },
    "tags": []
   },
   "outputs": [],
   "source": [
    "#turn string in medal_type from all caps to title\n",
    "df_medal['medal_type'] = df_medal['medal_type'].str.title()"
   ]
  },
  {
   "cell_type": "code",
   "execution_count": 69,
   "id": "13d9f0ec",
   "metadata": {
    "execution": {
     "iopub.execute_input": "2024-08-31T14:14:26.292668Z",
     "iopub.status.busy": "2024-08-31T14:14:26.292203Z",
     "iopub.status.idle": "2024-08-31T14:14:26.358809Z",
     "shell.execute_reply": "2024-08-31T14:14:26.357555Z"
    },
    "papermill": {
     "duration": 0.133496,
     "end_time": "2024-08-31T14:14:26.361766",
     "exception": false,
     "start_time": "2024-08-31T14:14:26.228270",
     "status": "completed"
    },
    "tags": []
   },
   "outputs": [
    {
     "data": {
      "text/plain": [
       "slug_game\n",
       "[lake, placid, 1932]    48\n",
       "[st, moritz, 1928]      44\n",
       "Name: count, dtype: int64"
      ]
     },
     "execution_count": 69,
     "metadata": {},
     "output_type": "execute_result"
    }
   ],
   "source": [
    "df_medal['slug_game'].str.split('-').value_counts().tail(2)"
   ]
  },
  {
   "cell_type": "markdown",
   "id": "944015de",
   "metadata": {
    "papermill": {
     "duration": 0.061955,
     "end_time": "2024-08-31T14:14:26.485508",
     "exception": false,
     "start_time": "2024-08-31T14:14:26.423553",
     "status": "completed"
    },
    "tags": []
   },
   "source": [
    "### column slug_game: string length is not uniform\n",
    "- [los, angeles, 1984]\n",
    "- [mexico, city, 1968]\n",
    "- [st, louis, 1904]\n",
    "- [los, angeles, 1932]\n",
    "- [salt, lake, city, 2002]\n",
    "- [lake, placid, 1980]\n",
    "- [squaw, valley, 1960]\n",
    "- [cortina, d, ampezzo, 1956]\n",
    "- [st, moritz, 1948]\n",
    "- [garmisch, partenkirchen, 1936]\n",
    "- [lake, placid, 1932]\n",
    "- [st, moritz, 1928]"
   ]
  },
  {
   "cell_type": "code",
   "execution_count": 70,
   "id": "4ade7187",
   "metadata": {
    "execution": {
     "iopub.execute_input": "2024-08-31T14:14:26.615792Z",
     "iopub.status.busy": "2024-08-31T14:14:26.615325Z",
     "iopub.status.idle": "2024-08-31T14:14:26.656197Z",
     "shell.execute_reply": "2024-08-31T14:14:26.654998Z"
    },
    "papermill": {
     "duration": 0.111008,
     "end_time": "2024-08-31T14:14:26.659563",
     "exception": false,
     "start_time": "2024-08-31T14:14:26.548555",
     "status": "completed"
    },
    "tags": []
   },
   "outputs": [],
   "source": [
    "#extract last string from 'slug_game' and store it in 'year'\n",
    "df_medal['year'] = df_medal['slug_game'].str.split('-').str[-1]"
   ]
  },
  {
   "cell_type": "code",
   "execution_count": 71,
   "id": "106e7b69",
   "metadata": {
    "execution": {
     "iopub.execute_input": "2024-08-31T14:14:26.793794Z",
     "iopub.status.busy": "2024-08-31T14:14:26.793151Z",
     "iopub.status.idle": "2024-08-31T14:14:26.811379Z",
     "shell.execute_reply": "2024-08-31T14:14:26.810148Z"
    },
    "papermill": {
     "duration": 0.088403,
     "end_time": "2024-08-31T14:14:26.813993",
     "exception": false,
     "start_time": "2024-08-31T14:14:26.725590",
     "status": "completed"
    },
    "tags": []
   },
   "outputs": [
    {
     "data": {
      "text/html": [
       "<div>\n",
       "<style scoped>\n",
       "    .dataframe tbody tr th:only-of-type {\n",
       "        vertical-align: middle;\n",
       "    }\n",
       "\n",
       "    .dataframe tbody tr th {\n",
       "        vertical-align: top;\n",
       "    }\n",
       "\n",
       "    .dataframe thead th {\n",
       "        text-align: right;\n",
       "    }\n",
       "</style>\n",
       "<table border=\"1\" class=\"dataframe\">\n",
       "  <thead>\n",
       "    <tr style=\"text-align: right;\">\n",
       "      <th></th>\n",
       "      <th>discipline</th>\n",
       "      <th>slug_game</th>\n",
       "      <th>event</th>\n",
       "      <th>event_gender</th>\n",
       "      <th>medal_type</th>\n",
       "      <th>event_type</th>\n",
       "      <th>name</th>\n",
       "      <th>country</th>\n",
       "      <th>country_code</th>\n",
       "      <th>year</th>\n",
       "    </tr>\n",
       "  </thead>\n",
       "  <tbody>\n",
       "    <tr>\n",
       "      <th>0</th>\n",
       "      <td>Curling</td>\n",
       "      <td>beijing-2022</td>\n",
       "      <td>Mixed Doubles</td>\n",
       "      <td>Mixed</td>\n",
       "      <td>Gold</td>\n",
       "      <td>GameTeam</td>\n",
       "      <td>Stefania CONSTANTINI</td>\n",
       "      <td>Italy</td>\n",
       "      <td>ITA</td>\n",
       "      <td>2022</td>\n",
       "    </tr>\n",
       "  </tbody>\n",
       "</table>\n",
       "</div>"
      ],
      "text/plain": [
       "  discipline     slug_game          event event_gender medal_type event_type  \\\n",
       "0    Curling  beijing-2022  Mixed Doubles        Mixed       Gold   GameTeam   \n",
       "\n",
       "                   name country country_code  year  \n",
       "0  Stefania CONSTANTINI   Italy          ITA  2022  "
      ]
     },
     "execution_count": 71,
     "metadata": {},
     "output_type": "execute_result"
    }
   ],
   "source": [
    "df_medal.head(1)"
   ]
  },
  {
   "cell_type": "code",
   "execution_count": 72,
   "id": "c1088435",
   "metadata": {
    "execution": {
     "iopub.execute_input": "2024-08-31T14:14:26.942891Z",
     "iopub.status.busy": "2024-08-31T14:14:26.942422Z",
     "iopub.status.idle": "2024-08-31T14:14:27.093290Z",
     "shell.execute_reply": "2024-08-31T14:14:27.091940Z"
    },
    "papermill": {
     "duration": 0.21735,
     "end_time": "2024-08-31T14:14:27.096383",
     "exception": false,
     "start_time": "2024-08-31T14:14:26.879033",
     "status": "completed"
    },
    "tags": []
   },
   "outputs": [],
   "source": [
    "# extract every string before year in slug_game\n",
    "df_medal['slug_game'] = df_medal['slug_game'].str.split('-').str[:-1]"
   ]
  },
  {
   "cell_type": "code",
   "execution_count": 73,
   "id": "e6482021",
   "metadata": {
    "execution": {
     "iopub.execute_input": "2024-08-31T14:14:27.224142Z",
     "iopub.status.busy": "2024-08-31T14:14:27.223649Z",
     "iopub.status.idle": "2024-08-31T14:14:27.240112Z",
     "shell.execute_reply": "2024-08-31T14:14:27.238874Z"
    },
    "papermill": {
     "duration": 0.083464,
     "end_time": "2024-08-31T14:14:27.243130",
     "exception": false,
     "start_time": "2024-08-31T14:14:27.159666",
     "status": "completed"
    },
    "tags": []
   },
   "outputs": [
    {
     "data": {
      "text/html": [
       "<div>\n",
       "<style scoped>\n",
       "    .dataframe tbody tr th:only-of-type {\n",
       "        vertical-align: middle;\n",
       "    }\n",
       "\n",
       "    .dataframe tbody tr th {\n",
       "        vertical-align: top;\n",
       "    }\n",
       "\n",
       "    .dataframe thead th {\n",
       "        text-align: right;\n",
       "    }\n",
       "</style>\n",
       "<table border=\"1\" class=\"dataframe\">\n",
       "  <thead>\n",
       "    <tr style=\"text-align: right;\">\n",
       "      <th></th>\n",
       "      <th>discipline</th>\n",
       "      <th>slug_game</th>\n",
       "      <th>event</th>\n",
       "      <th>event_gender</th>\n",
       "      <th>medal_type</th>\n",
       "      <th>event_type</th>\n",
       "      <th>name</th>\n",
       "      <th>country</th>\n",
       "      <th>country_code</th>\n",
       "      <th>year</th>\n",
       "    </tr>\n",
       "  </thead>\n",
       "  <tbody>\n",
       "    <tr>\n",
       "      <th>0</th>\n",
       "      <td>Curling</td>\n",
       "      <td>[beijing]</td>\n",
       "      <td>Mixed Doubles</td>\n",
       "      <td>Mixed</td>\n",
       "      <td>Gold</td>\n",
       "      <td>GameTeam</td>\n",
       "      <td>Stefania CONSTANTINI</td>\n",
       "      <td>Italy</td>\n",
       "      <td>ITA</td>\n",
       "      <td>2022</td>\n",
       "    </tr>\n",
       "  </tbody>\n",
       "</table>\n",
       "</div>"
      ],
      "text/plain": [
       "  discipline  slug_game          event event_gender medal_type event_type  \\\n",
       "0    Curling  [beijing]  Mixed Doubles        Mixed       Gold   GameTeam   \n",
       "\n",
       "                   name country country_code  year  \n",
       "0  Stefania CONSTANTINI   Italy          ITA  2022  "
      ]
     },
     "execution_count": 73,
     "metadata": {},
     "output_type": "execute_result"
    }
   ],
   "source": [
    "df_medal.head(1)"
   ]
  },
  {
   "cell_type": "code",
   "execution_count": 74,
   "id": "6947a199",
   "metadata": {
    "execution": {
     "iopub.execute_input": "2024-08-31T14:14:27.369541Z",
     "iopub.status.busy": "2024-08-31T14:14:27.369076Z",
     "iopub.status.idle": "2024-08-31T14:14:27.406836Z",
     "shell.execute_reply": "2024-08-31T14:14:27.405565Z"
    },
    "papermill": {
     "duration": 0.104558,
     "end_time": "2024-08-31T14:14:27.409698",
     "exception": false,
     "start_time": "2024-08-31T14:14:27.305140",
     "status": "completed"
    },
    "tags": []
   },
   "outputs": [
    {
     "data": {
      "text/plain": [
       "slug_game\n",
       "[garmisch, partenkirchen]    57\n",
       "[chamonix]                   52\n",
       "Name: count, dtype: int64"
      ]
     },
     "execution_count": 74,
     "metadata": {},
     "output_type": "execute_result"
    }
   ],
   "source": [
    "df_medal['slug_game'].value_counts().tail(2)"
   ]
  },
  {
   "cell_type": "markdown",
   "id": "402cd6d7",
   "metadata": {
    "papermill": {
     "duration": 0.063806,
     "end_time": "2024-08-31T14:14:27.537377",
     "exception": false,
     "start_time": "2024-08-31T14:14:27.473571",
     "status": "completed"
    },
    "tags": []
   },
   "source": [
    "Inconsistent number of substrings stored in a list"
   ]
  },
  {
   "cell_type": "code",
   "execution_count": 75,
   "id": "db2d5589",
   "metadata": {
    "execution": {
     "iopub.execute_input": "2024-08-31T14:14:27.667283Z",
     "iopub.status.busy": "2024-08-31T14:14:27.666803Z",
     "iopub.status.idle": "2024-08-31T14:14:27.704503Z",
     "shell.execute_reply": "2024-08-31T14:14:27.703313Z"
    },
    "papermill": {
     "duration": 0.104344,
     "end_time": "2024-08-31T14:14:27.707102",
     "exception": false,
     "start_time": "2024-08-31T14:14:27.602758",
     "status": "completed"
    },
    "tags": []
   },
   "outputs": [
    {
     "data": {
      "text/plain": [
       "slug_game\n",
       "Garmisch Partenkirchen    57\n",
       "Chamonix                  52\n",
       "Name: count, dtype: int64"
      ]
     },
     "execution_count": 75,
     "metadata": {},
     "output_type": "execute_result"
    }
   ],
   "source": [
    "# slug_game: convert list to string and have substrings space-separated and capitalize first letter of each substring\n",
    "df_medal['slug_game'].apply(lambda x : ' '.join(x)).str.title().value_counts().tail(2)"
   ]
  },
  {
   "cell_type": "code",
   "execution_count": 76,
   "id": "d4355f40",
   "metadata": {
    "execution": {
     "iopub.execute_input": "2024-08-31T14:14:27.838738Z",
     "iopub.status.busy": "2024-08-31T14:14:27.838219Z",
     "iopub.status.idle": "2024-08-31T14:14:27.866405Z",
     "shell.execute_reply": "2024-08-31T14:14:27.865115Z"
    },
    "papermill": {
     "duration": 0.098706,
     "end_time": "2024-08-31T14:14:27.869443",
     "exception": false,
     "start_time": "2024-08-31T14:14:27.770737",
     "status": "completed"
    },
    "tags": []
   },
   "outputs": [],
   "source": [
    "df_medal['slug_game'] = df_medal['slug_game'].apply(lambda x : ' '.join(x)).str.title()"
   ]
  },
  {
   "cell_type": "code",
   "execution_count": 77,
   "id": "3ae885fb",
   "metadata": {
    "execution": {
     "iopub.execute_input": "2024-08-31T14:14:27.998290Z",
     "iopub.status.busy": "2024-08-31T14:14:27.997794Z",
     "iopub.status.idle": "2024-08-31T14:14:28.014430Z",
     "shell.execute_reply": "2024-08-31T14:14:28.013168Z"
    },
    "papermill": {
     "duration": 0.085349,
     "end_time": "2024-08-31T14:14:28.017489",
     "exception": false,
     "start_time": "2024-08-31T14:14:27.932140",
     "status": "completed"
    },
    "tags": []
   },
   "outputs": [],
   "source": [
    "# rename column 'slug_game' to 'city'\n",
    "df_medal = df_medal.rename(columns = {'slug_game': 'city'})"
   ]
  },
  {
   "cell_type": "markdown",
   "id": "1e2ee04c",
   "metadata": {
    "papermill": {
     "duration": 0.063483,
     "end_time": "2024-08-31T14:14:28.145465",
     "exception": false,
     "start_time": "2024-08-31T14:14:28.081982",
     "status": "completed"
    },
    "tags": []
   },
   "source": [
    "Everything is almost done. Cross checking the values column by column."
   ]
  },
  {
   "cell_type": "code",
   "execution_count": 78,
   "id": "81cbee68",
   "metadata": {
    "execution": {
     "iopub.execute_input": "2024-08-31T14:14:28.276612Z",
     "iopub.status.busy": "2024-08-31T14:14:28.275476Z",
     "iopub.status.idle": "2024-08-31T14:14:28.291506Z",
     "shell.execute_reply": "2024-08-31T14:14:28.290253Z"
    },
    "papermill": {
     "duration": 0.085903,
     "end_time": "2024-08-31T14:14:28.294259",
     "exception": false,
     "start_time": "2024-08-31T14:14:28.208356",
     "status": "completed"
    },
    "tags": []
   },
   "outputs": [
    {
     "data": {
      "text/html": [
       "<div>\n",
       "<style scoped>\n",
       "    .dataframe tbody tr th:only-of-type {\n",
       "        vertical-align: middle;\n",
       "    }\n",
       "\n",
       "    .dataframe tbody tr th {\n",
       "        vertical-align: top;\n",
       "    }\n",
       "\n",
       "    .dataframe thead th {\n",
       "        text-align: right;\n",
       "    }\n",
       "</style>\n",
       "<table border=\"1\" class=\"dataframe\">\n",
       "  <thead>\n",
       "    <tr style=\"text-align: right;\">\n",
       "      <th></th>\n",
       "      <th>discipline</th>\n",
       "      <th>city</th>\n",
       "      <th>event</th>\n",
       "      <th>event_gender</th>\n",
       "      <th>medal_type</th>\n",
       "      <th>event_type</th>\n",
       "      <th>name</th>\n",
       "      <th>country</th>\n",
       "      <th>country_code</th>\n",
       "      <th>year</th>\n",
       "    </tr>\n",
       "  </thead>\n",
       "  <tbody>\n",
       "    <tr>\n",
       "      <th>0</th>\n",
       "      <td>Curling</td>\n",
       "      <td>Beijing</td>\n",
       "      <td>Mixed Doubles</td>\n",
       "      <td>Mixed</td>\n",
       "      <td>Gold</td>\n",
       "      <td>GameTeam</td>\n",
       "      <td>Stefania CONSTANTINI</td>\n",
       "      <td>Italy</td>\n",
       "      <td>ITA</td>\n",
       "      <td>2022</td>\n",
       "    </tr>\n",
       "  </tbody>\n",
       "</table>\n",
       "</div>"
      ],
      "text/plain": [
       "  discipline     city          event event_gender medal_type event_type  \\\n",
       "0    Curling  Beijing  Mixed Doubles        Mixed       Gold   GameTeam   \n",
       "\n",
       "                   name country country_code  year  \n",
       "0  Stefania CONSTANTINI   Italy          ITA  2022  "
      ]
     },
     "execution_count": 78,
     "metadata": {},
     "output_type": "execute_result"
    }
   ],
   "source": [
    "df_medal.head(1)"
   ]
  },
  {
   "cell_type": "code",
   "execution_count": 79,
   "id": "3e75711e",
   "metadata": {
    "execution": {
     "iopub.execute_input": "2024-08-31T14:14:28.423654Z",
     "iopub.status.busy": "2024-08-31T14:14:28.423192Z",
     "iopub.status.idle": "2024-08-31T14:14:28.439718Z",
     "shell.execute_reply": "2024-08-31T14:14:28.438537Z"
    },
    "papermill": {
     "duration": 0.084308,
     "end_time": "2024-08-31T14:14:28.442712",
     "exception": false,
     "start_time": "2024-08-31T14:14:28.358404",
     "status": "completed"
    },
    "tags": []
   },
   "outputs": [
    {
     "data": {
      "text/html": [
       "<div>\n",
       "<style scoped>\n",
       "    .dataframe tbody tr th:only-of-type {\n",
       "        vertical-align: middle;\n",
       "    }\n",
       "\n",
       "    .dataframe tbody tr th {\n",
       "        vertical-align: top;\n",
       "    }\n",
       "\n",
       "    .dataframe thead th {\n",
       "        text-align: right;\n",
       "    }\n",
       "</style>\n",
       "<table border=\"1\" class=\"dataframe\">\n",
       "  <thead>\n",
       "    <tr style=\"text-align: right;\">\n",
       "      <th></th>\n",
       "      <th>medal_type</th>\n",
       "      <th>name</th>\n",
       "      <th>event_gender</th>\n",
       "      <th>country_code</th>\n",
       "      <th>country</th>\n",
       "      <th>discipline</th>\n",
       "      <th>event</th>\n",
       "      <th>event_type</th>\n",
       "      <th>city</th>\n",
       "      <th>year</th>\n",
       "    </tr>\n",
       "  </thead>\n",
       "  <tbody>\n",
       "    <tr>\n",
       "      <th>0</th>\n",
       "      <td>Gold</td>\n",
       "      <td>EVENEPOEL Remco</td>\n",
       "      <td>Male</td>\n",
       "      <td>BEL</td>\n",
       "      <td>Belgium</td>\n",
       "      <td>Cycling Road</td>\n",
       "      <td>Men's Individual Time Trial</td>\n",
       "      <td>ATH</td>\n",
       "      <td>Paris</td>\n",
       "      <td>2024</td>\n",
       "    </tr>\n",
       "  </tbody>\n",
       "</table>\n",
       "</div>"
      ],
      "text/plain": [
       "  medal_type             name event_gender country_code  country  \\\n",
       "0       Gold  EVENEPOEL Remco         Male          BEL  Belgium   \n",
       "\n",
       "     discipline                        event event_type   city  year  \n",
       "0  Cycling Road  Men's Individual Time Trial        ATH  Paris  2024  "
      ]
     },
     "execution_count": 79,
     "metadata": {},
     "output_type": "execute_result"
    }
   ],
   "source": [
    "df_medal_24.head(1)"
   ]
  },
  {
   "cell_type": "markdown",
   "id": "268a7d47",
   "metadata": {
    "papermill": {
     "duration": 0.062277,
     "end_time": "2024-08-31T14:14:28.567704",
     "exception": false,
     "start_time": "2024-08-31T14:14:28.505427",
     "status": "completed"
    },
    "tags": []
   },
   "source": [
    "#### cross-check 'discipline'"
   ]
  },
  {
   "cell_type": "code",
   "execution_count": 80,
   "id": "9b673034",
   "metadata": {
    "execution": {
     "iopub.execute_input": "2024-08-31T14:14:28.695213Z",
     "iopub.status.busy": "2024-08-31T14:14:28.694113Z",
     "iopub.status.idle": "2024-08-31T14:14:28.705769Z",
     "shell.execute_reply": "2024-08-31T14:14:28.704635Z"
    },
    "papermill": {
     "duration": 0.078092,
     "end_time": "2024-08-31T14:14:28.708117",
     "exception": false,
     "start_time": "2024-08-31T14:14:28.630025",
     "status": "completed"
    },
    "tags": []
   },
   "outputs": [
    {
     "data": {
      "text/plain": [
       "{'Breaking'}"
      ]
     },
     "execution_count": 80,
     "metadata": {},
     "output_type": "execute_result"
    }
   ],
   "source": [
    "# check if the sport names are correctly spelled and match with the other column \n",
    "# otherwise due to mere formatting, spelling issue it will create a separte data point while plotting\n",
    "# e.g., basketbal =! Basketball\n",
    "set(df_medal_24['discipline']) - set(df_medal['discipline'])"
   ]
  },
  {
   "cell_type": "markdown",
   "id": "77c1a3e9",
   "metadata": {
    "papermill": {
     "duration": 0.063221,
     "end_time": "2024-08-31T14:14:28.835106",
     "exception": false,
     "start_time": "2024-08-31T14:14:28.771885",
     "status": "completed"
    },
    "tags": []
   },
   "source": [
    "Breaking is added in the olympics for the very first time in 2024."
   ]
  },
  {
   "cell_type": "markdown",
   "id": "b80ed06f",
   "metadata": {
    "papermill": {
     "duration": 0.062514,
     "end_time": "2024-08-31T14:14:28.960821",
     "exception": false,
     "start_time": "2024-08-31T14:14:28.898307",
     "status": "completed"
    },
    "tags": []
   },
   "source": [
    "#### cross-check city"
   ]
  },
  {
   "cell_type": "code",
   "execution_count": 81,
   "id": "97343084",
   "metadata": {
    "execution": {
     "iopub.execute_input": "2024-08-31T14:14:29.092542Z",
     "iopub.status.busy": "2024-08-31T14:14:29.091136Z",
     "iopub.status.idle": "2024-08-31T14:14:29.104965Z",
     "shell.execute_reply": "2024-08-31T14:14:29.103784Z"
    },
    "papermill": {
     "duration": 0.080746,
     "end_time": "2024-08-31T14:14:29.107667",
     "exception": false,
     "start_time": "2024-08-31T14:14:29.026921",
     "status": "completed"
    },
    "tags": []
   },
   "outputs": [
    {
     "data": {
      "text/plain": [
       "set()"
      ]
     },
     "execution_count": 81,
     "metadata": {},
     "output_type": "execute_result"
    }
   ],
   "source": [
    "set(df_medal_24['city']) - set(df_medal['city'])"
   ]
  },
  {
   "cell_type": "markdown",
   "id": "3cea924b",
   "metadata": {
    "papermill": {
     "duration": 0.063056,
     "end_time": "2024-08-31T14:14:29.235162",
     "exception": false,
     "start_time": "2024-08-31T14:14:29.172106",
     "status": "completed"
    },
    "tags": []
   },
   "source": [
    "#### cross check year"
   ]
  },
  {
   "cell_type": "code",
   "execution_count": 82,
   "id": "9da4105b",
   "metadata": {
    "execution": {
     "iopub.execute_input": "2024-08-31T14:14:29.363517Z",
     "iopub.status.busy": "2024-08-31T14:14:29.362465Z",
     "iopub.status.idle": "2024-08-31T14:14:29.376579Z",
     "shell.execute_reply": "2024-08-31T14:14:29.375410Z"
    },
    "papermill": {
     "duration": 0.080595,
     "end_time": "2024-08-31T14:14:29.379091",
     "exception": false,
     "start_time": "2024-08-31T14:14:29.298496",
     "status": "completed"
    },
    "tags": []
   },
   "outputs": [
    {
     "data": {
      "text/plain": [
       "{'2024'}"
      ]
     },
     "execution_count": 82,
     "metadata": {},
     "output_type": "execute_result"
    }
   ],
   "source": [
    "set(df_medal_24['year']) - set(df_medal['year'])"
   ]
  },
  {
   "cell_type": "markdown",
   "id": "38566075",
   "metadata": {
    "papermill": {
     "duration": 0.063258,
     "end_time": "2024-08-31T14:14:29.505810",
     "exception": false,
     "start_time": "2024-08-31T14:14:29.442552",
     "status": "completed"
    },
    "tags": []
   },
   "source": [
    "#### cross-check event_type"
   ]
  },
  {
   "cell_type": "code",
   "execution_count": 83,
   "id": "012a27ee",
   "metadata": {
    "execution": {
     "iopub.execute_input": "2024-08-31T14:14:29.635496Z",
     "iopub.status.busy": "2024-08-31T14:14:29.635000Z",
     "iopub.status.idle": "2024-08-31T14:14:29.648559Z",
     "shell.execute_reply": "2024-08-31T14:14:29.647256Z"
    },
    "papermill": {
     "duration": 0.082328,
     "end_time": "2024-08-31T14:14:29.651192",
     "exception": false,
     "start_time": "2024-08-31T14:14:29.568864",
     "status": "completed"
    },
    "tags": []
   },
   "outputs": [
    {
     "data": {
      "text/plain": [
       "event_type\n",
       "Athlete     15113\n",
       "GameTeam     6584\n",
       "Name: count, dtype: int64"
      ]
     },
     "execution_count": 83,
     "metadata": {},
     "output_type": "execute_result"
    }
   ],
   "source": [
    "df_medal['event_type'].value_counts()"
   ]
  },
  {
   "cell_type": "code",
   "execution_count": 84,
   "id": "130e8e67",
   "metadata": {
    "execution": {
     "iopub.execute_input": "2024-08-31T14:14:29.780935Z",
     "iopub.status.busy": "2024-08-31T14:14:29.780464Z",
     "iopub.status.idle": "2024-08-31T14:14:29.790641Z",
     "shell.execute_reply": "2024-08-31T14:14:29.789368Z"
    },
    "papermill": {
     "duration": 0.07768,
     "end_time": "2024-08-31T14:14:29.793133",
     "exception": false,
     "start_time": "2024-08-31T14:14:29.715453",
     "status": "completed"
    },
    "tags": []
   },
   "outputs": [
    {
     "data": {
      "text/plain": [
       "event_type\n",
       "HTEAM    843\n",
       "TEAM     638\n",
       "ATH      494\n",
       "HATH     266\n",
       "HCOUP     42\n",
       "COUP      32\n",
       "Name: count, dtype: int64"
      ]
     },
     "execution_count": 84,
     "metadata": {},
     "output_type": "execute_result"
    }
   ],
   "source": [
    "df_medal_24['event_type'].value_counts()"
   ]
  },
  {
   "cell_type": "markdown",
   "id": "33be2f17",
   "metadata": {
    "papermill": {
     "duration": 0.064951,
     "end_time": "2024-08-31T14:14:29.922948",
     "exception": false,
     "start_time": "2024-08-31T14:14:29.857997",
     "status": "completed"
    },
    "tags": []
   },
   "source": [
    "#### Replace values of column 'event_type' in df_medal_24 to match values with df_medal\n",
    "- HTEAM with Team\n",
    "- TEAM with Team\n",
    "- Ath with Athlete\n",
    "- HATH with Athlete\n",
    "- HCOUP with Mixed\n",
    "- COUP with Mixed\n",
    "\n",
    "#### Replace values of column 'event_type' in df_medal to match values with df_medal_24\n",
    "- GameTeam with Team\n",
    "\n",
    "#### Finally 'event_type' should have two values - Athlete and Team\n",
    "\n",
    "## CAUTION: \n",
    "before replacing use 'HCOUP' and \"COUP\" values in 'event_type' of df_medal_24 to input 'event_gender' value as 'Mixed' in the same"
   ]
  },
  {
   "cell_type": "markdown",
   "id": "17d1b558",
   "metadata": {
    "papermill": {
     "duration": 0.064016,
     "end_time": "2024-08-31T14:14:30.051894",
     "exception": false,
     "start_time": "2024-08-31T14:14:29.987878",
     "status": "completed"
    },
    "tags": []
   },
   "source": [
    "#### cross-check 'event_gender'"
   ]
  },
  {
   "cell_type": "code",
   "execution_count": 85,
   "id": "b3a50ba8",
   "metadata": {
    "execution": {
     "iopub.execute_input": "2024-08-31T14:14:30.184239Z",
     "iopub.status.busy": "2024-08-31T14:14:30.183350Z",
     "iopub.status.idle": "2024-08-31T14:14:30.197450Z",
     "shell.execute_reply": "2024-08-31T14:14:30.196272Z"
    },
    "papermill": {
     "duration": 0.083369,
     "end_time": "2024-08-31T14:14:30.200067",
     "exception": false,
     "start_time": "2024-08-31T14:14:30.116698",
     "status": "completed"
    },
    "tags": []
   },
   "outputs": [
    {
     "data": {
      "text/plain": [
       "event_gender\n",
       "Men      13932\n",
       "Women     6323\n",
       "Open       998\n",
       "Mixed      444\n",
       "Name: count, dtype: int64"
      ]
     },
     "execution_count": 85,
     "metadata": {},
     "output_type": "execute_result"
    }
   ],
   "source": [
    "df_medal['event_gender'].value_counts()"
   ]
  },
  {
   "cell_type": "code",
   "execution_count": 86,
   "id": "fd891f15",
   "metadata": {
    "execution": {
     "iopub.execute_input": "2024-08-31T14:14:30.331081Z",
     "iopub.status.busy": "2024-08-31T14:14:30.330606Z",
     "iopub.status.idle": "2024-08-31T14:14:30.341403Z",
     "shell.execute_reply": "2024-08-31T14:14:30.340087Z"
    },
    "papermill": {
     "duration": 0.079895,
     "end_time": "2024-08-31T14:14:30.344325",
     "exception": false,
     "start_time": "2024-08-31T14:14:30.264430",
     "status": "completed"
    },
    "tags": []
   },
   "outputs": [
    {
     "data": {
      "text/plain": [
       "event_gender\n",
       "Female    1162\n",
       "Male      1153\n",
       "Name: count, dtype: int64"
      ]
     },
     "execution_count": 86,
     "metadata": {},
     "output_type": "execute_result"
    }
   ],
   "source": [
    "df_medal_24['event_gender'].value_counts()"
   ]
  },
  {
   "cell_type": "markdown",
   "id": "1480c6a2",
   "metadata": {
    "papermill": {
     "duration": 0.064412,
     "end_time": "2024-08-31T14:14:30.472480",
     "exception": false,
     "start_time": "2024-08-31T14:14:30.408068",
     "status": "completed"
    },
    "tags": []
   },
   "source": [
    "df_medal_24 stores athlete gender but df_medal stores the event's gender. \n",
    "- insert value 'Mixed' in event_gender in df_medal_24 referencing \"HCOUP','COUP' in event_type\n",
    "- replace 'Open' with 'Mixed' in df_medal\n",
    "- replace 'Men' with 'Male' and 'Women' with 'Female'in df_medal"
   ]
  },
  {
   "cell_type": "code",
   "execution_count": 87,
   "id": "5055a652",
   "metadata": {
    "execution": {
     "iopub.execute_input": "2024-08-31T14:14:30.603288Z",
     "iopub.status.busy": "2024-08-31T14:14:30.602836Z",
     "iopub.status.idle": "2024-08-31T14:14:30.612885Z",
     "shell.execute_reply": "2024-08-31T14:14:30.611435Z"
    },
    "papermill": {
     "duration": 0.079303,
     "end_time": "2024-08-31T14:14:30.615557",
     "exception": false,
     "start_time": "2024-08-31T14:14:30.536254",
     "status": "completed"
    },
    "tags": []
   },
   "outputs": [],
   "source": [
    "# df_medal_24: replace gender values with 'Mixed' in 'event_gender' where 'event_type' is 'HCOUP' OR 'COUP'\n",
    "df_medal_24.loc[df_medal_24['event_type'].isin(['HCOUP', 'COUP']), 'event_gender'] = 'Mixed'"
   ]
  },
  {
   "cell_type": "code",
   "execution_count": 88,
   "id": "56689965",
   "metadata": {
    "execution": {
     "iopub.execute_input": "2024-08-31T14:14:30.751174Z",
     "iopub.status.busy": "2024-08-31T14:14:30.750659Z",
     "iopub.status.idle": "2024-08-31T14:14:30.761034Z",
     "shell.execute_reply": "2024-08-31T14:14:30.759905Z"
    },
    "papermill": {
     "duration": 0.079038,
     "end_time": "2024-08-31T14:14:30.763580",
     "exception": false,
     "start_time": "2024-08-31T14:14:30.684542",
     "status": "completed"
    },
    "tags": []
   },
   "outputs": [
    {
     "data": {
      "text/plain": [
       "event_gender\n",
       "Female    1121\n",
       "Male      1120\n",
       "Mixed       74\n",
       "Name: count, dtype: int64"
      ]
     },
     "execution_count": 88,
     "metadata": {},
     "output_type": "execute_result"
    }
   ],
   "source": [
    "df_medal_24['event_gender'].value_counts()"
   ]
  },
  {
   "cell_type": "code",
   "execution_count": 89,
   "id": "94b7e4ce",
   "metadata": {
    "execution": {
     "iopub.execute_input": "2024-08-31T14:14:30.899256Z",
     "iopub.status.busy": "2024-08-31T14:14:30.897925Z",
     "iopub.status.idle": "2024-08-31T14:14:30.917241Z",
     "shell.execute_reply": "2024-08-31T14:14:30.916082Z"
    },
    "papermill": {
     "duration": 0.089952,
     "end_time": "2024-08-31T14:14:30.921736",
     "exception": false,
     "start_time": "2024-08-31T14:14:30.831784",
     "status": "completed"
    },
    "tags": []
   },
   "outputs": [
    {
     "name": "stderr",
     "output_type": "stream",
     "text": [
      "/tmp/ipykernel_18/605634113.py:3: FutureWarning: A value is trying to be set on a copy of a DataFrame or Series through chained assignment using an inplace method.\n",
      "The behavior will change in pandas 3.0. This inplace method will never work because the intermediate object on which we are setting values always behaves as a copy.\n",
      "\n",
      "For example, when doing 'df[col].method(value, inplace=True)', try using 'df.method({col: value}, inplace=True)' or df[col] = df[col].method(value) instead, to perform the operation inplace on the original object.\n",
      "\n",
      "\n",
      "  df_medal['event_gender'].replace({'Open': 'Mixed', 'Men': 'Male', 'Women': 'Female'}, inplace = True)\n"
     ]
    }
   ],
   "source": [
    "# df_medal: column event_gender; replace 'Open' with 'Mixed', 'Men' with 'Male', 'Women' with 'Female'\n",
    "\n",
    "df_medal['event_gender'].replace({'Open': 'Mixed', 'Men': 'Male', 'Women': 'Female'}, inplace = True)"
   ]
  },
  {
   "cell_type": "code",
   "execution_count": 90,
   "id": "3dcb6459",
   "metadata": {
    "execution": {
     "iopub.execute_input": "2024-08-31T14:14:31.069634Z",
     "iopub.status.busy": "2024-08-31T14:14:31.069147Z",
     "iopub.status.idle": "2024-08-31T14:14:31.082578Z",
     "shell.execute_reply": "2024-08-31T14:14:31.081434Z"
    },
    "papermill": {
     "duration": 0.081949,
     "end_time": "2024-08-31T14:14:31.085534",
     "exception": false,
     "start_time": "2024-08-31T14:14:31.003585",
     "status": "completed"
    },
    "tags": []
   },
   "outputs": [
    {
     "data": {
      "text/plain": [
       "event_gender\n",
       "Male      13932\n",
       "Female     6323\n",
       "Mixed      1442\n",
       "Name: count, dtype: int64"
      ]
     },
     "execution_count": 90,
     "metadata": {},
     "output_type": "execute_result"
    }
   ],
   "source": [
    "df_medal['event_gender'].value_counts()"
   ]
  },
  {
   "cell_type": "markdown",
   "id": "65069e71",
   "metadata": {
    "papermill": {
     "duration": 0.063385,
     "end_time": "2024-08-31T14:14:31.212937",
     "exception": false,
     "start_time": "2024-08-31T14:14:31.149552",
     "status": "completed"
    },
    "tags": []
   },
   "source": [
    "#### cross-check event_type"
   ]
  },
  {
   "cell_type": "code",
   "execution_count": 91,
   "id": "64df231b",
   "metadata": {
    "execution": {
     "iopub.execute_input": "2024-08-31T14:14:31.344552Z",
     "iopub.status.busy": "2024-08-31T14:14:31.343428Z",
     "iopub.status.idle": "2024-08-31T14:14:31.356587Z",
     "shell.execute_reply": "2024-08-31T14:14:31.355403Z"
    },
    "papermill": {
     "duration": 0.081613,
     "end_time": "2024-08-31T14:14:31.359196",
     "exception": false,
     "start_time": "2024-08-31T14:14:31.277583",
     "status": "completed"
    },
    "tags": []
   },
   "outputs": [
    {
     "data": {
      "text/plain": [
       "event_type\n",
       "Athlete     15113\n",
       "GameTeam     6584\n",
       "Name: count, dtype: int64"
      ]
     },
     "execution_count": 91,
     "metadata": {},
     "output_type": "execute_result"
    }
   ],
   "source": [
    "df_medal['event_type'].value_counts()"
   ]
  },
  {
   "cell_type": "code",
   "execution_count": 92,
   "id": "32dace60",
   "metadata": {
    "execution": {
     "iopub.execute_input": "2024-08-31T14:14:31.492226Z",
     "iopub.status.busy": "2024-08-31T14:14:31.491778Z",
     "iopub.status.idle": "2024-08-31T14:14:31.502030Z",
     "shell.execute_reply": "2024-08-31T14:14:31.500855Z"
    },
    "papermill": {
     "duration": 0.080405,
     "end_time": "2024-08-31T14:14:31.505217",
     "exception": false,
     "start_time": "2024-08-31T14:14:31.424812",
     "status": "completed"
    },
    "tags": []
   },
   "outputs": [
    {
     "data": {
      "text/plain": [
       "event_type\n",
       "HTEAM    843\n",
       "TEAM     638\n",
       "ATH      494\n",
       "HATH     266\n",
       "HCOUP     42\n",
       "COUP      32\n",
       "Name: count, dtype: int64"
      ]
     },
     "execution_count": 92,
     "metadata": {},
     "output_type": "execute_result"
    }
   ],
   "source": [
    "df_medal_24['event_type'].value_counts()"
   ]
  },
  {
   "cell_type": "code",
   "execution_count": 93,
   "id": "1ec2b75c",
   "metadata": {
    "execution": {
     "iopub.execute_input": "2024-08-31T14:14:31.637210Z",
     "iopub.status.busy": "2024-08-31T14:14:31.636748Z",
     "iopub.status.idle": "2024-08-31T14:14:31.647612Z",
     "shell.execute_reply": "2024-08-31T14:14:31.646384Z"
    },
    "papermill": {
     "duration": 0.080272,
     "end_time": "2024-08-31T14:14:31.650486",
     "exception": false,
     "start_time": "2024-08-31T14:14:31.570214",
     "status": "completed"
    },
    "tags": []
   },
   "outputs": [],
   "source": [
    "# replace values in event_type column of df_medal_24\n",
    "df_medal_24['event_type'] = df_medal_24['event_type'].replace({'HTEAM': 'Team', 'TEAM': 'Team', 'HCOUP': 'Team', 'COUP': 'Team', 'ATH': 'Athlete', 'HATH': 'Athlete'})"
   ]
  },
  {
   "cell_type": "code",
   "execution_count": 94,
   "id": "d8fcde6c",
   "metadata": {
    "execution": {
     "iopub.execute_input": "2024-08-31T14:14:31.783266Z",
     "iopub.status.busy": "2024-08-31T14:14:31.782189Z",
     "iopub.status.idle": "2024-08-31T14:14:31.794540Z",
     "shell.execute_reply": "2024-08-31T14:14:31.793295Z"
    },
    "papermill": {
     "duration": 0.081774,
     "end_time": "2024-08-31T14:14:31.797522",
     "exception": false,
     "start_time": "2024-08-31T14:14:31.715748",
     "status": "completed"
    },
    "tags": []
   },
   "outputs": [],
   "source": [
    "# replace value in df_medal\n",
    "df_medal['event_type'] = df_medal['event_type'].replace({'GameTeam': 'Team'})"
   ]
  },
  {
   "cell_type": "markdown",
   "id": "57543a61",
   "metadata": {
    "papermill": {
     "duration": 0.064836,
     "end_time": "2024-08-31T14:14:31.928543",
     "exception": false,
     "start_time": "2024-08-31T14:14:31.863707",
     "status": "completed"
    },
    "tags": []
   },
   "source": [
    "#### cross-check medal_type"
   ]
  },
  {
   "cell_type": "code",
   "execution_count": 95,
   "id": "920bcfc1",
   "metadata": {
    "execution": {
     "iopub.execute_input": "2024-08-31T14:14:32.094000Z",
     "iopub.status.busy": "2024-08-31T14:14:32.093133Z",
     "iopub.status.idle": "2024-08-31T14:14:32.111177Z",
     "shell.execute_reply": "2024-08-31T14:14:32.109747Z"
    },
    "papermill": {
     "duration": 0.092834,
     "end_time": "2024-08-31T14:14:32.114231",
     "exception": false,
     "start_time": "2024-08-31T14:14:32.021397",
     "status": "completed"
    },
    "tags": []
   },
   "outputs": [
    {
     "data": {
      "text/plain": [
       "medal_type\n",
       "Bronze    7529\n",
       "Gold      7109\n",
       "Silver    7059\n",
       "Name: count, dtype: int64"
      ]
     },
     "execution_count": 95,
     "metadata": {},
     "output_type": "execute_result"
    }
   ],
   "source": [
    "df_medal['medal_type'].value_counts()"
   ]
  },
  {
   "cell_type": "code",
   "execution_count": 96,
   "id": "e0c3371f",
   "metadata": {
    "execution": {
     "iopub.execute_input": "2024-08-31T14:14:32.255458Z",
     "iopub.status.busy": "2024-08-31T14:14:32.254880Z",
     "iopub.status.idle": "2024-08-31T14:14:32.267717Z",
     "shell.execute_reply": "2024-08-31T14:14:32.266270Z"
    },
    "papermill": {
     "duration": 0.088763,
     "end_time": "2024-08-31T14:14:32.270541",
     "exception": false,
     "start_time": "2024-08-31T14:14:32.181778",
     "status": "completed"
    },
    "tags": []
   },
   "outputs": [
    {
     "data": {
      "text/plain": [
       "medal_type\n",
       "Bronze    807\n",
       "Silver    756\n",
       "Gold      752\n",
       "Name: count, dtype: int64"
      ]
     },
     "execution_count": 96,
     "metadata": {},
     "output_type": "execute_result"
    }
   ],
   "source": [
    "df_medal_24['medal_type'].value_counts()"
   ]
  },
  {
   "cell_type": "markdown",
   "id": "e8a21208",
   "metadata": {
    "execution": {
     "iopub.execute_input": "2024-08-29T09:16:52.540568Z",
     "iopub.status.busy": "2024-08-29T09:16:52.540088Z",
     "iopub.status.idle": "2024-08-29T09:16:52.557715Z",
     "shell.execute_reply": "2024-08-29T09:16:52.555651Z",
     "shell.execute_reply.started": "2024-08-29T09:16:52.540530Z"
    },
    "papermill": {
     "duration": 0.074869,
     "end_time": "2024-08-31T14:14:32.419645",
     "exception": false,
     "start_time": "2024-08-31T14:14:32.344776",
     "status": "completed"
    },
    "tags": []
   },
   "source": [
    "#### cross-check name"
   ]
  },
  {
   "cell_type": "markdown",
   "id": "213718e6",
   "metadata": {
    "papermill": {
     "duration": 0.068907,
     "end_time": "2024-08-31T14:14:32.568813",
     "exception": false,
     "start_time": "2024-08-31T14:14:32.499906",
     "status": "completed"
    },
    "tags": []
   },
   "source": [
    "#### Inconsistent formatting\n",
    "- df_medal: firstname , LASTNAME\n",
    "- df_medal_24: LASTNAME, firstname\n",
    "\n",
    "change to : firstname, lastname"
   ]
  },
  {
   "cell_type": "code",
   "execution_count": 97,
   "id": "13886d56",
   "metadata": {
    "execution": {
     "iopub.execute_input": "2024-08-31T14:14:32.704732Z",
     "iopub.status.busy": "2024-08-31T14:14:32.704160Z",
     "iopub.status.idle": "2024-08-31T14:14:32.726450Z",
     "shell.execute_reply": "2024-08-31T14:14:32.725086Z"
    },
    "papermill": {
     "duration": 0.095026,
     "end_time": "2024-08-31T14:14:32.729638",
     "exception": false,
     "start_time": "2024-08-31T14:14:32.634612",
     "status": "completed"
    },
    "tags": []
   },
   "outputs": [],
   "source": [
    "# consistent formatting\n",
    "df_medal['name'] = df_medal['name'].str.title()"
   ]
  },
  {
   "cell_type": "code",
   "execution_count": 98,
   "id": "0222fda4",
   "metadata": {
    "execution": {
     "iopub.execute_input": "2024-08-31T14:14:32.872773Z",
     "iopub.status.busy": "2024-08-31T14:14:32.871507Z",
     "iopub.status.idle": "2024-08-31T14:14:32.881208Z",
     "shell.execute_reply": "2024-08-31T14:14:32.880047Z"
    },
    "papermill": {
     "duration": 0.081715,
     "end_time": "2024-08-31T14:14:32.884280",
     "exception": false,
     "start_time": "2024-08-31T14:14:32.802565",
     "status": "completed"
    },
    "tags": []
   },
   "outputs": [
    {
     "data": {
      "text/plain": [
       "0    EVENEPOEL Remco\n",
       "1      GANNA Filippo\n",
       "Name: name, dtype: object"
      ]
     },
     "execution_count": 98,
     "metadata": {},
     "output_type": "execute_result"
    }
   ],
   "source": [
    "df_medal_24['name'].head(2)"
   ]
  },
  {
   "cell_type": "code",
   "execution_count": 99,
   "id": "708d6b0d",
   "metadata": {
    "execution": {
     "iopub.execute_input": "2024-08-31T14:14:33.027797Z",
     "iopub.status.busy": "2024-08-31T14:14:33.026697Z",
     "iopub.status.idle": "2024-08-31T14:14:33.037681Z",
     "shell.execute_reply": "2024-08-31T14:14:33.036433Z"
    },
    "papermill": {
     "duration": 0.086168,
     "end_time": "2024-08-31T14:14:33.041287",
     "exception": false,
     "start_time": "2024-08-31T14:14:32.955119",
     "status": "completed"
    },
    "tags": []
   },
   "outputs": [],
   "source": [
    "# flip the string positions and make the formatting consistent\n",
    "\n",
    "df_medal_24['name'] = df_medal_24['name'][::-1].str.title()"
   ]
  },
  {
   "cell_type": "code",
   "execution_count": 100,
   "id": "501ae8cb",
   "metadata": {
    "execution": {
     "iopub.execute_input": "2024-08-31T14:14:33.185760Z",
     "iopub.status.busy": "2024-08-31T14:14:33.184813Z",
     "iopub.status.idle": "2024-08-31T14:14:33.194553Z",
     "shell.execute_reply": "2024-08-31T14:14:33.193426Z"
    },
    "papermill": {
     "duration": 0.082812,
     "end_time": "2024-08-31T14:14:33.198309",
     "exception": false,
     "start_time": "2024-08-31T14:14:33.115497",
     "status": "completed"
    },
    "tags": []
   },
   "outputs": [
    {
     "data": {
      "text/plain": [
       "0    Evenepoel Remco\n",
       "1      Ganna Filippo\n",
       "Name: name, dtype: object"
      ]
     },
     "execution_count": 100,
     "metadata": {},
     "output_type": "execute_result"
    }
   ],
   "source": [
    "df_medal_24['name'].head(2)"
   ]
  },
  {
   "cell_type": "code",
   "execution_count": 101,
   "id": "4887ee1f",
   "metadata": {
    "execution": {
     "iopub.execute_input": "2024-08-31T14:14:33.339828Z",
     "iopub.status.busy": "2024-08-31T14:14:33.338813Z",
     "iopub.status.idle": "2024-08-31T14:14:33.380265Z",
     "shell.execute_reply": "2024-08-31T14:14:33.379006Z"
    },
    "papermill": {
     "duration": 0.113846,
     "end_time": "2024-08-31T14:14:33.383600",
     "exception": false,
     "start_time": "2024-08-31T14:14:33.269754",
     "status": "completed"
    },
    "tags": []
   },
   "outputs": [
    {
     "data": {
      "text/plain": [
       "75480"
      ]
     },
     "execution_count": 101,
     "metadata": {},
     "output_type": "execute_result"
    }
   ],
   "source": [
    "df_ath['athlete_full_name'].nunique()"
   ]
  },
  {
   "cell_type": "code",
   "execution_count": 102,
   "id": "9d6967fb",
   "metadata": {
    "execution": {
     "iopub.execute_input": "2024-08-31T14:14:33.530320Z",
     "iopub.status.busy": "2024-08-31T14:14:33.529851Z",
     "iopub.status.idle": "2024-08-31T14:14:33.537179Z",
     "shell.execute_reply": "2024-08-31T14:14:33.535846Z"
    },
    "papermill": {
     "duration": 0.088349,
     "end_time": "2024-08-31T14:14:33.540314",
     "exception": false,
     "start_time": "2024-08-31T14:14:33.451965",
     "status": "completed"
    },
    "tags": []
   },
   "outputs": [],
   "source": [
    "# df_ath: change column name 'athlete_full_name' to 'name'\n",
    "# title case consistent formatting\n",
    "\n",
    "df_ath.rename(columns = {'athlete_full_name': 'name'}, inplace = True)"
   ]
  },
  {
   "cell_type": "code",
   "execution_count": 103,
   "id": "40b40f7f",
   "metadata": {
    "execution": {
     "iopub.execute_input": "2024-08-31T14:14:33.682227Z",
     "iopub.status.busy": "2024-08-31T14:14:33.681280Z",
     "iopub.status.idle": "2024-08-31T14:14:33.731136Z",
     "shell.execute_reply": "2024-08-31T14:14:33.729801Z"
    },
    "papermill": {
     "duration": 0.123116,
     "end_time": "2024-08-31T14:14:33.734412",
     "exception": false,
     "start_time": "2024-08-31T14:14:33.611296",
     "status": "completed"
    },
    "tags": []
   },
   "outputs": [],
   "source": [
    "# cinsistent formatting\n",
    "df_ath['name' ] = df_ath['name'].str.title()"
   ]
  },
  {
   "cell_type": "code",
   "execution_count": 104,
   "id": "a7a11176",
   "metadata": {
    "execution": {
     "iopub.execute_input": "2024-08-31T14:14:33.876787Z",
     "iopub.status.busy": "2024-08-31T14:14:33.876301Z",
     "iopub.status.idle": "2024-08-31T14:14:33.883307Z",
     "shell.execute_reply": "2024-08-31T14:14:33.882194Z"
    },
    "papermill": {
     "duration": 0.079663,
     "end_time": "2024-08-31T14:14:33.885877",
     "exception": false,
     "start_time": "2024-08-31T14:14:33.806214",
     "status": "completed"
    },
    "tags": []
   },
   "outputs": [],
   "source": [
    "df_medal.rename(columns = {'year': 'event_year'}, inplace = True)"
   ]
  },
  {
   "cell_type": "code",
   "execution_count": 105,
   "id": "4a4e128f",
   "metadata": {
    "execution": {
     "iopub.execute_input": "2024-08-31T14:14:34.023985Z",
     "iopub.status.busy": "2024-08-31T14:14:34.022411Z",
     "iopub.status.idle": "2024-08-31T14:14:34.040647Z",
     "shell.execute_reply": "2024-08-31T14:14:34.039360Z"
    },
    "papermill": {
     "duration": 0.091961,
     "end_time": "2024-08-31T14:14:34.043619",
     "exception": false,
     "start_time": "2024-08-31T14:14:33.951658",
     "status": "completed"
    },
    "tags": []
   },
   "outputs": [
    {
     "data": {
      "text/html": [
       "<div>\n",
       "<style scoped>\n",
       "    .dataframe tbody tr th:only-of-type {\n",
       "        vertical-align: middle;\n",
       "    }\n",
       "\n",
       "    .dataframe tbody tr th {\n",
       "        vertical-align: top;\n",
       "    }\n",
       "\n",
       "    .dataframe thead th {\n",
       "        text-align: right;\n",
       "    }\n",
       "</style>\n",
       "<table border=\"1\" class=\"dataframe\">\n",
       "  <thead>\n",
       "    <tr style=\"text-align: right;\">\n",
       "      <th></th>\n",
       "      <th>discipline</th>\n",
       "      <th>city</th>\n",
       "      <th>event</th>\n",
       "      <th>event_gender</th>\n",
       "      <th>medal_type</th>\n",
       "      <th>event_type</th>\n",
       "      <th>name</th>\n",
       "      <th>country</th>\n",
       "      <th>country_code</th>\n",
       "      <th>event_year</th>\n",
       "    </tr>\n",
       "  </thead>\n",
       "  <tbody>\n",
       "    <tr>\n",
       "      <th>0</th>\n",
       "      <td>Curling</td>\n",
       "      <td>Beijing</td>\n",
       "      <td>Mixed Doubles</td>\n",
       "      <td>Mixed</td>\n",
       "      <td>Gold</td>\n",
       "      <td>Team</td>\n",
       "      <td>Stefania Constantini</td>\n",
       "      <td>Italy</td>\n",
       "      <td>ITA</td>\n",
       "      <td>2022</td>\n",
       "    </tr>\n",
       "  </tbody>\n",
       "</table>\n",
       "</div>"
      ],
      "text/plain": [
       "  discipline     city          event event_gender medal_type event_type  \\\n",
       "0    Curling  Beijing  Mixed Doubles        Mixed       Gold       Team   \n",
       "\n",
       "                   name country country_code event_year  \n",
       "0  Stefania Constantini   Italy          ITA       2022  "
      ]
     },
     "execution_count": 105,
     "metadata": {},
     "output_type": "execute_result"
    }
   ],
   "source": [
    "df_medal.head(1)"
   ]
  },
  {
   "cell_type": "code",
   "execution_count": 106,
   "id": "66daa9eb",
   "metadata": {
    "execution": {
     "iopub.execute_input": "2024-08-31T14:14:34.179999Z",
     "iopub.status.busy": "2024-08-31T14:14:34.179287Z",
     "iopub.status.idle": "2024-08-31T14:14:34.190404Z",
     "shell.execute_reply": "2024-08-31T14:14:34.189138Z"
    },
    "papermill": {
     "duration": 0.082177,
     "end_time": "2024-08-31T14:14:34.193082",
     "exception": false,
     "start_time": "2024-08-31T14:14:34.110905",
     "status": "completed"
    },
    "tags": []
   },
   "outputs": [
    {
     "data": {
      "text/plain": [
       "discipline      object\n",
       "city            object\n",
       "event           object\n",
       "event_gender    object\n",
       "medal_type      object\n",
       "event_type      object\n",
       "name            object\n",
       "country         object\n",
       "country_code    object\n",
       "event_year      object\n",
       "dtype: object"
      ]
     },
     "execution_count": 106,
     "metadata": {},
     "output_type": "execute_result"
    }
   ],
   "source": [
    "df_medal.dtypes"
   ]
  },
  {
   "cell_type": "markdown",
   "id": "fd62b6d3",
   "metadata": {
    "papermill": {
     "duration": 0.067444,
     "end_time": "2024-08-31T14:14:34.327274",
     "exception": false,
     "start_time": "2024-08-31T14:14:34.259830",
     "status": "completed"
    },
    "tags": []
   },
   "source": [
    "# Finally !! df_medal is all set.\n",
    "## PHEW"
   ]
  },
  {
   "cell_type": "markdown",
   "id": "76f7207c",
   "metadata": {
    "papermill": {
     "duration": 0.067538,
     "end_time": "2024-08-31T14:14:34.462786",
     "exception": false,
     "start_time": "2024-08-31T14:14:34.395248",
     "status": "completed"
    },
    "tags": []
   },
   "source": [
    "#### create event_year columns in df_medal_24"
   ]
  },
  {
   "cell_type": "code",
   "execution_count": 107,
   "id": "82675ebb",
   "metadata": {
    "execution": {
     "iopub.execute_input": "2024-08-31T14:14:34.607894Z",
     "iopub.status.busy": "2024-08-31T14:14:34.607405Z",
     "iopub.status.idle": "2024-08-31T14:14:34.625466Z",
     "shell.execute_reply": "2024-08-31T14:14:34.624152Z"
    },
    "papermill": {
     "duration": 0.097335,
     "end_time": "2024-08-31T14:14:34.628800",
     "exception": false,
     "start_time": "2024-08-31T14:14:34.531465",
     "status": "completed"
    },
    "tags": []
   },
   "outputs": [
    {
     "data": {
      "text/html": [
       "<div>\n",
       "<style scoped>\n",
       "    .dataframe tbody tr th:only-of-type {\n",
       "        vertical-align: middle;\n",
       "    }\n",
       "\n",
       "    .dataframe tbody tr th {\n",
       "        vertical-align: top;\n",
       "    }\n",
       "\n",
       "    .dataframe thead th {\n",
       "        text-align: right;\n",
       "    }\n",
       "</style>\n",
       "<table border=\"1\" class=\"dataframe\">\n",
       "  <thead>\n",
       "    <tr style=\"text-align: right;\">\n",
       "      <th></th>\n",
       "      <th>medal_type</th>\n",
       "      <th>name</th>\n",
       "      <th>event_gender</th>\n",
       "      <th>country_code</th>\n",
       "      <th>country</th>\n",
       "      <th>discipline</th>\n",
       "      <th>event</th>\n",
       "      <th>event_type</th>\n",
       "      <th>city</th>\n",
       "      <th>year</th>\n",
       "    </tr>\n",
       "  </thead>\n",
       "  <tbody>\n",
       "    <tr>\n",
       "      <th>0</th>\n",
       "      <td>Gold</td>\n",
       "      <td>Evenepoel Remco</td>\n",
       "      <td>Male</td>\n",
       "      <td>BEL</td>\n",
       "      <td>Belgium</td>\n",
       "      <td>Cycling Road</td>\n",
       "      <td>Men's Individual Time Trial</td>\n",
       "      <td>Athlete</td>\n",
       "      <td>Paris</td>\n",
       "      <td>2024</td>\n",
       "    </tr>\n",
       "  </tbody>\n",
       "</table>\n",
       "</div>"
      ],
      "text/plain": [
       "  medal_type             name event_gender country_code  country  \\\n",
       "0       Gold  Evenepoel Remco         Male          BEL  Belgium   \n",
       "\n",
       "     discipline                        event event_type   city  year  \n",
       "0  Cycling Road  Men's Individual Time Trial    Athlete  Paris  2024  "
      ]
     },
     "execution_count": 107,
     "metadata": {},
     "output_type": "execute_result"
    }
   ],
   "source": [
    "df_medal_24.head(1)"
   ]
  },
  {
   "cell_type": "code",
   "execution_count": 108,
   "id": "2773ad33",
   "metadata": {
    "execution": {
     "iopub.execute_input": "2024-08-31T14:14:34.767886Z",
     "iopub.status.busy": "2024-08-31T14:14:34.767364Z",
     "iopub.status.idle": "2024-08-31T14:14:34.776081Z",
     "shell.execute_reply": "2024-08-31T14:14:34.774680Z"
    },
    "papermill": {
     "duration": 0.079948,
     "end_time": "2024-08-31T14:14:34.779025",
     "exception": false,
     "start_time": "2024-08-31T14:14:34.699077",
     "status": "completed"
    },
    "tags": []
   },
   "outputs": [],
   "source": [
    "# rename column 'year' to 'event_year'\n",
    "\n",
    "df_medal_24 = df_medal_24.rename(columns = {'year': 'event_year'})"
   ]
  },
  {
   "cell_type": "code",
   "execution_count": 109,
   "id": "9da25fd8",
   "metadata": {
    "execution": {
     "iopub.execute_input": "2024-08-31T14:14:34.930353Z",
     "iopub.status.busy": "2024-08-31T14:14:34.929860Z",
     "iopub.status.idle": "2024-08-31T14:14:34.947037Z",
     "shell.execute_reply": "2024-08-31T14:14:34.945792Z"
    },
    "papermill": {
     "duration": 0.094885,
     "end_time": "2024-08-31T14:14:34.949732",
     "exception": false,
     "start_time": "2024-08-31T14:14:34.854847",
     "status": "completed"
    },
    "tags": []
   },
   "outputs": [
    {
     "data": {
      "text/html": [
       "<div>\n",
       "<style scoped>\n",
       "    .dataframe tbody tr th:only-of-type {\n",
       "        vertical-align: middle;\n",
       "    }\n",
       "\n",
       "    .dataframe tbody tr th {\n",
       "        vertical-align: top;\n",
       "    }\n",
       "\n",
       "    .dataframe thead th {\n",
       "        text-align: right;\n",
       "    }\n",
       "</style>\n",
       "<table border=\"1\" class=\"dataframe\">\n",
       "  <thead>\n",
       "    <tr style=\"text-align: right;\">\n",
       "      <th></th>\n",
       "      <th>medal_type</th>\n",
       "      <th>name</th>\n",
       "      <th>event_gender</th>\n",
       "      <th>country_code</th>\n",
       "      <th>country</th>\n",
       "      <th>discipline</th>\n",
       "      <th>event</th>\n",
       "      <th>event_type</th>\n",
       "      <th>city</th>\n",
       "      <th>event_year</th>\n",
       "    </tr>\n",
       "  </thead>\n",
       "  <tbody>\n",
       "    <tr>\n",
       "      <th>0</th>\n",
       "      <td>Gold</td>\n",
       "      <td>Evenepoel Remco</td>\n",
       "      <td>Male</td>\n",
       "      <td>BEL</td>\n",
       "      <td>Belgium</td>\n",
       "      <td>Cycling Road</td>\n",
       "      <td>Men's Individual Time Trial</td>\n",
       "      <td>Athlete</td>\n",
       "      <td>Paris</td>\n",
       "      <td>2024</td>\n",
       "    </tr>\n",
       "  </tbody>\n",
       "</table>\n",
       "</div>"
      ],
      "text/plain": [
       "  medal_type             name event_gender country_code  country  \\\n",
       "0       Gold  Evenepoel Remco         Male          BEL  Belgium   \n",
       "\n",
       "     discipline                        event event_type   city event_year  \n",
       "0  Cycling Road  Men's Individual Time Trial    Athlete  Paris       2024  "
      ]
     },
     "execution_count": 109,
     "metadata": {},
     "output_type": "execute_result"
    }
   ],
   "source": [
    "df_medal_24.head(1)"
   ]
  },
  {
   "cell_type": "code",
   "execution_count": 110,
   "id": "c228e654",
   "metadata": {
    "execution": {
     "iopub.execute_input": "2024-08-31T14:14:35.095431Z",
     "iopub.status.busy": "2024-08-31T14:14:35.094941Z",
     "iopub.status.idle": "2024-08-31T14:14:35.111891Z",
     "shell.execute_reply": "2024-08-31T14:14:35.110644Z"
    },
    "papermill": {
     "duration": 0.092536,
     "end_time": "2024-08-31T14:14:35.114480",
     "exception": false,
     "start_time": "2024-08-31T14:14:35.021944",
     "status": "completed"
    },
    "tags": []
   },
   "outputs": [
    {
     "data": {
      "text/html": [
       "<div>\n",
       "<style scoped>\n",
       "    .dataframe tbody tr th:only-of-type {\n",
       "        vertical-align: middle;\n",
       "    }\n",
       "\n",
       "    .dataframe tbody tr th {\n",
       "        vertical-align: top;\n",
       "    }\n",
       "\n",
       "    .dataframe thead th {\n",
       "        text-align: right;\n",
       "    }\n",
       "</style>\n",
       "<table border=\"1\" class=\"dataframe\">\n",
       "  <thead>\n",
       "    <tr style=\"text-align: right;\">\n",
       "      <th></th>\n",
       "      <th>medal_type</th>\n",
       "      <th>name</th>\n",
       "      <th>event_gender</th>\n",
       "      <th>country_code</th>\n",
       "      <th>country</th>\n",
       "      <th>discipline</th>\n",
       "      <th>event</th>\n",
       "      <th>event_type</th>\n",
       "      <th>city</th>\n",
       "      <th>event_year</th>\n",
       "    </tr>\n",
       "  </thead>\n",
       "  <tbody>\n",
       "    <tr>\n",
       "      <th>0</th>\n",
       "      <td>Gold</td>\n",
       "      <td>Evenepoel Remco</td>\n",
       "      <td>Male</td>\n",
       "      <td>BEL</td>\n",
       "      <td>Belgium</td>\n",
       "      <td>Cycling Road</td>\n",
       "      <td>Men's Individual Time Trial</td>\n",
       "      <td>Athlete</td>\n",
       "      <td>Paris</td>\n",
       "      <td>2024</td>\n",
       "    </tr>\n",
       "  </tbody>\n",
       "</table>\n",
       "</div>"
      ],
      "text/plain": [
       "  medal_type             name event_gender country_code  country  \\\n",
       "0       Gold  Evenepoel Remco         Male          BEL  Belgium   \n",
       "\n",
       "     discipline                        event event_type   city event_year  \n",
       "0  Cycling Road  Men's Individual Time Trial    Athlete  Paris       2024  "
      ]
     },
     "execution_count": 110,
     "metadata": {},
     "output_type": "execute_result"
    }
   ],
   "source": [
    "df_medal_24.head(1)"
   ]
  },
  {
   "cell_type": "code",
   "execution_count": 111,
   "id": "8b1ae593",
   "metadata": {
    "execution": {
     "iopub.execute_input": "2024-08-31T14:14:35.261137Z",
     "iopub.status.busy": "2024-08-31T14:14:35.260651Z",
     "iopub.status.idle": "2024-08-31T14:14:35.268899Z",
     "shell.execute_reply": "2024-08-31T14:14:35.267442Z"
    },
    "papermill": {
     "duration": 0.085612,
     "end_time": "2024-08-31T14:14:35.271789",
     "exception": false,
     "start_time": "2024-08-31T14:14:35.186177",
     "status": "completed"
    },
    "tags": []
   },
   "outputs": [],
   "source": [
    "# change dtype of event_year from string to int\n",
    "df_medal_24['event_year'] = df_medal_24['event_year'].astype(int)"
   ]
  },
  {
   "cell_type": "code",
   "execution_count": 112,
   "id": "58b91ba3",
   "metadata": {
    "execution": {
     "iopub.execute_input": "2024-08-31T14:14:35.410518Z",
     "iopub.status.busy": "2024-08-31T14:14:35.409972Z",
     "iopub.status.idle": "2024-08-31T14:14:35.419895Z",
     "shell.execute_reply": "2024-08-31T14:14:35.418581Z"
    },
    "papermill": {
     "duration": 0.081777,
     "end_time": "2024-08-31T14:14:35.422706",
     "exception": false,
     "start_time": "2024-08-31T14:14:35.340929",
     "status": "completed"
    },
    "tags": []
   },
   "outputs": [
    {
     "data": {
      "text/plain": [
       "discipline      object\n",
       "city            object\n",
       "event           object\n",
       "event_gender    object\n",
       "medal_type      object\n",
       "event_type      object\n",
       "name            object\n",
       "country         object\n",
       "country_code    object\n",
       "event_year      object\n",
       "dtype: object"
      ]
     },
     "execution_count": 112,
     "metadata": {},
     "output_type": "execute_result"
    }
   ],
   "source": [
    "df_medal.dtypes"
   ]
  },
  {
   "cell_type": "code",
   "execution_count": 113,
   "id": "7ef71927",
   "metadata": {
    "execution": {
     "iopub.execute_input": "2024-08-31T14:14:35.563893Z",
     "iopub.status.busy": "2024-08-31T14:14:35.563427Z",
     "iopub.status.idle": "2024-08-31T14:14:35.573606Z",
     "shell.execute_reply": "2024-08-31T14:14:35.572249Z"
    },
    "papermill": {
     "duration": 0.081168,
     "end_time": "2024-08-31T14:14:35.576434",
     "exception": false,
     "start_time": "2024-08-31T14:14:35.495266",
     "status": "completed"
    },
    "tags": []
   },
   "outputs": [
    {
     "data": {
      "text/plain": [
       "medal_type      object\n",
       "name            object\n",
       "event_gender    object\n",
       "country_code    object\n",
       "country         object\n",
       "discipline      object\n",
       "event           object\n",
       "event_type      object\n",
       "city            object\n",
       "event_year       int64\n",
       "dtype: object"
      ]
     },
     "execution_count": 113,
     "metadata": {},
     "output_type": "execute_result"
    }
   ],
   "source": [
    "df_medal_24.dtypes"
   ]
  },
  {
   "cell_type": "code",
   "execution_count": 114,
   "id": "ee235b8f",
   "metadata": {
    "execution": {
     "iopub.execute_input": "2024-08-31T14:14:35.714486Z",
     "iopub.status.busy": "2024-08-31T14:14:35.714020Z",
     "iopub.status.idle": "2024-08-31T14:14:35.723948Z",
     "shell.execute_reply": "2024-08-31T14:14:35.722613Z"
    },
    "papermill": {
     "duration": 0.083656,
     "end_time": "2024-08-31T14:14:35.727264",
     "exception": false,
     "start_time": "2024-08-31T14:14:35.643608",
     "status": "completed"
    },
    "tags": []
   },
   "outputs": [
    {
     "data": {
      "text/plain": [
       "discipline      object\n",
       "city            object\n",
       "event           object\n",
       "event_gender    object\n",
       "medal_type      object\n",
       "event_type      object\n",
       "name            object\n",
       "country         object\n",
       "country_code    object\n",
       "event_year      object\n",
       "dtype: object"
      ]
     },
     "execution_count": 114,
     "metadata": {},
     "output_type": "execute_result"
    }
   ],
   "source": [
    "df_medal.dtypes"
   ]
  },
  {
   "cell_type": "markdown",
   "id": "8df2906d",
   "metadata": {
    "papermill": {
     "duration": 0.075722,
     "end_time": "2024-08-31T14:14:35.874689",
     "exception": false,
     "start_time": "2024-08-31T14:14:35.798967",
     "status": "completed"
    },
    "tags": []
   },
   "source": [
    "# Let's start MERGING!"
   ]
  },
  {
   "cell_type": "markdown",
   "id": "ec6c1fac",
   "metadata": {
    "execution": {
     "iopub.execute_input": "2024-08-29T15:38:45.041637Z",
     "iopub.status.busy": "2024-08-29T15:38:45.041235Z",
     "iopub.status.idle": "2024-08-29T15:38:45.048697Z",
     "shell.execute_reply": "2024-08-29T15:38:45.047273Z",
     "shell.execute_reply.started": "2024-08-29T15:38:45.041602Z"
    },
    "papermill": {
     "duration": 0.078035,
     "end_time": "2024-08-31T14:14:36.024664",
     "exception": false,
     "start_time": "2024-08-31T14:14:35.946629",
     "status": "completed"
    },
    "tags": []
   },
   "source": [
    "Decinding the order of columns. It makes working with it convenient."
   ]
  },
  {
   "cell_type": "code",
   "execution_count": 115,
   "id": "ceac0d2f",
   "metadata": {
    "execution": {
     "iopub.execute_input": "2024-08-31T14:14:36.170596Z",
     "iopub.status.busy": "2024-08-31T14:14:36.170131Z",
     "iopub.status.idle": "2024-08-31T14:14:36.177175Z",
     "shell.execute_reply": "2024-08-31T14:14:36.175366Z"
    },
    "papermill": {
     "duration": 0.080748,
     "end_time": "2024-08-31T14:14:36.180485",
     "exception": false,
     "start_time": "2024-08-31T14:14:36.099737",
     "status": "completed"
    },
    "tags": []
   },
   "outputs": [],
   "source": [
    "column_order = [\n",
    "    'discipline',\n",
    "    'event',\n",
    "    'event_gender',\n",
    "    'event_type',\n",
    "    'medal_type',\n",
    "    'name',\n",
    "    'country_code',\n",
    "    'country',\n",
    "    'city',\n",
    "    'event_year'\n",
    "]"
   ]
  },
  {
   "cell_type": "code",
   "execution_count": 116,
   "id": "c4093be2",
   "metadata": {
    "execution": {
     "iopub.execute_input": "2024-08-31T14:14:36.326598Z",
     "iopub.status.busy": "2024-08-31T14:14:36.326094Z",
     "iopub.status.idle": "2024-08-31T14:14:36.338061Z",
     "shell.execute_reply": "2024-08-31T14:14:36.336707Z"
    },
    "papermill": {
     "duration": 0.090049,
     "end_time": "2024-08-31T14:14:36.341015",
     "exception": false,
     "start_time": "2024-08-31T14:14:36.250966",
     "status": "completed"
    },
    "tags": []
   },
   "outputs": [],
   "source": [
    "# reorder columns in df_medal\n",
    "\n",
    "df_medal = df_medal[column_order]"
   ]
  },
  {
   "cell_type": "code",
   "execution_count": 117,
   "id": "df9efe39",
   "metadata": {
    "execution": {
     "iopub.execute_input": "2024-08-31T14:14:36.488636Z",
     "iopub.status.busy": "2024-08-31T14:14:36.487759Z",
     "iopub.status.idle": "2024-08-31T14:14:36.524225Z",
     "shell.execute_reply": "2024-08-31T14:14:36.522842Z"
    },
    "papermill": {
     "duration": 0.114137,
     "end_time": "2024-08-31T14:14:36.527241",
     "exception": false,
     "start_time": "2024-08-31T14:14:36.413104",
     "status": "completed"
    },
    "tags": []
   },
   "outputs": [
    {
     "data": {
      "text/plain": [
       "discipline         0\n",
       "event              0\n",
       "event_gender       0\n",
       "event_type         0\n",
       "medal_type         0\n",
       "name            3624\n",
       "country_code       0\n",
       "country            0\n",
       "city               0\n",
       "event_year         0\n",
       "dtype: int64"
      ]
     },
     "execution_count": 117,
     "metadata": {},
     "output_type": "execute_result"
    }
   ],
   "source": [
    "df_medal.isnull().sum()"
   ]
  },
  {
   "cell_type": "code",
   "execution_count": 118,
   "id": "c28a12df",
   "metadata": {
    "execution": {
     "iopub.execute_input": "2024-08-31T14:14:36.675549Z",
     "iopub.status.busy": "2024-08-31T14:14:36.675079Z",
     "iopub.status.idle": "2024-08-31T14:14:36.683114Z",
     "shell.execute_reply": "2024-08-31T14:14:36.681454Z"
    },
    "papermill": {
     "duration": 0.08435,
     "end_time": "2024-08-31T14:14:36.686323",
     "exception": false,
     "start_time": "2024-08-31T14:14:36.601973",
     "status": "completed"
    },
    "tags": []
   },
   "outputs": [],
   "source": [
    "# reorder columns in df_medal_24\n",
    "\n",
    "df_medal_24 = df_medal_24[column_order]"
   ]
  },
  {
   "cell_type": "code",
   "execution_count": 119,
   "id": "179ee854",
   "metadata": {
    "execution": {
     "iopub.execute_input": "2024-08-31T14:14:36.836387Z",
     "iopub.status.busy": "2024-08-31T14:14:36.835906Z",
     "iopub.status.idle": "2024-08-31T14:14:36.847239Z",
     "shell.execute_reply": "2024-08-31T14:14:36.845876Z"
    },
    "papermill": {
     "duration": 0.088675,
     "end_time": "2024-08-31T14:14:36.850268",
     "exception": false,
     "start_time": "2024-08-31T14:14:36.761593",
     "status": "completed"
    },
    "tags": []
   },
   "outputs": [],
   "source": [
    "# merge df_medal and df_medal_24\n",
    "\n",
    "df_final = pd.concat([df_medal_24,df_medal], ignore_index = True)"
   ]
  },
  {
   "cell_type": "code",
   "execution_count": 120,
   "id": "db60b471",
   "metadata": {
    "execution": {
     "iopub.execute_input": "2024-08-31T14:14:36.993138Z",
     "iopub.status.busy": "2024-08-31T14:14:36.992646Z",
     "iopub.status.idle": "2024-08-31T14:14:37.013559Z",
     "shell.execute_reply": "2024-08-31T14:14:37.012187Z"
    },
    "papermill": {
     "duration": 0.093818,
     "end_time": "2024-08-31T14:14:37.016595",
     "exception": false,
     "start_time": "2024-08-31T14:14:36.922777",
     "status": "completed"
    },
    "tags": []
   },
   "outputs": [
    {
     "data": {
      "text/html": [
       "<div>\n",
       "<style scoped>\n",
       "    .dataframe tbody tr th:only-of-type {\n",
       "        vertical-align: middle;\n",
       "    }\n",
       "\n",
       "    .dataframe tbody tr th {\n",
       "        vertical-align: top;\n",
       "    }\n",
       "\n",
       "    .dataframe thead th {\n",
       "        text-align: right;\n",
       "    }\n",
       "</style>\n",
       "<table border=\"1\" class=\"dataframe\">\n",
       "  <thead>\n",
       "    <tr style=\"text-align: right;\">\n",
       "      <th></th>\n",
       "      <th>discipline</th>\n",
       "      <th>event</th>\n",
       "      <th>event_gender</th>\n",
       "      <th>event_type</th>\n",
       "      <th>medal_type</th>\n",
       "      <th>name</th>\n",
       "      <th>country_code</th>\n",
       "      <th>country</th>\n",
       "      <th>city</th>\n",
       "      <th>event_year</th>\n",
       "    </tr>\n",
       "  </thead>\n",
       "  <tbody>\n",
       "    <tr>\n",
       "      <th>0</th>\n",
       "      <td>Cycling Road</td>\n",
       "      <td>Men's Individual Time Trial</td>\n",
       "      <td>Male</td>\n",
       "      <td>Athlete</td>\n",
       "      <td>Gold</td>\n",
       "      <td>Evenepoel Remco</td>\n",
       "      <td>BEL</td>\n",
       "      <td>Belgium</td>\n",
       "      <td>Paris</td>\n",
       "      <td>2024</td>\n",
       "    </tr>\n",
       "    <tr>\n",
       "      <th>1</th>\n",
       "      <td>Cycling Road</td>\n",
       "      <td>Men's Individual Time Trial</td>\n",
       "      <td>Male</td>\n",
       "      <td>Athlete</td>\n",
       "      <td>Silver</td>\n",
       "      <td>Ganna Filippo</td>\n",
       "      <td>ITA</td>\n",
       "      <td>Italy</td>\n",
       "      <td>Paris</td>\n",
       "      <td>2024</td>\n",
       "    </tr>\n",
       "    <tr>\n",
       "      <th>2</th>\n",
       "      <td>Cycling Road</td>\n",
       "      <td>Men's Individual Time Trial</td>\n",
       "      <td>Male</td>\n",
       "      <td>Athlete</td>\n",
       "      <td>Bronze</td>\n",
       "      <td>Van Aert Wout</td>\n",
       "      <td>BEL</td>\n",
       "      <td>Belgium</td>\n",
       "      <td>Paris</td>\n",
       "      <td>2024</td>\n",
       "    </tr>\n",
       "    <tr>\n",
       "      <th>3</th>\n",
       "      <td>Cycling Road</td>\n",
       "      <td>Women's Individual Time Trial</td>\n",
       "      <td>Female</td>\n",
       "      <td>Athlete</td>\n",
       "      <td>Gold</td>\n",
       "      <td>Brown Grace</td>\n",
       "      <td>AUS</td>\n",
       "      <td>Australia</td>\n",
       "      <td>Paris</td>\n",
       "      <td>2024</td>\n",
       "    </tr>\n",
       "    <tr>\n",
       "      <th>4</th>\n",
       "      <td>Cycling Road</td>\n",
       "      <td>Women's Individual Time Trial</td>\n",
       "      <td>Female</td>\n",
       "      <td>Athlete</td>\n",
       "      <td>Silver</td>\n",
       "      <td>Henderson Anna</td>\n",
       "      <td>GBR</td>\n",
       "      <td>Great Britain</td>\n",
       "      <td>Paris</td>\n",
       "      <td>2024</td>\n",
       "    </tr>\n",
       "  </tbody>\n",
       "</table>\n",
       "</div>"
      ],
      "text/plain": [
       "     discipline                          event event_gender event_type  \\\n",
       "0  Cycling Road    Men's Individual Time Trial         Male    Athlete   \n",
       "1  Cycling Road    Men's Individual Time Trial         Male    Athlete   \n",
       "2  Cycling Road    Men's Individual Time Trial         Male    Athlete   \n",
       "3  Cycling Road  Women's Individual Time Trial       Female    Athlete   \n",
       "4  Cycling Road  Women's Individual Time Trial       Female    Athlete   \n",
       "\n",
       "  medal_type             name country_code        country   city event_year  \n",
       "0       Gold  Evenepoel Remco          BEL        Belgium  Paris       2024  \n",
       "1     Silver    Ganna Filippo          ITA          Italy  Paris       2024  \n",
       "2     Bronze    Van Aert Wout          BEL        Belgium  Paris       2024  \n",
       "3       Gold      Brown Grace          AUS      Australia  Paris       2024  \n",
       "4     Silver   Henderson Anna          GBR  Great Britain  Paris       2024  "
      ]
     },
     "execution_count": 120,
     "metadata": {},
     "output_type": "execute_result"
    }
   ],
   "source": [
    "df_final.head()"
   ]
  },
  {
   "cell_type": "code",
   "execution_count": 121,
   "id": "1713e8b3",
   "metadata": {
    "execution": {
     "iopub.execute_input": "2024-08-31T14:14:37.163588Z",
     "iopub.status.busy": "2024-08-31T14:14:37.163063Z",
     "iopub.status.idle": "2024-08-31T14:14:37.171671Z",
     "shell.execute_reply": "2024-08-31T14:14:37.170455Z"
    },
    "papermill": {
     "duration": 0.08635,
     "end_time": "2024-08-31T14:14:37.174527",
     "exception": false,
     "start_time": "2024-08-31T14:14:37.088177",
     "status": "completed"
    },
    "tags": []
   },
   "outputs": [
    {
     "data": {
      "text/plain": [
       "(24012, 10)"
      ]
     },
     "execution_count": 121,
     "metadata": {},
     "output_type": "execute_result"
    }
   ],
   "source": [
    "df_final.shape"
   ]
  },
  {
   "cell_type": "markdown",
   "id": "2a1df99d",
   "metadata": {
    "papermill": {
     "duration": 0.168027,
     "end_time": "2024-08-31T14:14:37.413174",
     "exception": false,
     "start_time": "2024-08-31T14:14:37.245147",
     "status": "completed"
    },
    "tags": []
   },
   "source": [
    "df_final verified"
   ]
  },
  {
   "cell_type": "code",
   "execution_count": 122,
   "id": "59cde6c6",
   "metadata": {
    "execution": {
     "iopub.execute_input": "2024-08-31T14:14:37.552664Z",
     "iopub.status.busy": "2024-08-31T14:14:37.551247Z",
     "iopub.status.idle": "2024-08-31T14:14:37.575569Z",
     "shell.execute_reply": "2024-08-31T14:14:37.574252Z"
    },
    "papermill": {
     "duration": 0.097339,
     "end_time": "2024-08-31T14:14:37.579014",
     "exception": false,
     "start_time": "2024-08-31T14:14:37.481675",
     "status": "completed"
    },
    "tags": []
   },
   "outputs": [],
   "source": [
    "#title case the strings\n",
    "df_final['event'] = df_final['event'].str.title()"
   ]
  },
  {
   "cell_type": "code",
   "execution_count": 123,
   "id": "db122254",
   "metadata": {
    "execution": {
     "iopub.execute_input": "2024-08-31T14:14:37.723501Z",
     "iopub.status.busy": "2024-08-31T14:14:37.722999Z",
     "iopub.status.idle": "2024-08-31T14:14:37.732720Z",
     "shell.execute_reply": "2024-08-31T14:14:37.731536Z"
    },
    "papermill": {
     "duration": 0.08312,
     "end_time": "2024-08-31T14:14:37.735376",
     "exception": false,
     "start_time": "2024-08-31T14:14:37.652256",
     "status": "completed"
    },
    "tags": []
   },
   "outputs": [
    {
     "data": {
      "text/plain": [
       "0    Men'S Individual Time Trial\n",
       "Name: event, dtype: object"
      ]
     },
     "execution_count": 123,
     "metadata": {},
     "output_type": "execute_result"
    }
   ],
   "source": [
    "df_final['event'].head(1)"
   ]
  },
  {
   "cell_type": "code",
   "execution_count": 124,
   "id": "c5aa3b2d",
   "metadata": {
    "execution": {
     "iopub.execute_input": "2024-08-31T14:14:37.879747Z",
     "iopub.status.busy": "2024-08-31T14:14:37.878388Z",
     "iopub.status.idle": "2024-08-31T14:14:37.898828Z",
     "shell.execute_reply": "2024-08-31T14:14:37.897358Z"
    },
    "papermill": {
     "duration": 0.098829,
     "end_time": "2024-08-31T14:14:37.902098",
     "exception": false,
     "start_time": "2024-08-31T14:14:37.803269",
     "status": "completed"
    },
    "tags": []
   },
   "outputs": [],
   "source": [
    "# replace ''S' in event\n",
    "\n",
    "df_final['event'] = df_final['event'].str.replace(\"'S\", \"\", regex = False)"
   ]
  },
  {
   "cell_type": "code",
   "execution_count": 125,
   "id": "65a21366",
   "metadata": {
    "execution": {
     "iopub.execute_input": "2024-08-31T14:14:38.045986Z",
     "iopub.status.busy": "2024-08-31T14:14:38.045499Z",
     "iopub.status.idle": "2024-08-31T14:14:38.072954Z",
     "shell.execute_reply": "2024-08-31T14:14:38.071427Z"
    },
    "papermill": {
     "duration": 0.104186,
     "end_time": "2024-08-31T14:14:38.076307",
     "exception": false,
     "start_time": "2024-08-31T14:14:37.972121",
     "status": "completed"
    },
    "tags": []
   },
   "outputs": [
    {
     "data": {
      "text/plain": [
       "event\n",
       "False    24012\n",
       "Name: count, dtype: int64"
      ]
     },
     "execution_count": 125,
     "metadata": {},
     "output_type": "execute_result"
    }
   ],
   "source": [
    "# verifying titlecase change\n",
    "df_final['event'].str.contains('women').value_counts()"
   ]
  },
  {
   "cell_type": "code",
   "execution_count": 126,
   "id": "cf31506f",
   "metadata": {
    "execution": {
     "iopub.execute_input": "2024-08-31T14:14:38.224472Z",
     "iopub.status.busy": "2024-08-31T14:14:38.224007Z",
     "iopub.status.idle": "2024-08-31T14:14:38.249402Z",
     "shell.execute_reply": "2024-08-31T14:14:38.247859Z"
    },
    "papermill": {
     "duration": 0.104688,
     "end_time": "2024-08-31T14:14:38.252208",
     "exception": false,
     "start_time": "2024-08-31T14:14:38.147520",
     "status": "completed"
    },
    "tags": []
   },
   "outputs": [
    {
     "data": {
      "text/plain": [
       "event\n",
       "False    23852\n",
       "True       160\n",
       "Name: count, dtype: int64"
      ]
     },
     "execution_count": 126,
     "metadata": {},
     "output_type": "execute_result"
    }
   ],
   "source": [
    "df_final['event'].str.contains('Open').value_counts()"
   ]
  },
  {
   "cell_type": "code",
   "execution_count": 127,
   "id": "8f4c88f9",
   "metadata": {
    "execution": {
     "iopub.execute_input": "2024-08-31T14:14:38.406429Z",
     "iopub.status.busy": "2024-08-31T14:14:38.405928Z",
     "iopub.status.idle": "2024-08-31T14:14:38.424496Z",
     "shell.execute_reply": "2024-08-31T14:14:38.423011Z"
    },
    "papermill": {
     "duration": 0.099842,
     "end_time": "2024-08-31T14:14:38.427806",
     "exception": false,
     "start_time": "2024-08-31T14:14:38.327964",
     "status": "completed"
    },
    "tags": []
   },
   "outputs": [
    {
     "data": {
      "text/html": [
       "<div>\n",
       "<style scoped>\n",
       "    .dataframe tbody tr th:only-of-type {\n",
       "        vertical-align: middle;\n",
       "    }\n",
       "\n",
       "    .dataframe tbody tr th {\n",
       "        vertical-align: top;\n",
       "    }\n",
       "\n",
       "    .dataframe thead th {\n",
       "        text-align: right;\n",
       "    }\n",
       "</style>\n",
       "<table border=\"1\" class=\"dataframe\">\n",
       "  <thead>\n",
       "    <tr style=\"text-align: right;\">\n",
       "      <th></th>\n",
       "      <th>discipline</th>\n",
       "      <th>event</th>\n",
       "      <th>event_gender</th>\n",
       "      <th>event_type</th>\n",
       "      <th>medal_type</th>\n",
       "      <th>name</th>\n",
       "      <th>country_code</th>\n",
       "      <th>country</th>\n",
       "      <th>city</th>\n",
       "      <th>event_year</th>\n",
       "    </tr>\n",
       "  </thead>\n",
       "  <tbody>\n",
       "    <tr>\n",
       "      <th>24011</th>\n",
       "      <td>Weightlifting</td>\n",
       "      <td>Heavyweight - Two Hand Lift Men</td>\n",
       "      <td>Male</td>\n",
       "      <td>Athlete</td>\n",
       "      <td>Bronze</td>\n",
       "      <td>Sotirios Versis</td>\n",
       "      <td>GRE</td>\n",
       "      <td>Greece</td>\n",
       "      <td>Athens</td>\n",
       "      <td>1896</td>\n",
       "    </tr>\n",
       "  </tbody>\n",
       "</table>\n",
       "</div>"
      ],
      "text/plain": [
       "          discipline                            event event_gender event_type  \\\n",
       "24011  Weightlifting  Heavyweight - Two Hand Lift Men         Male    Athlete   \n",
       "\n",
       "      medal_type             name country_code country    city event_year  \n",
       "24011     Bronze  Sotirios Versis          GRE  Greece  Athens       1896  "
      ]
     },
     "execution_count": 127,
     "metadata": {},
     "output_type": "execute_result"
    }
   ],
   "source": [
    "df_final.tail(1)"
   ]
  },
  {
   "cell_type": "code",
   "execution_count": 128,
   "id": "3bee8834",
   "metadata": {
    "execution": {
     "iopub.execute_input": "2024-08-31T14:14:38.576945Z",
     "iopub.status.busy": "2024-08-31T14:14:38.576508Z",
     "iopub.status.idle": "2024-08-31T14:14:38.594745Z",
     "shell.execute_reply": "2024-08-31T14:14:38.593192Z"
    },
    "papermill": {
     "duration": 0.098536,
     "end_time": "2024-08-31T14:14:38.598026",
     "exception": false,
     "start_time": "2024-08-31T14:14:38.499490",
     "status": "completed"
    },
    "tags": []
   },
   "outputs": [
    {
     "data": {
      "text/html": [
       "<div>\n",
       "<style scoped>\n",
       "    .dataframe tbody tr th:only-of-type {\n",
       "        vertical-align: middle;\n",
       "    }\n",
       "\n",
       "    .dataframe tbody tr th {\n",
       "        vertical-align: top;\n",
       "    }\n",
       "\n",
       "    .dataframe thead th {\n",
       "        text-align: right;\n",
       "    }\n",
       "</style>\n",
       "<table border=\"1\" class=\"dataframe\">\n",
       "  <thead>\n",
       "    <tr style=\"text-align: right;\">\n",
       "      <th></th>\n",
       "      <th>discipline</th>\n",
       "      <th>event</th>\n",
       "      <th>event_gender</th>\n",
       "      <th>event_type</th>\n",
       "      <th>medal_type</th>\n",
       "      <th>name</th>\n",
       "      <th>country_code</th>\n",
       "      <th>country</th>\n",
       "      <th>city</th>\n",
       "      <th>event_year</th>\n",
       "    </tr>\n",
       "  </thead>\n",
       "  <tbody>\n",
       "    <tr>\n",
       "      <th>0</th>\n",
       "      <td>Cycling Road</td>\n",
       "      <td>Men Individual Time Trial</td>\n",
       "      <td>Male</td>\n",
       "      <td>Athlete</td>\n",
       "      <td>Gold</td>\n",
       "      <td>Evenepoel Remco</td>\n",
       "      <td>BEL</td>\n",
       "      <td>Belgium</td>\n",
       "      <td>Paris</td>\n",
       "      <td>2024</td>\n",
       "    </tr>\n",
       "  </tbody>\n",
       "</table>\n",
       "</div>"
      ],
      "text/plain": [
       "     discipline                      event event_gender event_type medal_type  \\\n",
       "0  Cycling Road  Men Individual Time Trial         Male    Athlete       Gold   \n",
       "\n",
       "              name country_code  country   city event_year  \n",
       "0  Evenepoel Remco          BEL  Belgium  Paris       2024  "
      ]
     },
     "execution_count": 128,
     "metadata": {},
     "output_type": "execute_result"
    }
   ],
   "source": [
    "df_final.head(1)"
   ]
  },
  {
   "cell_type": "markdown",
   "id": "5dd89522",
   "metadata": {
    "papermill": {
     "duration": 0.072114,
     "end_time": "2024-08-31T14:14:38.744982",
     "exception": false,
     "start_time": "2024-08-31T14:14:38.672868",
     "status": "completed"
    },
    "tags": []
   },
   "source": [
    "Notics event column. In some entries gender is at the very last place and in other entries it is the first word. This will create separate data points for the same event. I'm making all the string uniform where gender will be placed at frist and the rest of the strings as it is."
   ]
  },
  {
   "cell_type": "code",
   "execution_count": 129,
   "id": "47d2ea68",
   "metadata": {
    "execution": {
     "iopub.execute_input": "2024-08-31T14:14:38.893326Z",
     "iopub.status.busy": "2024-08-31T14:14:38.892388Z",
     "iopub.status.idle": "2024-08-31T14:14:38.981386Z",
     "shell.execute_reply": "2024-08-31T14:14:38.978900Z"
    },
    "papermill": {
     "duration": 0.168893,
     "end_time": "2024-08-31T14:14:38.984618",
     "exception": false,
     "start_time": "2024-08-31T14:14:38.815725",
     "status": "completed"
    },
    "tags": []
   },
   "outputs": [],
   "source": [
    "# keep gender words at the first place and then attach the rest of the strings\n",
    "\n",
    "keywords = ['Women', 'Men', 'Mixed', 'Open']\n",
    "df_final['event'] = df_final['event'].apply(\n",
    "    lambda x: ' '.join([kw for kw in keywords if kw in x] + [part for part in x.split() if part not in keywords])\n",
    ")"
   ]
  },
  {
   "cell_type": "code",
   "execution_count": 130,
   "id": "a41f53a3",
   "metadata": {
    "execution": {
     "iopub.execute_input": "2024-08-31T14:14:39.137624Z",
     "iopub.status.busy": "2024-08-31T14:14:39.137146Z",
     "iopub.status.idle": "2024-08-31T14:14:39.148633Z",
     "shell.execute_reply": "2024-08-31T14:14:39.147154Z"
    },
    "papermill": {
     "duration": 0.088869,
     "end_time": "2024-08-31T14:14:39.151366",
     "exception": false,
     "start_time": "2024-08-31T14:14:39.062497",
     "status": "completed"
    },
    "tags": []
   },
   "outputs": [
    {
     "data": {
      "text/plain": [
       "24011    Men Heavyweight - Two Hand Lift\n",
       "Name: event, dtype: object"
      ]
     },
     "execution_count": 130,
     "metadata": {},
     "output_type": "execute_result"
    }
   ],
   "source": [
    "df_final['event'].tail(1)"
   ]
  },
  {
   "cell_type": "code",
   "execution_count": 131,
   "id": "4b00cac4",
   "metadata": {
    "execution": {
     "iopub.execute_input": "2024-08-31T14:14:39.300891Z",
     "iopub.status.busy": "2024-08-31T14:14:39.300359Z",
     "iopub.status.idle": "2024-08-31T14:14:39.501640Z",
     "shell.execute_reply": "2024-08-31T14:14:39.500127Z"
    },
    "papermill": {
     "duration": 0.280185,
     "end_time": "2024-08-31T14:14:39.505202",
     "exception": false,
     "start_time": "2024-08-31T14:14:39.225017",
     "status": "completed"
    },
    "tags": []
   },
   "outputs": [],
   "source": [
    "df_final.to_csv('olympics_1896_2024.csv', index = False)"
   ]
  },
  {
   "cell_type": "markdown",
   "id": "47ce26f6",
   "metadata": {
    "papermill": {
     "duration": 0.071181,
     "end_time": "2024-08-31T14:14:39.650352",
     "exception": false,
     "start_time": "2024-08-31T14:14:39.579171",
     "status": "completed"
    },
    "tags": []
   },
   "source": [
    "# We have the final dataset. Up to date Olympics data from 1896 to 2024.\n",
    "# I'll fix some formatting issues in excel and upload it on Kaggle."
   ]
  },
  {
   "cell_type": "code",
   "execution_count": null,
   "id": "94426130",
   "metadata": {
    "papermill": {
     "duration": 0.068717,
     "end_time": "2024-08-31T14:14:39.789399",
     "exception": false,
     "start_time": "2024-08-31T14:14:39.720682",
     "status": "completed"
    },
    "tags": []
   },
   "outputs": [],
   "source": []
  }
 ],
 "metadata": {
  "kaggle": {
   "accelerator": "none",
   "dataSources": [
    {
     "datasetId": 1475786,
     "sourceId": 3445521,
     "sourceType": "datasetVersion"
    },
    {
     "datasetId": 5483761,
     "sourceId": 9088069,
     "sourceType": "datasetVersion"
    },
    {
     "datasetId": 5274150,
     "sourceId": 9262003,
     "sourceType": "datasetVersion"
    }
   ],
   "dockerImageVersionId": 30746,
   "isGpuEnabled": false,
   "isInternetEnabled": true,
   "language": "python",
   "sourceType": "notebook"
  },
  "kernelspec": {
   "display_name": "Python 3",
   "language": "python",
   "name": "python3"
  },
  "language_info": {
   "codemirror_mode": {
    "name": "ipython",
    "version": 3
   },
   "file_extension": ".py",
   "mimetype": "text/x-python",
   "name": "python",
   "nbconvert_exporter": "python",
   "pygments_lexer": "ipython3",
   "version": "3.10.13"
  },
  "papermill": {
   "default_parameters": {},
   "duration": 35.890818,
   "end_time": "2024-08-31T14:14:40.686278",
   "environment_variables": {},
   "exception": null,
   "input_path": "__notebook__.ipynb",
   "output_path": "__notebook__.ipynb",
   "parameters": {},
   "start_time": "2024-08-31T14:14:04.795460",
   "version": "2.5.0"
  }
 },
 "nbformat": 4,
 "nbformat_minor": 5
}
